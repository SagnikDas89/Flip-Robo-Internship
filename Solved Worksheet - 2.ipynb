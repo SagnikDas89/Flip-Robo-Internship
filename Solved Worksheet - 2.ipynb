{
 "cells": [
  {
   "cell_type": "code",
   "execution_count": null,
   "metadata": {},
   "outputs": [],
   "source": [
    "1."
   ]
  },
  {
   "cell_type": "code",
   "execution_count": 1,
   "metadata": {},
   "outputs": [
    {
     "name": "stdout",
     "output_type": "stream",
     "text": [
      "Requirement already satisfied: selenium in c:\\users\\sagnik das\\anaconda3\\lib\\site-packages (3.141.0)\n",
      "Requirement already satisfied: urllib3 in c:\\users\\sagnik das\\anaconda3\\lib\\site-packages (from selenium) (1.25.11)\n"
     ]
    }
   ],
   "source": [
    "# lets first install the selinium library\n",
    "! pip install selenium"
   ]
  },
  {
   "cell_type": "code",
   "execution_count": 2,
   "metadata": {},
   "outputs": [],
   "source": [
    "# lets now import all the required libraries\n",
    "import selenium\n",
    "import pandas as pd\n",
    "from selenium import webdriver"
   ]
  },
  {
   "cell_type": "code",
   "execution_count": null,
   "metadata": {},
   "outputs": [],
   "source": [
    "# Lets first connect to the web driver\n",
    "driver = webdriver.Chrome(r\"c:\\Users\\SagnikDas\\Donloads\\chromedriver_win64.exe\")"
   ]
  },
  {
   "cell_type": "code",
   "execution_count": 3,
   "metadata": {},
   "outputs": [],
   "source": [
    "# Lets first connect to the web driver\n",
    "driver = webdriver.Chrome(\"chromedriver.exe\") "
   ]
  },
  {
   "cell_type": "code",
   "execution_count": 4,
   "metadata": {},
   "outputs": [],
   "source": [
    "url = 'https://www.naukri.com'\n",
    "driver.get(url)"
   ]
  },
  {
   "cell_type": "code",
   "execution_count": 6,
   "metadata": {},
   "outputs": [
    {
     "data": {
      "text/plain": [
       "<selenium.webdriver.remote.webelement.WebElement (session=\"3dc3c75e75f37c9d92349328aa70db10\", element=\"7689a15d-bdd1-46c6-a80b-c21ed18fb37f\")>"
      ]
     },
     "execution_count": 6,
     "metadata": {},
     "output_type": "execute_result"
    }
   ],
   "source": [
    "search_job = driver.find_element_by_id('qsb-keyword-sugg')\n",
    "search_job"
   ]
  },
  {
   "cell_type": "code",
   "execution_count": 7,
   "metadata": {},
   "outputs": [],
   "source": [
    "# write on search bar\n",
    "search_job.send_keys(\"Data Analyst\")"
   ]
  },
  {
   "cell_type": "code",
   "execution_count": 8,
   "metadata": {},
   "outputs": [],
   "source": [
    "# finding element for job location bar\n",
    "search_loc = driver.find_element_by_id(\"qsb-location-sugg\")\n",
    "search_loc.send_keys(\"Bangalore\")"
   ]
  },
  {
   "cell_type": "code",
   "execution_count": 9,
   "metadata": {},
   "outputs": [],
   "source": [
    "# do click using class_name function\n",
    "search_btn = driver.find_element_by_class_name('btn')\n",
    "search_btn.click()"
   ]
  },
  {
   "cell_type": "code",
   "execution_count": 10,
   "metadata": {},
   "outputs": [
    {
     "data": {
      "text/plain": [
       "[<selenium.webdriver.remote.webelement.WebElement (session=\"3dc3c75e75f37c9d92349328aa70db10\", element=\"50a38b81-437c-4f69-b5e1-77e0bc6bcd1f\")>,\n",
       " <selenium.webdriver.remote.webelement.WebElement (session=\"3dc3c75e75f37c9d92349328aa70db10\", element=\"085844c0-7a34-4cba-a782-9c24938c8aaf\")>,\n",
       " <selenium.webdriver.remote.webelement.WebElement (session=\"3dc3c75e75f37c9d92349328aa70db10\", element=\"e63eeac4-0983-47d8-84d2-23c907fcff34\")>,\n",
       " <selenium.webdriver.remote.webelement.WebElement (session=\"3dc3c75e75f37c9d92349328aa70db10\", element=\"81b84cd0-0f99-478c-84a1-e10f2790a1a0\")>,\n",
       " <selenium.webdriver.remote.webelement.WebElement (session=\"3dc3c75e75f37c9d92349328aa70db10\", element=\"b4209be9-6193-4002-8a46-b75ab20c7732\")>,\n",
       " <selenium.webdriver.remote.webelement.WebElement (session=\"3dc3c75e75f37c9d92349328aa70db10\", element=\"09aad971-ba4c-421e-a831-af8dfb2d3bc1\")>,\n",
       " <selenium.webdriver.remote.webelement.WebElement (session=\"3dc3c75e75f37c9d92349328aa70db10\", element=\"eafce979-328a-4e11-bd4f-180e237915a2\")>,\n",
       " <selenium.webdriver.remote.webelement.WebElement (session=\"3dc3c75e75f37c9d92349328aa70db10\", element=\"8a7944d3-9c76-4a49-ba80-499abf40051a\")>,\n",
       " <selenium.webdriver.remote.webelement.WebElement (session=\"3dc3c75e75f37c9d92349328aa70db10\", element=\"d1c4d26e-54e2-4cd5-a2b8-1801f538510c\")>,\n",
       " <selenium.webdriver.remote.webelement.WebElement (session=\"3dc3c75e75f37c9d92349328aa70db10\", element=\"d1102f56-60c7-4635-a57b-4a26550fd8cf\")>,\n",
       " <selenium.webdriver.remote.webelement.WebElement (session=\"3dc3c75e75f37c9d92349328aa70db10\", element=\"8bfa9f5e-1d7d-45c0-b0bb-66d20d574947\")>,\n",
       " <selenium.webdriver.remote.webelement.WebElement (session=\"3dc3c75e75f37c9d92349328aa70db10\", element=\"51f9be98-b38d-4b05-910a-cf2b36e762d8\")>,\n",
       " <selenium.webdriver.remote.webelement.WebElement (session=\"3dc3c75e75f37c9d92349328aa70db10\", element=\"2c4a9f6b-26a7-40e0-86a9-e325e805a4d8\")>,\n",
       " <selenium.webdriver.remote.webelement.WebElement (session=\"3dc3c75e75f37c9d92349328aa70db10\", element=\"626de406-8874-421a-9271-6e439259f7e5\")>,\n",
       " <selenium.webdriver.remote.webelement.WebElement (session=\"3dc3c75e75f37c9d92349328aa70db10\", element=\"499ed0a5-1807-4912-ac6d-bacf1ed27e74\")>,\n",
       " <selenium.webdriver.remote.webelement.WebElement (session=\"3dc3c75e75f37c9d92349328aa70db10\", element=\"dcda1ca2-fdc1-464c-9392-6d4b726e2284\")>,\n",
       " <selenium.webdriver.remote.webelement.WebElement (session=\"3dc3c75e75f37c9d92349328aa70db10\", element=\"4a22c1b8-0ef5-449b-9dd9-9718e82053eb\")>,\n",
       " <selenium.webdriver.remote.webelement.WebElement (session=\"3dc3c75e75f37c9d92349328aa70db10\", element=\"8b74612b-41a8-41e0-9145-a3a7a61fd35e\")>,\n",
       " <selenium.webdriver.remote.webelement.WebElement (session=\"3dc3c75e75f37c9d92349328aa70db10\", element=\"1bd97c1b-1bc1-4781-97f6-62a454e5c7b2\")>,\n",
       " <selenium.webdriver.remote.webelement.WebElement (session=\"3dc3c75e75f37c9d92349328aa70db10\", element=\"d6cf201d-cdec-4d29-aa87-1b222828aeb0\")>]"
      ]
     },
     "execution_count": 10,
     "metadata": {},
     "output_type": "execute_result"
    }
   ],
   "source": [
    "# so lets extract all the tags having the job-titles\n",
    "titles_tags=driver.find_elements_by_xpath(\"//a[@class='title fw500 ellipsis']\")\n",
    "titles_tags"
   ]
  },
  {
   "cell_type": "code",
   "execution_count": 11,
   "metadata": {},
   "outputs": [
    {
     "data": {
      "text/plain": [
       "['Data Scientist / Data Analyst -Business Analyst',\n",
       " 'Business Data Analyst',\n",
       " 'Business Data Analyst - Treasury Markets,',\n",
       " 'Network Design & Data Analyst',\n",
       " 'Advanced Business Analyst I - Data Analytics',\n",
       " 'Advanced Business Analyst II - Data Analytics',\n",
       " 'BI Developer / Senior Data Analyst',\n",
       " 'Data Analyst',\n",
       " 'Data Analyst',\n",
       " 'Data Analyst',\n",
       " 'Data Analyst',\n",
       " 'Senior Data Analyst Python, ML - Bangalore',\n",
       " 'Data Analyst,1',\n",
       " 'Consultant - Data Analyst',\n",
       " 'Junior Data Analyst',\n",
       " 'Senior Data Analyst',\n",
       " 'Assistant Vice President - MIS & Reporting ( Business Data Analyst)',\n",
       " 'Data Analyst',\n",
       " 'Hot Vacancies - Senior Data Analyst, Bengaluru',\n",
       " 'Data analyst']"
      ]
     },
     "execution_count": 11,
     "metadata": {},
     "output_type": "execute_result"
    }
   ],
   "source": [
    "# Now the text of the job title is inside the tags extracted above\n",
    "\n",
    "# so we will run a loop to iterate over the tags extracted above and extract the text inside them.\n",
    "job_titles=[]\n",
    "for i in titles_tags:\n",
    "\n",
    "    job_titles.append(i.text)\n",
    "job_titles "
   ]
  },
  {
   "cell_type": "code",
   "execution_count": 12,
   "metadata": {},
   "outputs": [
    {
     "data": {
      "text/plain": [
       "[<selenium.webdriver.remote.webelement.WebElement (session=\"3dc3c75e75f37c9d92349328aa70db10\", element=\"bcd0326f-3bb2-40fd-a5c5-4843e00822b0\")>,\n",
       " <selenium.webdriver.remote.webelement.WebElement (session=\"3dc3c75e75f37c9d92349328aa70db10\", element=\"9054256f-455c-496d-9261-689989ff37a9\")>,\n",
       " <selenium.webdriver.remote.webelement.WebElement (session=\"3dc3c75e75f37c9d92349328aa70db10\", element=\"47d6787d-07fd-49c0-8f80-728e147216e5\")>,\n",
       " <selenium.webdriver.remote.webelement.WebElement (session=\"3dc3c75e75f37c9d92349328aa70db10\", element=\"498be7a4-3e61-4e3d-948d-d009d7f5d7fb\")>,\n",
       " <selenium.webdriver.remote.webelement.WebElement (session=\"3dc3c75e75f37c9d92349328aa70db10\", element=\"dbcd5709-93e8-47b0-85de-c33ecf51e927\")>,\n",
       " <selenium.webdriver.remote.webelement.WebElement (session=\"3dc3c75e75f37c9d92349328aa70db10\", element=\"eba447f3-14a5-4ee9-86c5-aae222a2812f\")>,\n",
       " <selenium.webdriver.remote.webelement.WebElement (session=\"3dc3c75e75f37c9d92349328aa70db10\", element=\"fe9078ff-f0ae-4fa6-8272-c8acd5bb3dd8\")>,\n",
       " <selenium.webdriver.remote.webelement.WebElement (session=\"3dc3c75e75f37c9d92349328aa70db10\", element=\"d591c447-71c3-4af1-ad38-08ea706ed139\")>,\n",
       " <selenium.webdriver.remote.webelement.WebElement (session=\"3dc3c75e75f37c9d92349328aa70db10\", element=\"e93cb3c4-9f31-49b3-a815-a501155dcea6\")>,\n",
       " <selenium.webdriver.remote.webelement.WebElement (session=\"3dc3c75e75f37c9d92349328aa70db10\", element=\"c8327ef6-8b99-4b2a-88c0-ae0cc92d2610\")>,\n",
       " <selenium.webdriver.remote.webelement.WebElement (session=\"3dc3c75e75f37c9d92349328aa70db10\", element=\"3952632f-555f-4a3d-966f-33ac4c67152e\")>,\n",
       " <selenium.webdriver.remote.webelement.WebElement (session=\"3dc3c75e75f37c9d92349328aa70db10\", element=\"9ce88d58-61bd-4612-bdd6-52e7dd2640c6\")>,\n",
       " <selenium.webdriver.remote.webelement.WebElement (session=\"3dc3c75e75f37c9d92349328aa70db10\", element=\"b9047614-d632-43dd-badc-134b43482159\")>,\n",
       " <selenium.webdriver.remote.webelement.WebElement (session=\"3dc3c75e75f37c9d92349328aa70db10\", element=\"2c305bcb-dd3b-48fd-ba33-8c9695c972bd\")>,\n",
       " <selenium.webdriver.remote.webelement.WebElement (session=\"3dc3c75e75f37c9d92349328aa70db10\", element=\"d0b6f9fe-e4de-4ffb-817b-116ce8317568\")>,\n",
       " <selenium.webdriver.remote.webelement.WebElement (session=\"3dc3c75e75f37c9d92349328aa70db10\", element=\"ec7a7027-86e1-4d7b-bb8d-db93123d9e04\")>,\n",
       " <selenium.webdriver.remote.webelement.WebElement (session=\"3dc3c75e75f37c9d92349328aa70db10\", element=\"23255436-7410-40f2-a505-e55c4b2be5b0\")>,\n",
       " <selenium.webdriver.remote.webelement.WebElement (session=\"3dc3c75e75f37c9d92349328aa70db10\", element=\"2046480c-d75e-4f2e-b6d8-f639e2eb357a\")>,\n",
       " <selenium.webdriver.remote.webelement.WebElement (session=\"3dc3c75e75f37c9d92349328aa70db10\", element=\"4f77aed1-bdca-4f54-914d-7c78a03201d3\")>,\n",
       " <selenium.webdriver.remote.webelement.WebElement (session=\"3dc3c75e75f37c9d92349328aa70db10\", element=\"208643ee-f0d8-4941-a64f-00201531427b\")>]"
      ]
     },
     "execution_count": 12,
     "metadata": {},
     "output_type": "execute_result"
    }
   ],
   "source": [
    "# so lets extract all the tags having the company names\n",
    "companies_tags=driver.find_elements_by_xpath(\"//a[@class='subTitle ellipsis fleft']\")\n",
    "companies_tags"
   ]
  },
  {
   "cell_type": "code",
   "execution_count": 13,
   "metadata": {},
   "outputs": [
    {
     "data": {
      "text/plain": [
       "['Inflexion Analytix Private Limited',\n",
       " 'NetApp',\n",
       " 'Luxoft',\n",
       " 'Dell International Services India Private Limited',\n",
       " 'Novo Nordisk India',\n",
       " 'Novo Nordisk India',\n",
       " 'Brandmuscle',\n",
       " 'Trigent Software',\n",
       " 'Trigent Software',\n",
       " 'Novel Office',\n",
       " 'CoinSwitch.co',\n",
       " '2coms',\n",
       " 'Epsilon',\n",
       " 'Flipkart Internet Private Limited',\n",
       " 'Simplilearn',\n",
       " 'Liventus, Inc.',\n",
       " 'INTERTRUSTVITEOS CORPORATE AND FUND SERVICES PVT. LTD.',\n",
       " 'IBM India Pvt. Limited',\n",
       " 'WSP CONSULTANTS INDIA PRIVATE LIMITED',\n",
       " 'Harman Connected Services Corporation India Pvt.']"
      ]
     },
     "execution_count": 13,
     "metadata": {},
     "output_type": "execute_result"
    }
   ],
   "source": [
    "company_names=[]\n",
    "\n",
    "for i in companies_tags:\n",
    "    company_names.append(i.text)\n",
    "company_names  "
   ]
  },
  {
   "cell_type": "code",
   "execution_count": 14,
   "metadata": {},
   "outputs": [
    {
     "data": {
      "text/plain": [
       "[<selenium.webdriver.remote.webelement.WebElement (session=\"3dc3c75e75f37c9d92349328aa70db10\", element=\"1c6aa287-c9e1-4570-b8b2-c936e7b2f00d\")>,\n",
       " <selenium.webdriver.remote.webelement.WebElement (session=\"3dc3c75e75f37c9d92349328aa70db10\", element=\"e9898ded-8014-492b-a287-3db518868b49\")>,\n",
       " <selenium.webdriver.remote.webelement.WebElement (session=\"3dc3c75e75f37c9d92349328aa70db10\", element=\"c31b117e-5a7a-4b3e-b4bf-935d195a98ce\")>,\n",
       " <selenium.webdriver.remote.webelement.WebElement (session=\"3dc3c75e75f37c9d92349328aa70db10\", element=\"e2022e56-5f0f-4104-85d1-49f109c14c70\")>,\n",
       " <selenium.webdriver.remote.webelement.WebElement (session=\"3dc3c75e75f37c9d92349328aa70db10\", element=\"a16294c7-6a0d-4f00-80db-c89410b1a16c\")>,\n",
       " <selenium.webdriver.remote.webelement.WebElement (session=\"3dc3c75e75f37c9d92349328aa70db10\", element=\"7a0bb81e-c6bc-439e-97b4-3a15c87a7768\")>,\n",
       " <selenium.webdriver.remote.webelement.WebElement (session=\"3dc3c75e75f37c9d92349328aa70db10\", element=\"079d678d-460b-4054-a965-520520d49902\")>,\n",
       " <selenium.webdriver.remote.webelement.WebElement (session=\"3dc3c75e75f37c9d92349328aa70db10\", element=\"261f189f-3539-4f9f-99de-8bdaee20ab2c\")>,\n",
       " <selenium.webdriver.remote.webelement.WebElement (session=\"3dc3c75e75f37c9d92349328aa70db10\", element=\"08124500-37e9-4aab-abf6-36960553161c\")>,\n",
       " <selenium.webdriver.remote.webelement.WebElement (session=\"3dc3c75e75f37c9d92349328aa70db10\", element=\"88739795-b172-47e9-9119-5d3a26db3ad3\")>,\n",
       " <selenium.webdriver.remote.webelement.WebElement (session=\"3dc3c75e75f37c9d92349328aa70db10\", element=\"394472cc-2b90-426a-b287-0f8446a91354\")>,\n",
       " <selenium.webdriver.remote.webelement.WebElement (session=\"3dc3c75e75f37c9d92349328aa70db10\", element=\"c98e91d3-17ee-4e1e-b6f9-57a71b4a5e3a\")>,\n",
       " <selenium.webdriver.remote.webelement.WebElement (session=\"3dc3c75e75f37c9d92349328aa70db10\", element=\"7b0ec180-c3f3-413a-bd0c-362d3d38a781\")>,\n",
       " <selenium.webdriver.remote.webelement.WebElement (session=\"3dc3c75e75f37c9d92349328aa70db10\", element=\"b5593bc0-74b5-4992-8ad0-4aaf7dab283d\")>,\n",
       " <selenium.webdriver.remote.webelement.WebElement (session=\"3dc3c75e75f37c9d92349328aa70db10\", element=\"d6070a4f-5731-4355-bc0d-46792ad92985\")>,\n",
       " <selenium.webdriver.remote.webelement.WebElement (session=\"3dc3c75e75f37c9d92349328aa70db10\", element=\"c3bcb0d1-5067-4f26-944d-7229b8f20ba2\")>,\n",
       " <selenium.webdriver.remote.webelement.WebElement (session=\"3dc3c75e75f37c9d92349328aa70db10\", element=\"d51a700f-c526-446d-bdd1-8b4d71cc9474\")>,\n",
       " <selenium.webdriver.remote.webelement.WebElement (session=\"3dc3c75e75f37c9d92349328aa70db10\", element=\"29b28279-2816-44ab-8ad4-3cf6cdf59581\")>,\n",
       " <selenium.webdriver.remote.webelement.WebElement (session=\"3dc3c75e75f37c9d92349328aa70db10\", element=\"4145b305-5f40-46e2-886d-b82ed55af4d6\")>,\n",
       " <selenium.webdriver.remote.webelement.WebElement (session=\"3dc3c75e75f37c9d92349328aa70db10\", element=\"5a17375e-8259-4757-ae57-474d34768e70\")>]"
      ]
     },
     "execution_count": 14,
     "metadata": {},
     "output_type": "execute_result"
    }
   ],
   "source": [
    "# so lets extract all the tags having the experience required data\n",
    "experience_tags=driver.find_elements_by_xpath(\"//li[@class='fleft grey-text br2 placeHolderLi experience']//span\")\n",
    "experience_tags"
   ]
  },
  {
   "cell_type": "code",
   "execution_count": 15,
   "metadata": {},
   "outputs": [
    {
     "data": {
      "text/plain": [
       "['0-3 Yrs',\n",
       " '3-6 Yrs',\n",
       " '3-6 Yrs',\n",
       " '0-2 Yrs',\n",
       " '7-12 Yrs',\n",
       " '8-13 Yrs',\n",
       " '3-6 Yrs',\n",
       " '8-13 Yrs',\n",
       " '8-13 Yrs',\n",
       " '0-3 Yrs',\n",
       " '4-9 Yrs',\n",
       " '2-7 Yrs',\n",
       " '0-2 Yrs',\n",
       " '0-2 Yrs',\n",
       " '0-2 Yrs',\n",
       " '5-8 Yrs',\n",
       " '10-15 Yrs',\n",
       " '0-1 Yrs',\n",
       " '5-10 Yrs',\n",
       " '5-8 Yrs']"
      ]
     },
     "execution_count": 15,
     "metadata": {},
     "output_type": "execute_result"
    }
   ],
   "source": [
    "experience_list=[]\n",
    "for i in experience_tags:\n",
    "    experience_list.append(i.text)\n",
    "experience_list"
   ]
  },
  {
   "cell_type": "code",
   "execution_count": 16,
   "metadata": {},
   "outputs": [
    {
     "data": {
      "text/plain": [
       "[<selenium.webdriver.remote.webelement.WebElement (session=\"3dc3c75e75f37c9d92349328aa70db10\", element=\"6f8a547c-4c8e-436e-a00e-b4ca51926f57\")>,\n",
       " <selenium.webdriver.remote.webelement.WebElement (session=\"3dc3c75e75f37c9d92349328aa70db10\", element=\"8c489978-618f-464d-bbc1-9ddd7664b2f5\")>,\n",
       " <selenium.webdriver.remote.webelement.WebElement (session=\"3dc3c75e75f37c9d92349328aa70db10\", element=\"213ec767-66eb-4c05-827a-382073c74bbc\")>,\n",
       " <selenium.webdriver.remote.webelement.WebElement (session=\"3dc3c75e75f37c9d92349328aa70db10\", element=\"616c2229-2062-48c1-970d-abe8c517a40c\")>,\n",
       " <selenium.webdriver.remote.webelement.WebElement (session=\"3dc3c75e75f37c9d92349328aa70db10\", element=\"36158e93-2d38-462e-a24a-b58ee12b0f86\")>,\n",
       " <selenium.webdriver.remote.webelement.WebElement (session=\"3dc3c75e75f37c9d92349328aa70db10\", element=\"acd098b8-fbc3-449d-b01e-5a9aa7293e96\")>,\n",
       " <selenium.webdriver.remote.webelement.WebElement (session=\"3dc3c75e75f37c9d92349328aa70db10\", element=\"493f7993-bf6a-411f-98f1-7b3af5230a2c\")>,\n",
       " <selenium.webdriver.remote.webelement.WebElement (session=\"3dc3c75e75f37c9d92349328aa70db10\", element=\"bcdf9e6a-4a21-4df6-a41d-e7f7b6062c7d\")>,\n",
       " <selenium.webdriver.remote.webelement.WebElement (session=\"3dc3c75e75f37c9d92349328aa70db10\", element=\"67571934-0785-4e63-bed3-2b288e14d52a\")>,\n",
       " <selenium.webdriver.remote.webelement.WebElement (session=\"3dc3c75e75f37c9d92349328aa70db10\", element=\"2b216718-9507-4265-b5f6-c4d294e53765\")>,\n",
       " <selenium.webdriver.remote.webelement.WebElement (session=\"3dc3c75e75f37c9d92349328aa70db10\", element=\"d4aba4f9-69a1-4d7b-b320-f93fcfbf6f4d\")>,\n",
       " <selenium.webdriver.remote.webelement.WebElement (session=\"3dc3c75e75f37c9d92349328aa70db10\", element=\"69824200-13eb-4287-920e-5cb2f6b9dbb8\")>,\n",
       " <selenium.webdriver.remote.webelement.WebElement (session=\"3dc3c75e75f37c9d92349328aa70db10\", element=\"21a20e6d-4d02-45c8-8a15-b5725cb3dd63\")>,\n",
       " <selenium.webdriver.remote.webelement.WebElement (session=\"3dc3c75e75f37c9d92349328aa70db10\", element=\"cf14feef-3d66-43a1-9f36-292cf242a5ff\")>,\n",
       " <selenium.webdriver.remote.webelement.WebElement (session=\"3dc3c75e75f37c9d92349328aa70db10\", element=\"7157d287-5ee5-4b6f-94a9-eb7ee2f20125\")>,\n",
       " <selenium.webdriver.remote.webelement.WebElement (session=\"3dc3c75e75f37c9d92349328aa70db10\", element=\"473a39bc-9de3-404c-ae60-02d48ab5b584\")>,\n",
       " <selenium.webdriver.remote.webelement.WebElement (session=\"3dc3c75e75f37c9d92349328aa70db10\", element=\"4b015341-5562-4432-a674-6a31b1cf74bf\")>,\n",
       " <selenium.webdriver.remote.webelement.WebElement (session=\"3dc3c75e75f37c9d92349328aa70db10\", element=\"6d46dbbb-9edd-44f1-88a3-4ad27365be0c\")>,\n",
       " <selenium.webdriver.remote.webelement.WebElement (session=\"3dc3c75e75f37c9d92349328aa70db10\", element=\"7df95bfc-8cfa-4042-a83a-63cb0031c163\")>,\n",
       " <selenium.webdriver.remote.webelement.WebElement (session=\"3dc3c75e75f37c9d92349328aa70db10\", element=\"23e7340b-25cc-4de5-b222-e8999fa42940\")>,\n",
       " <selenium.webdriver.remote.webelement.WebElement (session=\"3dc3c75e75f37c9d92349328aa70db10\", element=\"64721901-eab4-42ca-b477-29d29e7d81d5\")>]"
      ]
     },
     "execution_count": 16,
     "metadata": {},
     "output_type": "execute_result"
    }
   ],
   "source": [
    "locations_tags=driver.find_elements_by_xpath(\"//li[@class='fleft grey-text br2 placeHolderLi location']//span\")\n",
    "locations_tags"
   ]
  },
  {
   "cell_type": "code",
   "execution_count": 17,
   "metadata": {},
   "outputs": [
    {
     "data": {
      "text/plain": [
       "['Hyderabad/Secunderabad, Chennai, Bangalore/Bengaluru',\n",
       " 'Bangalore/Bengaluru',\n",
       " 'Bangalore/Bengaluru',\n",
       " 'Bangalore/Bengaluru',\n",
       " 'Bangalore/Bengaluru',\n",
       " 'Bangalore/Bengaluru',\n",
       " 'Bangalore/Bengaluru',\n",
       " 'Bangalore/Bengaluru',\n",
       " 'Bangalore/Bengaluru',\n",
       " 'Bangalore/Bengaluru',\n",
       " 'Bangalore/Bengaluru',\n",
       " 'Bangalore/Bengaluru, Bangalore',\n",
       " 'Bangalore/Bengaluru',\n",
       " 'Bangalore/Bengaluru',\n",
       " 'Bangalore/Bengaluru(Sector 2 HSR Layout)',\n",
       " '(WFH during Covid)',\n",
       " 'Bangalore/Bengaluru(2nd Phase JP Nagar)',\n",
       " 'Mumbai, Bangalore/Bengaluru',\n",
       " 'Bangalore/Bengaluru',\n",
       " 'Bangalore/Bengaluru',\n",
       " 'Bangalore/Bengaluru']"
      ]
     },
     "execution_count": 17,
     "metadata": {},
     "output_type": "execute_result"
    }
   ],
   "source": [
    "locations_list=[]\n",
    "for i in locations_tags:\n",
    "    locations_list.append(i.text)\n",
    "locations_list    "
   ]
  },
  {
   "cell_type": "code",
   "execution_count": 18,
   "metadata": {},
   "outputs": [
    {
     "name": "stdout",
     "output_type": "stream",
     "text": [
      "20 20 20 21\n"
     ]
    }
   ],
   "source": [
    "print(len(job_titles),len(company_names),len(experience_list),len(locations_list))"
   ]
  },
  {
   "cell_type": "code",
   "execution_count": 19,
   "metadata": {},
   "outputs": [
    {
     "ename": "ValueError",
     "evalue": "Length of values (21) does not match length of index (20)",
     "output_type": "error",
     "traceback": [
      "\u001b[1;31m---------------------------------------------------------------------------\u001b[0m",
      "\u001b[1;31mValueError\u001b[0m                                Traceback (most recent call last)",
      "\u001b[1;32m<ipython-input-19-3b1da3849b7f>\u001b[0m in \u001b[0;36m<module>\u001b[1;34m\u001b[0m\n\u001b[0;32m      4\u001b[0m \u001b[0mjobs\u001b[0m\u001b[1;33m[\u001b[0m\u001b[1;34m'company'\u001b[0m\u001b[1;33m]\u001b[0m\u001b[1;33m=\u001b[0m\u001b[0mcompany_names\u001b[0m\u001b[1;33m\u001b[0m\u001b[1;33m\u001b[0m\u001b[0m\n\u001b[0;32m      5\u001b[0m \u001b[0mjobs\u001b[0m\u001b[1;33m[\u001b[0m\u001b[1;34m'experience_required'\u001b[0m\u001b[1;33m]\u001b[0m\u001b[1;33m=\u001b[0m\u001b[0mexperience_list\u001b[0m\u001b[1;33m\u001b[0m\u001b[1;33m\u001b[0m\u001b[0m\n\u001b[1;32m----> 6\u001b[1;33m \u001b[0mjobs\u001b[0m\u001b[1;33m[\u001b[0m\u001b[1;34m'location'\u001b[0m\u001b[1;33m]\u001b[0m\u001b[1;33m=\u001b[0m\u001b[0mlocations_list\u001b[0m\u001b[1;33m\u001b[0m\u001b[1;33m\u001b[0m\u001b[0m\n\u001b[0m",
      "\u001b[1;32m~\\anaconda3\\lib\\site-packages\\pandas\\core\\frame.py\u001b[0m in \u001b[0;36m__setitem__\u001b[1;34m(self, key, value)\u001b[0m\n\u001b[0;32m   3038\u001b[0m         \u001b[1;32melse\u001b[0m\u001b[1;33m:\u001b[0m\u001b[1;33m\u001b[0m\u001b[1;33m\u001b[0m\u001b[0m\n\u001b[0;32m   3039\u001b[0m             \u001b[1;31m# set column\u001b[0m\u001b[1;33m\u001b[0m\u001b[1;33m\u001b[0m\u001b[1;33m\u001b[0m\u001b[0m\n\u001b[1;32m-> 3040\u001b[1;33m             \u001b[0mself\u001b[0m\u001b[1;33m.\u001b[0m\u001b[0m_set_item\u001b[0m\u001b[1;33m(\u001b[0m\u001b[0mkey\u001b[0m\u001b[1;33m,\u001b[0m \u001b[0mvalue\u001b[0m\u001b[1;33m)\u001b[0m\u001b[1;33m\u001b[0m\u001b[1;33m\u001b[0m\u001b[0m\n\u001b[0m\u001b[0;32m   3041\u001b[0m \u001b[1;33m\u001b[0m\u001b[0m\n\u001b[0;32m   3042\u001b[0m     \u001b[1;32mdef\u001b[0m \u001b[0m_setitem_slice\u001b[0m\u001b[1;33m(\u001b[0m\u001b[0mself\u001b[0m\u001b[1;33m,\u001b[0m \u001b[0mkey\u001b[0m\u001b[1;33m:\u001b[0m \u001b[0mslice\u001b[0m\u001b[1;33m,\u001b[0m \u001b[0mvalue\u001b[0m\u001b[1;33m)\u001b[0m\u001b[1;33m:\u001b[0m\u001b[1;33m\u001b[0m\u001b[1;33m\u001b[0m\u001b[0m\n",
      "\u001b[1;32m~\\anaconda3\\lib\\site-packages\\pandas\\core\\frame.py\u001b[0m in \u001b[0;36m_set_item\u001b[1;34m(self, key, value)\u001b[0m\n\u001b[0;32m   3114\u001b[0m         \"\"\"\n\u001b[0;32m   3115\u001b[0m         \u001b[0mself\u001b[0m\u001b[1;33m.\u001b[0m\u001b[0m_ensure_valid_index\u001b[0m\u001b[1;33m(\u001b[0m\u001b[0mvalue\u001b[0m\u001b[1;33m)\u001b[0m\u001b[1;33m\u001b[0m\u001b[1;33m\u001b[0m\u001b[0m\n\u001b[1;32m-> 3116\u001b[1;33m         \u001b[0mvalue\u001b[0m \u001b[1;33m=\u001b[0m \u001b[0mself\u001b[0m\u001b[1;33m.\u001b[0m\u001b[0m_sanitize_column\u001b[0m\u001b[1;33m(\u001b[0m\u001b[0mkey\u001b[0m\u001b[1;33m,\u001b[0m \u001b[0mvalue\u001b[0m\u001b[1;33m)\u001b[0m\u001b[1;33m\u001b[0m\u001b[1;33m\u001b[0m\u001b[0m\n\u001b[0m\u001b[0;32m   3117\u001b[0m         \u001b[0mNDFrame\u001b[0m\u001b[1;33m.\u001b[0m\u001b[0m_set_item\u001b[0m\u001b[1;33m(\u001b[0m\u001b[0mself\u001b[0m\u001b[1;33m,\u001b[0m \u001b[0mkey\u001b[0m\u001b[1;33m,\u001b[0m \u001b[0mvalue\u001b[0m\u001b[1;33m)\u001b[0m\u001b[1;33m\u001b[0m\u001b[1;33m\u001b[0m\u001b[0m\n\u001b[0;32m   3118\u001b[0m \u001b[1;33m\u001b[0m\u001b[0m\n",
      "\u001b[1;32m~\\anaconda3\\lib\\site-packages\\pandas\\core\\frame.py\u001b[0m in \u001b[0;36m_sanitize_column\u001b[1;34m(self, key, value, broadcast)\u001b[0m\n\u001b[0;32m   3762\u001b[0m \u001b[1;33m\u001b[0m\u001b[0m\n\u001b[0;32m   3763\u001b[0m             \u001b[1;31m# turn me into an ndarray\u001b[0m\u001b[1;33m\u001b[0m\u001b[1;33m\u001b[0m\u001b[1;33m\u001b[0m\u001b[0m\n\u001b[1;32m-> 3764\u001b[1;33m             \u001b[0mvalue\u001b[0m \u001b[1;33m=\u001b[0m \u001b[0msanitize_index\u001b[0m\u001b[1;33m(\u001b[0m\u001b[0mvalue\u001b[0m\u001b[1;33m,\u001b[0m \u001b[0mself\u001b[0m\u001b[1;33m.\u001b[0m\u001b[0mindex\u001b[0m\u001b[1;33m)\u001b[0m\u001b[1;33m\u001b[0m\u001b[1;33m\u001b[0m\u001b[0m\n\u001b[0m\u001b[0;32m   3765\u001b[0m             \u001b[1;32mif\u001b[0m \u001b[1;32mnot\u001b[0m \u001b[0misinstance\u001b[0m\u001b[1;33m(\u001b[0m\u001b[0mvalue\u001b[0m\u001b[1;33m,\u001b[0m \u001b[1;33m(\u001b[0m\u001b[0mnp\u001b[0m\u001b[1;33m.\u001b[0m\u001b[0mndarray\u001b[0m\u001b[1;33m,\u001b[0m \u001b[0mIndex\u001b[0m\u001b[1;33m)\u001b[0m\u001b[1;33m)\u001b[0m\u001b[1;33m:\u001b[0m\u001b[1;33m\u001b[0m\u001b[1;33m\u001b[0m\u001b[0m\n\u001b[0;32m   3766\u001b[0m                 \u001b[1;32mif\u001b[0m \u001b[0misinstance\u001b[0m\u001b[1;33m(\u001b[0m\u001b[0mvalue\u001b[0m\u001b[1;33m,\u001b[0m \u001b[0mlist\u001b[0m\u001b[1;33m)\u001b[0m \u001b[1;32mand\u001b[0m \u001b[0mlen\u001b[0m\u001b[1;33m(\u001b[0m\u001b[0mvalue\u001b[0m\u001b[1;33m)\u001b[0m \u001b[1;33m>\u001b[0m \u001b[1;36m0\u001b[0m\u001b[1;33m:\u001b[0m\u001b[1;33m\u001b[0m\u001b[1;33m\u001b[0m\u001b[0m\n",
      "\u001b[1;32m~\\anaconda3\\lib\\site-packages\\pandas\\core\\internals\\construction.py\u001b[0m in \u001b[0;36msanitize_index\u001b[1;34m(data, index)\u001b[0m\n\u001b[0;32m    745\u001b[0m     \"\"\"\n\u001b[0;32m    746\u001b[0m     \u001b[1;32mif\u001b[0m \u001b[0mlen\u001b[0m\u001b[1;33m(\u001b[0m\u001b[0mdata\u001b[0m\u001b[1;33m)\u001b[0m \u001b[1;33m!=\u001b[0m \u001b[0mlen\u001b[0m\u001b[1;33m(\u001b[0m\u001b[0mindex\u001b[0m\u001b[1;33m)\u001b[0m\u001b[1;33m:\u001b[0m\u001b[1;33m\u001b[0m\u001b[1;33m\u001b[0m\u001b[0m\n\u001b[1;32m--> 747\u001b[1;33m         raise ValueError(\n\u001b[0m\u001b[0;32m    748\u001b[0m             \u001b[1;34m\"Length of values \"\u001b[0m\u001b[1;33m\u001b[0m\u001b[1;33m\u001b[0m\u001b[0m\n\u001b[0;32m    749\u001b[0m             \u001b[1;34mf\"({len(data)}) \"\u001b[0m\u001b[1;33m\u001b[0m\u001b[1;33m\u001b[0m\u001b[0m\n",
      "\u001b[1;31mValueError\u001b[0m: Length of values (21) does not match length of index (20)"
     ]
    }
   ],
   "source": [
    "#import pandas as pd\n",
    "jobs=pd.DataFrame({})\n",
    "jobs['title']=job_titles\n",
    "jobs['company']=company_names\n",
    "jobs['experience_required']=experience_list\n",
    "jobs['location']=locations_list"
   ]
  },
  {
   "cell_type": "code",
   "execution_count": null,
   "metadata": {},
   "outputs": [],
   "source": [
    "jobs"
   ]
  },
  {
   "cell_type": "code",
   "execution_count": null,
   "metadata": {},
   "outputs": [],
   "source": []
  },
  {
   "cell_type": "code",
   "execution_count": null,
   "metadata": {},
   "outputs": [],
   "source": []
  },
  {
   "cell_type": "code",
   "execution_count": null,
   "metadata": {},
   "outputs": [],
   "source": []
  },
  {
   "cell_type": "markdown",
   "metadata": {},
   "source": [
    "2."
   ]
  },
  {
   "cell_type": "code",
   "execution_count": 18,
   "metadata": {},
   "outputs": [
    {
     "name": "stdout",
     "output_type": "stream",
     "text": [
      "Requirement already satisfied: selenium in c:\\users\\sagnik das\\anaconda3\\lib\\site-packages (3.141.0)\n",
      "Requirement already satisfied: urllib3 in c:\\users\\sagnik das\\anaconda3\\lib\\site-packages (from selenium) (1.25.11)\n"
     ]
    }
   ],
   "source": [
    "# lets first install the selinium library\n",
    "! pip install selenium"
   ]
  },
  {
   "cell_type": "code",
   "execution_count": 19,
   "metadata": {},
   "outputs": [],
   "source": [
    "# lets now import all the required libraries\n",
    "import selenium\n",
    "import pandas as pd\n",
    "from selenium import webdriver"
   ]
  },
  {
   "cell_type": "code",
   "execution_count": null,
   "metadata": {},
   "outputs": [],
   "source": [
    "# Lets first connect to the web driver\n",
    "driver = webdriver.Chrome(r\"c:\\Users\\SagnikDas\\Donloads\\chromedriver_win64.exe\")"
   ]
  },
  {
   "cell_type": "code",
   "execution_count": 20,
   "metadata": {},
   "outputs": [],
   "source": [
    "# Lets first connect to the web driver\n",
    "driver = webdriver.Chrome(\"chromedriver.exe\") "
   ]
  },
  {
   "cell_type": "code",
   "execution_count": 21,
   "metadata": {},
   "outputs": [],
   "source": [
    "url = 'https://www.naukri.com'\n",
    "driver.get(url)"
   ]
  },
  {
   "cell_type": "code",
   "execution_count": 23,
   "metadata": {},
   "outputs": [
    {
     "data": {
      "text/plain": [
       "<selenium.webdriver.remote.webelement.WebElement (session=\"3eee53e1a094e8393ee126cc501a6618\", element=\"3b27cc78-f8c2-4418-8b20-c12897185c70\")>"
      ]
     },
     "execution_count": 23,
     "metadata": {},
     "output_type": "execute_result"
    }
   ],
   "source": [
    "search_job = driver.find_element_by_id('qsb-keyword-sugg')\n",
    "search_job"
   ]
  },
  {
   "cell_type": "code",
   "execution_count": 24,
   "metadata": {},
   "outputs": [],
   "source": [
    "# write on search bar\n",
    "search_job.send_keys(\"Data Scientist\")"
   ]
  },
  {
   "cell_type": "code",
   "execution_count": 26,
   "metadata": {},
   "outputs": [],
   "source": [
    "# finding element for job location bar\n",
    "search_loc = driver.find_element_by_id(\"qsb-location-sugg\")\n",
    "search_loc.send_keys(\"Bangalore\")"
   ]
  },
  {
   "cell_type": "code",
   "execution_count": 27,
   "metadata": {},
   "outputs": [],
   "source": [
    "# do click using class_name function\n",
    "search_btn = driver.find_element_by_class_name('btn')\n",
    "search_btn.click()"
   ]
  },
  {
   "cell_type": "code",
   "execution_count": 28,
   "metadata": {},
   "outputs": [
    {
     "data": {
      "text/plain": [
       "[<selenium.webdriver.remote.webelement.WebElement (session=\"3eee53e1a094e8393ee126cc501a6618\", element=\"e5d8df91-6068-4b30-a5c4-5ab1c6844e7d\")>,\n",
       " <selenium.webdriver.remote.webelement.WebElement (session=\"3eee53e1a094e8393ee126cc501a6618\", element=\"5054c363-0083-4f02-afb0-e1b39a0b9119\")>,\n",
       " <selenium.webdriver.remote.webelement.WebElement (session=\"3eee53e1a094e8393ee126cc501a6618\", element=\"dece0b6d-f959-41d5-8028-c3987c307891\")>,\n",
       " <selenium.webdriver.remote.webelement.WebElement (session=\"3eee53e1a094e8393ee126cc501a6618\", element=\"a5f8d62b-8881-450b-9911-1a86e4894f36\")>,\n",
       " <selenium.webdriver.remote.webelement.WebElement (session=\"3eee53e1a094e8393ee126cc501a6618\", element=\"47cc4d11-e198-4ddb-8c55-68c854550dd3\")>,\n",
       " <selenium.webdriver.remote.webelement.WebElement (session=\"3eee53e1a094e8393ee126cc501a6618\", element=\"29234958-a706-4467-8e03-91d9b21650a7\")>,\n",
       " <selenium.webdriver.remote.webelement.WebElement (session=\"3eee53e1a094e8393ee126cc501a6618\", element=\"21ca7894-fee7-4d93-b039-874b0b16cbf2\")>,\n",
       " <selenium.webdriver.remote.webelement.WebElement (session=\"3eee53e1a094e8393ee126cc501a6618\", element=\"5d24514b-0a50-44ea-a860-b03ec27239e1\")>,\n",
       " <selenium.webdriver.remote.webelement.WebElement (session=\"3eee53e1a094e8393ee126cc501a6618\", element=\"e7fd5611-c239-4286-b93b-55f0bab4b01e\")>,\n",
       " <selenium.webdriver.remote.webelement.WebElement (session=\"3eee53e1a094e8393ee126cc501a6618\", element=\"ea857a71-28f4-43c0-9d03-ae64dc387378\")>,\n",
       " <selenium.webdriver.remote.webelement.WebElement (session=\"3eee53e1a094e8393ee126cc501a6618\", element=\"53fcf414-b2a0-4d99-a2e8-46c178cd4587\")>,\n",
       " <selenium.webdriver.remote.webelement.WebElement (session=\"3eee53e1a094e8393ee126cc501a6618\", element=\"3263846d-fb2e-4078-8bb4-04ed7e352df3\")>,\n",
       " <selenium.webdriver.remote.webelement.WebElement (session=\"3eee53e1a094e8393ee126cc501a6618\", element=\"9abe47ec-27e1-40c1-939a-d751dacaa47a\")>,\n",
       " <selenium.webdriver.remote.webelement.WebElement (session=\"3eee53e1a094e8393ee126cc501a6618\", element=\"ddda190f-6a1d-41a7-80e3-f2bc0291f3ca\")>,\n",
       " <selenium.webdriver.remote.webelement.WebElement (session=\"3eee53e1a094e8393ee126cc501a6618\", element=\"fa88a630-17db-4de2-b2b3-5391b3c9ced2\")>,\n",
       " <selenium.webdriver.remote.webelement.WebElement (session=\"3eee53e1a094e8393ee126cc501a6618\", element=\"338f852d-78c4-48b4-bc40-0864f1b87fbe\")>,\n",
       " <selenium.webdriver.remote.webelement.WebElement (session=\"3eee53e1a094e8393ee126cc501a6618\", element=\"e36cdc95-40e3-495e-8a0d-3383a91069ea\")>,\n",
       " <selenium.webdriver.remote.webelement.WebElement (session=\"3eee53e1a094e8393ee126cc501a6618\", element=\"acb5a9cb-a854-4c80-bfab-45db3f24171e\")>,\n",
       " <selenium.webdriver.remote.webelement.WebElement (session=\"3eee53e1a094e8393ee126cc501a6618\", element=\"8570fcd3-f997-4948-80fc-4460bdd14c61\")>,\n",
       " <selenium.webdriver.remote.webelement.WebElement (session=\"3eee53e1a094e8393ee126cc501a6618\", element=\"74212658-9e23-4efc-9d17-099c39811884\")>]"
      ]
     },
     "execution_count": 28,
     "metadata": {},
     "output_type": "execute_result"
    }
   ],
   "source": [
    "# so lets extract all the tags having the job-titles\n",
    "titles_tags=driver.find_elements_by_xpath(\"//a[@class='title fw500 ellipsis']\")\n",
    "titles_tags"
   ]
  },
  {
   "cell_type": "code",
   "execution_count": 29,
   "metadata": {},
   "outputs": [
    {
     "data": {
      "text/plain": [
       "['Senior Data Scientist',\n",
       " 'Lead Data Scientist',\n",
       " 'Data Scientist / Data Analyst -Business Analyst',\n",
       " 'Data Scientist',\n",
       " 'Data Scientist',\n",
       " 'Data Scientist: Advanced Analytics',\n",
       " 'Senior Data Scientist',\n",
       " 'Data Scientist',\n",
       " 'Data Scientist 2',\n",
       " 'Data Scientist 2',\n",
       " 'Hiring Data Scientist',\n",
       " 'Data Scientist',\n",
       " 'Data Scientist',\n",
       " 'Data Scientist - Python/Machine Learning',\n",
       " 'Data Scientist - SQL/R/Python',\n",
       " 'Senior Data Scientist',\n",
       " 'EXL - Senior Data Scientist, 5+ yrs, Mumbai / PUNE / BLR / Chennai',\n",
       " 'Senior Data Scientist',\n",
       " 'Sr Data Scientist',\n",
       " 'Sr Data Scientist']"
      ]
     },
     "execution_count": 29,
     "metadata": {},
     "output_type": "execute_result"
    }
   ],
   "source": [
    "# Now the text of the job title is inside the tags extracted above\n",
    "\n",
    "# so we will run a loop to iterate over the tags extracted above and extract the text inside them.\n",
    "job_titles=[]\n",
    "for i in titles_tags:\n",
    "    job_titles.append(i.text)\n",
    "job_titles   "
   ]
  },
  {
   "cell_type": "code",
   "execution_count": 30,
   "metadata": {},
   "outputs": [
    {
     "data": {
      "text/plain": [
       "[<selenium.webdriver.remote.webelement.WebElement (session=\"3eee53e1a094e8393ee126cc501a6618\", element=\"71e14abb-67d3-4034-8677-0298df9a7d84\")>,\n",
       " <selenium.webdriver.remote.webelement.WebElement (session=\"3eee53e1a094e8393ee126cc501a6618\", element=\"00e42997-e800-4a74-ab7e-58f10653bfb5\")>,\n",
       " <selenium.webdriver.remote.webelement.WebElement (session=\"3eee53e1a094e8393ee126cc501a6618\", element=\"d7b7587c-f9e9-4fed-b2cd-e86880b4697d\")>,\n",
       " <selenium.webdriver.remote.webelement.WebElement (session=\"3eee53e1a094e8393ee126cc501a6618\", element=\"a626090e-b122-468c-86a3-2291d12e0a35\")>,\n",
       " <selenium.webdriver.remote.webelement.WebElement (session=\"3eee53e1a094e8393ee126cc501a6618\", element=\"5597e10e-d808-481e-bcdd-0276bd587a0c\")>,\n",
       " <selenium.webdriver.remote.webelement.WebElement (session=\"3eee53e1a094e8393ee126cc501a6618\", element=\"4ad79793-5fae-42c9-81d5-d9ed7b11c445\")>,\n",
       " <selenium.webdriver.remote.webelement.WebElement (session=\"3eee53e1a094e8393ee126cc501a6618\", element=\"48e216a1-d5e7-44b5-9ded-0fe660b18215\")>,\n",
       " <selenium.webdriver.remote.webelement.WebElement (session=\"3eee53e1a094e8393ee126cc501a6618\", element=\"c9f0e895-f644-4ec0-9c41-f7585a6fde6a\")>,\n",
       " <selenium.webdriver.remote.webelement.WebElement (session=\"3eee53e1a094e8393ee126cc501a6618\", element=\"05072092-cd56-4bc5-abea-08589349a53b\")>,\n",
       " <selenium.webdriver.remote.webelement.WebElement (session=\"3eee53e1a094e8393ee126cc501a6618\", element=\"9b79665b-4f5e-4bcb-b09b-be2c44a9f857\")>,\n",
       " <selenium.webdriver.remote.webelement.WebElement (session=\"3eee53e1a094e8393ee126cc501a6618\", element=\"6f605bf1-8381-42d5-bcf9-7c79509ece55\")>,\n",
       " <selenium.webdriver.remote.webelement.WebElement (session=\"3eee53e1a094e8393ee126cc501a6618\", element=\"b30e5c09-e0b8-4af7-8169-11667060f7d6\")>,\n",
       " <selenium.webdriver.remote.webelement.WebElement (session=\"3eee53e1a094e8393ee126cc501a6618\", element=\"5e889160-aad6-4f73-b634-2e72b061daaf\")>,\n",
       " <selenium.webdriver.remote.webelement.WebElement (session=\"3eee53e1a094e8393ee126cc501a6618\", element=\"48dd8418-30b2-4bfb-8570-773eb7ebe5d4\")>,\n",
       " <selenium.webdriver.remote.webelement.WebElement (session=\"3eee53e1a094e8393ee126cc501a6618\", element=\"aebc06ec-4657-4552-a335-e5301013e189\")>,\n",
       " <selenium.webdriver.remote.webelement.WebElement (session=\"3eee53e1a094e8393ee126cc501a6618\", element=\"593a6315-b7fe-42b3-8b8e-201b267b6c98\")>,\n",
       " <selenium.webdriver.remote.webelement.WebElement (session=\"3eee53e1a094e8393ee126cc501a6618\", element=\"46bc05ab-2a7c-4339-b6bb-05f5e69161d8\")>,\n",
       " <selenium.webdriver.remote.webelement.WebElement (session=\"3eee53e1a094e8393ee126cc501a6618\", element=\"36d58261-206c-4f56-b7b1-f0a93e173b44\")>,\n",
       " <selenium.webdriver.remote.webelement.WebElement (session=\"3eee53e1a094e8393ee126cc501a6618\", element=\"05ecfc6e-969e-4535-a91f-ce125b94e6c9\")>,\n",
       " <selenium.webdriver.remote.webelement.WebElement (session=\"3eee53e1a094e8393ee126cc501a6618\", element=\"5e2dc44e-965f-4e54-bead-a26a396eb1f7\")>]"
      ]
     },
     "execution_count": 30,
     "metadata": {},
     "output_type": "execute_result"
    }
   ],
   "source": [
    "# so lets extract all the tags having the company names\n",
    "companies_tags=driver.find_elements_by_xpath(\"//a[@class='subTitle ellipsis fleft']\")\n",
    "companies_tags"
   ]
  },
  {
   "cell_type": "code",
   "execution_count": 31,
   "metadata": {},
   "outputs": [
    {
     "data": {
      "text/plain": [
       "['Flipkart Internet Private Limited',\n",
       " 'bd',\n",
       " 'Inflexion Analytix Private Limited',\n",
       " 'Flipkart Internet Private Limited',\n",
       " 'Oracle India Pvt. Ltd.',\n",
       " 'IBM India Pvt. Limited',\n",
       " 'inVentiv International Pharma Services Pvt. Ltd.',\n",
       " 'Applied Materials',\n",
       " 'Gojek Tech',\n",
       " 'GO-JEK India',\n",
       " 'IHX private limited',\n",
       " 'IBM India Pvt. Limited',\n",
       " 'IBM India Pvt. Limited',\n",
       " 'Exploro Solutions',\n",
       " 'iMindYourBusiness',\n",
       " '24/7 Customer',\n",
       " 'EXL Service',\n",
       " 'Superior Group',\n",
       " 'FabHotel Aay Kay Model Town',\n",
       " 'Baker Hughes Incorporated']"
      ]
     },
     "execution_count": 31,
     "metadata": {},
     "output_type": "execute_result"
    }
   ],
   "source": [
    "company_names=[]\n",
    "\n",
    "for i in companies_tags:\n",
    "    company_names.append(i.text)\n",
    "company_names    "
   ]
  },
  {
   "cell_type": "code",
   "execution_count": 32,
   "metadata": {},
   "outputs": [
    {
     "data": {
      "text/plain": [
       "[<selenium.webdriver.remote.webelement.WebElement (session=\"3eee53e1a094e8393ee126cc501a6618\", element=\"d60ebd40-328a-4e34-8250-7014a7965cd9\")>,\n",
       " <selenium.webdriver.remote.webelement.WebElement (session=\"3eee53e1a094e8393ee126cc501a6618\", element=\"2a185630-f957-48c9-ba22-e119563b5915\")>,\n",
       " <selenium.webdriver.remote.webelement.WebElement (session=\"3eee53e1a094e8393ee126cc501a6618\", element=\"06aff6a7-4aec-4bd4-97ca-55a6bc95e449\")>,\n",
       " <selenium.webdriver.remote.webelement.WebElement (session=\"3eee53e1a094e8393ee126cc501a6618\", element=\"21f7d7b4-76e6-46a5-a3d3-484f83391200\")>,\n",
       " <selenium.webdriver.remote.webelement.WebElement (session=\"3eee53e1a094e8393ee126cc501a6618\", element=\"8100bae9-7568-4117-bb96-44dc07a65dae\")>,\n",
       " <selenium.webdriver.remote.webelement.WebElement (session=\"3eee53e1a094e8393ee126cc501a6618\", element=\"f3ac150a-7a42-4534-9f36-5f93e4be6745\")>,\n",
       " <selenium.webdriver.remote.webelement.WebElement (session=\"3eee53e1a094e8393ee126cc501a6618\", element=\"f025208e-c370-4c9c-bb5c-537e1b59f877\")>,\n",
       " <selenium.webdriver.remote.webelement.WebElement (session=\"3eee53e1a094e8393ee126cc501a6618\", element=\"10c0b4d4-c804-4ca7-9692-52a5173dfc43\")>,\n",
       " <selenium.webdriver.remote.webelement.WebElement (session=\"3eee53e1a094e8393ee126cc501a6618\", element=\"76329540-7e29-4741-bebf-e4eb2e33ea9c\")>,\n",
       " <selenium.webdriver.remote.webelement.WebElement (session=\"3eee53e1a094e8393ee126cc501a6618\", element=\"e3efbbe1-6d1d-49b7-a0b2-b805544d49b3\")>,\n",
       " <selenium.webdriver.remote.webelement.WebElement (session=\"3eee53e1a094e8393ee126cc501a6618\", element=\"a69de024-6a7e-4000-b3ae-2faa6035d67a\")>,\n",
       " <selenium.webdriver.remote.webelement.WebElement (session=\"3eee53e1a094e8393ee126cc501a6618\", element=\"c96fbf78-3e9c-4b4d-87f6-0844e0558f7f\")>,\n",
       " <selenium.webdriver.remote.webelement.WebElement (session=\"3eee53e1a094e8393ee126cc501a6618\", element=\"d146dc9a-2e81-4da2-8c1e-b91a1d872498\")>,\n",
       " <selenium.webdriver.remote.webelement.WebElement (session=\"3eee53e1a094e8393ee126cc501a6618\", element=\"3da1c611-1ac7-4f9d-b925-e4cc72ac33e9\")>,\n",
       " <selenium.webdriver.remote.webelement.WebElement (session=\"3eee53e1a094e8393ee126cc501a6618\", element=\"77ed3d52-054d-4f2f-ac6f-f316982cac51\")>,\n",
       " <selenium.webdriver.remote.webelement.WebElement (session=\"3eee53e1a094e8393ee126cc501a6618\", element=\"e4886b88-0030-40cc-99bb-d99a11b36a3c\")>,\n",
       " <selenium.webdriver.remote.webelement.WebElement (session=\"3eee53e1a094e8393ee126cc501a6618\", element=\"9a000dca-e82c-4cd1-aad9-f48d580dd7e2\")>,\n",
       " <selenium.webdriver.remote.webelement.WebElement (session=\"3eee53e1a094e8393ee126cc501a6618\", element=\"5b3fd73d-4839-4e9f-98dd-83ae957354e5\")>,\n",
       " <selenium.webdriver.remote.webelement.WebElement (session=\"3eee53e1a094e8393ee126cc501a6618\", element=\"990b8494-7d54-43ae-86bb-63e465fa325e\")>,\n",
       " <selenium.webdriver.remote.webelement.WebElement (session=\"3eee53e1a094e8393ee126cc501a6618\", element=\"1ead59a9-2247-4e91-9be4-7fe1a3891029\")>]"
      ]
     },
     "execution_count": 32,
     "metadata": {},
     "output_type": "execute_result"
    }
   ],
   "source": [
    "# so lets extract all the tags having the experience required data\n",
    "experience_tags=driver.find_elements_by_xpath(\"//li[@class='fleft grey-text br2 placeHolderLi experience']//span\")\n",
    "experience_tags"
   ]
  },
  {
   "cell_type": "code",
   "execution_count": 33,
   "metadata": {},
   "outputs": [
    {
     "data": {
      "text/plain": [
       "['5-10 Yrs',\n",
       " '2-7 Yrs',\n",
       " '0-3 Yrs',\n",
       " '0-5 Yrs',\n",
       " '5-9 Yrs',\n",
       " '5-10 Yrs',\n",
       " '3-6 Yrs',\n",
       " '5-10 Yrs',\n",
       " '4-8 Yrs',\n",
       " '6-11 Yrs',\n",
       " '4-6 Yrs',\n",
       " '3-6 Yrs',\n",
       " '6-10 Yrs',\n",
       " '5-10 Yrs',\n",
       " '4-8 Yrs',\n",
       " '5-10 Yrs',\n",
       " '5-10 Yrs',\n",
       " '4-9 Yrs',\n",
       " '2-5 Yrs',\n",
       " '3-7 Yrs']"
      ]
     },
     "execution_count": 33,
     "metadata": {},
     "output_type": "execute_result"
    }
   ],
   "source": [
    "experience_list=[]\n",
    "for i in experience_tags:\n",
    "    experience_list.append(i.text)\n",
    "experience_list"
   ]
  },
  {
   "cell_type": "code",
   "execution_count": 34,
   "metadata": {},
   "outputs": [
    {
     "data": {
      "text/plain": [
       "[<selenium.webdriver.remote.webelement.WebElement (session=\"3eee53e1a094e8393ee126cc501a6618\", element=\"3f0f6e75-d534-4885-a273-1d763ca3bc59\")>,\n",
       " <selenium.webdriver.remote.webelement.WebElement (session=\"3eee53e1a094e8393ee126cc501a6618\", element=\"bbbd3154-3d0e-445d-949e-20eae3b2a561\")>,\n",
       " <selenium.webdriver.remote.webelement.WebElement (session=\"3eee53e1a094e8393ee126cc501a6618\", element=\"f1b2c9cf-1321-4d94-bf0f-31ed5a44daaf\")>,\n",
       " <selenium.webdriver.remote.webelement.WebElement (session=\"3eee53e1a094e8393ee126cc501a6618\", element=\"dc3f3dcb-b654-4786-bc4c-8f1019660c96\")>,\n",
       " <selenium.webdriver.remote.webelement.WebElement (session=\"3eee53e1a094e8393ee126cc501a6618\", element=\"74de0121-ad25-49be-bc1f-e752a52a5a1b\")>,\n",
       " <selenium.webdriver.remote.webelement.WebElement (session=\"3eee53e1a094e8393ee126cc501a6618\", element=\"8d4edbc8-8992-4701-86c1-2e35dfd1059a\")>,\n",
       " <selenium.webdriver.remote.webelement.WebElement (session=\"3eee53e1a094e8393ee126cc501a6618\", element=\"4f023201-0cc2-467b-8f0a-7138596419ea\")>,\n",
       " <selenium.webdriver.remote.webelement.WebElement (session=\"3eee53e1a094e8393ee126cc501a6618\", element=\"3845c5e4-aea8-4492-9ba6-4551d69a3ae9\")>,\n",
       " <selenium.webdriver.remote.webelement.WebElement (session=\"3eee53e1a094e8393ee126cc501a6618\", element=\"1818100e-b552-446d-ad7f-a84f03c60e86\")>,\n",
       " <selenium.webdriver.remote.webelement.WebElement (session=\"3eee53e1a094e8393ee126cc501a6618\", element=\"9ece48ed-8a94-4895-b966-3de51483de9f\")>,\n",
       " <selenium.webdriver.remote.webelement.WebElement (session=\"3eee53e1a094e8393ee126cc501a6618\", element=\"473031ba-bbf1-4f36-bea6-8a6258aaf677\")>,\n",
       " <selenium.webdriver.remote.webelement.WebElement (session=\"3eee53e1a094e8393ee126cc501a6618\", element=\"1beef8b3-5169-48fc-a14a-9bbe578ba93e\")>,\n",
       " <selenium.webdriver.remote.webelement.WebElement (session=\"3eee53e1a094e8393ee126cc501a6618\", element=\"6b04811b-ded9-43a3-8734-003c7db717ce\")>,\n",
       " <selenium.webdriver.remote.webelement.WebElement (session=\"3eee53e1a094e8393ee126cc501a6618\", element=\"c5a43c02-575b-4643-a9ce-aea6007bc87d\")>,\n",
       " <selenium.webdriver.remote.webelement.WebElement (session=\"3eee53e1a094e8393ee126cc501a6618\", element=\"1b3913ea-1d5d-48e7-9969-7ee6b8237049\")>,\n",
       " <selenium.webdriver.remote.webelement.WebElement (session=\"3eee53e1a094e8393ee126cc501a6618\", element=\"15a43ab7-98dc-4da7-bfb7-037857c36a2c\")>,\n",
       " <selenium.webdriver.remote.webelement.WebElement (session=\"3eee53e1a094e8393ee126cc501a6618\", element=\"b73cf91e-c8dd-4328-850c-32d9d69e3d8f\")>,\n",
       " <selenium.webdriver.remote.webelement.WebElement (session=\"3eee53e1a094e8393ee126cc501a6618\", element=\"501cb027-0370-4ebf-8c33-f5ebcfa1874c\")>,\n",
       " <selenium.webdriver.remote.webelement.WebElement (session=\"3eee53e1a094e8393ee126cc501a6618\", element=\"a5b6aa2b-8df9-4cc4-a414-4e81751e1577\")>,\n",
       " <selenium.webdriver.remote.webelement.WebElement (session=\"3eee53e1a094e8393ee126cc501a6618\", element=\"8261114a-5f09-479f-bdb1-4ed7c41c17a1\")>]"
      ]
     },
     "execution_count": 34,
     "metadata": {},
     "output_type": "execute_result"
    }
   ],
   "source": [
    "locations_tags=driver.find_elements_by_xpath(\"//li[@class='fleft grey-text br2 placeHolderLi location']//span\")\n",
    "locations_tags"
   ]
  },
  {
   "cell_type": "code",
   "execution_count": 35,
   "metadata": {},
   "outputs": [
    {
     "data": {
      "text/plain": [
       "['Bangalore/Bengaluru',\n",
       " 'Bangalore/Bengaluru',\n",
       " 'Hyderabad/Secunderabad, Chennai, Bangalore/Bengaluru',\n",
       " 'Bangalore/Bengaluru',\n",
       " 'Noida, Bangalore/Bengaluru',\n",
       " 'Bangalore/Bengaluru',\n",
       " 'Hyderabad/Secunderabad, Gurgaon/Gurugram, Bangalore/Bengaluru',\n",
       " 'Bangalore/Bengaluru',\n",
       " 'Bangalore/Bengaluru',\n",
       " 'Bangalore/Bengaluru',\n",
       " 'Bangalore/Bengaluru(5th block Koramangala)',\n",
       " 'Bangalore/Bengaluru',\n",
       " 'Bangalore/Bengaluru',\n",
       " 'Bangalore/Bengaluru',\n",
       " 'Bangalore/Bengaluru',\n",
       " 'Bangalore/Bengaluru',\n",
       " 'Pune, Chennai, Bangalore/Bengaluru, Delhi / NCR',\n",
       " 'Bangalore/Bengaluru',\n",
       " 'Bangalore/Bengaluru',\n",
       " 'Bangalore/Bengaluru']"
      ]
     },
     "execution_count": 35,
     "metadata": {},
     "output_type": "execute_result"
    }
   ],
   "source": [
    "locations_list=[]\n",
    "for i in locations_tags:\n",
    "    locations_list.append(i.text)\n",
    "locations_list    "
   ]
  },
  {
   "cell_type": "code",
   "execution_count": 36,
   "metadata": {},
   "outputs": [
    {
     "name": "stdout",
     "output_type": "stream",
     "text": [
      "20 20 20 20\n"
     ]
    }
   ],
   "source": [
    "print(len(job_titles),len(company_names),len(experience_list),len(locations_list))"
   ]
  },
  {
   "cell_type": "code",
   "execution_count": 37,
   "metadata": {},
   "outputs": [],
   "source": [
    "#import pandas as pd\n",
    "jobs=pd.DataFrame({})\n",
    "jobs['title']=job_titles\n",
    "jobs['company']=company_names\n",
    "jobs['experience_required']=experience_list\n",
    "jobs['location']=locations_list"
   ]
  },
  {
   "cell_type": "code",
   "execution_count": 38,
   "metadata": {},
   "outputs": [
    {
     "data": {
      "text/html": [
       "<div>\n",
       "<style scoped>\n",
       "    .dataframe tbody tr th:only-of-type {\n",
       "        vertical-align: middle;\n",
       "    }\n",
       "\n",
       "    .dataframe tbody tr th {\n",
       "        vertical-align: top;\n",
       "    }\n",
       "\n",
       "    .dataframe thead th {\n",
       "        text-align: right;\n",
       "    }\n",
       "</style>\n",
       "<table border=\"1\" class=\"dataframe\">\n",
       "  <thead>\n",
       "    <tr style=\"text-align: right;\">\n",
       "      <th></th>\n",
       "      <th>title</th>\n",
       "      <th>company</th>\n",
       "      <th>experience_required</th>\n",
       "      <th>location</th>\n",
       "    </tr>\n",
       "  </thead>\n",
       "  <tbody>\n",
       "    <tr>\n",
       "      <th>0</th>\n",
       "      <td>Senior Data Scientist</td>\n",
       "      <td>Flipkart Internet Private Limited</td>\n",
       "      <td>5-10 Yrs</td>\n",
       "      <td>Bangalore/Bengaluru</td>\n",
       "    </tr>\n",
       "    <tr>\n",
       "      <th>1</th>\n",
       "      <td>Lead Data Scientist</td>\n",
       "      <td>bd</td>\n",
       "      <td>2-7 Yrs</td>\n",
       "      <td>Bangalore/Bengaluru</td>\n",
       "    </tr>\n",
       "    <tr>\n",
       "      <th>2</th>\n",
       "      <td>Data Scientist / Data Analyst -Business Analyst</td>\n",
       "      <td>Inflexion Analytix Private Limited</td>\n",
       "      <td>0-3 Yrs</td>\n",
       "      <td>Hyderabad/Secunderabad, Chennai, Bangalore/Ben...</td>\n",
       "    </tr>\n",
       "    <tr>\n",
       "      <th>3</th>\n",
       "      <td>Data Scientist</td>\n",
       "      <td>Flipkart Internet Private Limited</td>\n",
       "      <td>0-5 Yrs</td>\n",
       "      <td>Bangalore/Bengaluru</td>\n",
       "    </tr>\n",
       "    <tr>\n",
       "      <th>4</th>\n",
       "      <td>Data Scientist</td>\n",
       "      <td>Oracle India Pvt. Ltd.</td>\n",
       "      <td>5-9 Yrs</td>\n",
       "      <td>Noida, Bangalore/Bengaluru</td>\n",
       "    </tr>\n",
       "    <tr>\n",
       "      <th>5</th>\n",
       "      <td>Data Scientist: Advanced Analytics</td>\n",
       "      <td>IBM India Pvt. Limited</td>\n",
       "      <td>5-10 Yrs</td>\n",
       "      <td>Bangalore/Bengaluru</td>\n",
       "    </tr>\n",
       "    <tr>\n",
       "      <th>6</th>\n",
       "      <td>Senior Data Scientist</td>\n",
       "      <td>inVentiv International Pharma Services Pvt. Ltd.</td>\n",
       "      <td>3-6 Yrs</td>\n",
       "      <td>Hyderabad/Secunderabad, Gurgaon/Gurugram, Bang...</td>\n",
       "    </tr>\n",
       "    <tr>\n",
       "      <th>7</th>\n",
       "      <td>Data Scientist</td>\n",
       "      <td>Applied Materials</td>\n",
       "      <td>5-10 Yrs</td>\n",
       "      <td>Bangalore/Bengaluru</td>\n",
       "    </tr>\n",
       "    <tr>\n",
       "      <th>8</th>\n",
       "      <td>Data Scientist 2</td>\n",
       "      <td>Gojek Tech</td>\n",
       "      <td>4-8 Yrs</td>\n",
       "      <td>Bangalore/Bengaluru</td>\n",
       "    </tr>\n",
       "    <tr>\n",
       "      <th>9</th>\n",
       "      <td>Data Scientist 2</td>\n",
       "      <td>GO-JEK India</td>\n",
       "      <td>6-11 Yrs</td>\n",
       "      <td>Bangalore/Bengaluru</td>\n",
       "    </tr>\n",
       "    <tr>\n",
       "      <th>10</th>\n",
       "      <td>Hiring Data Scientist</td>\n",
       "      <td>IHX private limited</td>\n",
       "      <td>4-6 Yrs</td>\n",
       "      <td>Bangalore/Bengaluru(5th block Koramangala)</td>\n",
       "    </tr>\n",
       "    <tr>\n",
       "      <th>11</th>\n",
       "      <td>Data Scientist</td>\n",
       "      <td>IBM India Pvt. Limited</td>\n",
       "      <td>3-6 Yrs</td>\n",
       "      <td>Bangalore/Bengaluru</td>\n",
       "    </tr>\n",
       "    <tr>\n",
       "      <th>12</th>\n",
       "      <td>Data Scientist</td>\n",
       "      <td>IBM India Pvt. Limited</td>\n",
       "      <td>6-10 Yrs</td>\n",
       "      <td>Bangalore/Bengaluru</td>\n",
       "    </tr>\n",
       "    <tr>\n",
       "      <th>13</th>\n",
       "      <td>Data Scientist - Python/Machine Learning</td>\n",
       "      <td>Exploro Solutions</td>\n",
       "      <td>5-10 Yrs</td>\n",
       "      <td>Bangalore/Bengaluru</td>\n",
       "    </tr>\n",
       "    <tr>\n",
       "      <th>14</th>\n",
       "      <td>Data Scientist - SQL/R/Python</td>\n",
       "      <td>iMindYourBusiness</td>\n",
       "      <td>4-8 Yrs</td>\n",
       "      <td>Bangalore/Bengaluru</td>\n",
       "    </tr>\n",
       "    <tr>\n",
       "      <th>15</th>\n",
       "      <td>Senior Data Scientist</td>\n",
       "      <td>24/7 Customer</td>\n",
       "      <td>5-10 Yrs</td>\n",
       "      <td>Bangalore/Bengaluru</td>\n",
       "    </tr>\n",
       "    <tr>\n",
       "      <th>16</th>\n",
       "      <td>EXL - Senior Data Scientist, 5+ yrs, Mumbai / ...</td>\n",
       "      <td>EXL Service</td>\n",
       "      <td>5-10 Yrs</td>\n",
       "      <td>Pune, Chennai, Bangalore/Bengaluru, Delhi / NCR</td>\n",
       "    </tr>\n",
       "    <tr>\n",
       "      <th>17</th>\n",
       "      <td>Senior Data Scientist</td>\n",
       "      <td>Superior Group</td>\n",
       "      <td>4-9 Yrs</td>\n",
       "      <td>Bangalore/Bengaluru</td>\n",
       "    </tr>\n",
       "    <tr>\n",
       "      <th>18</th>\n",
       "      <td>Sr Data Scientist</td>\n",
       "      <td>FabHotel Aay Kay Model Town</td>\n",
       "      <td>2-5 Yrs</td>\n",
       "      <td>Bangalore/Bengaluru</td>\n",
       "    </tr>\n",
       "    <tr>\n",
       "      <th>19</th>\n",
       "      <td>Sr Data Scientist</td>\n",
       "      <td>Baker Hughes Incorporated</td>\n",
       "      <td>3-7 Yrs</td>\n",
       "      <td>Bangalore/Bengaluru</td>\n",
       "    </tr>\n",
       "  </tbody>\n",
       "</table>\n",
       "</div>"
      ],
      "text/plain": [
       "                                                title  \\\n",
       "0                               Senior Data Scientist   \n",
       "1                                 Lead Data Scientist   \n",
       "2     Data Scientist / Data Analyst -Business Analyst   \n",
       "3                                      Data Scientist   \n",
       "4                                      Data Scientist   \n",
       "5                  Data Scientist: Advanced Analytics   \n",
       "6                               Senior Data Scientist   \n",
       "7                                      Data Scientist   \n",
       "8                                    Data Scientist 2   \n",
       "9                                    Data Scientist 2   \n",
       "10                              Hiring Data Scientist   \n",
       "11                                     Data Scientist   \n",
       "12                                     Data Scientist   \n",
       "13           Data Scientist - Python/Machine Learning   \n",
       "14                      Data Scientist - SQL/R/Python   \n",
       "15                              Senior Data Scientist   \n",
       "16  EXL - Senior Data Scientist, 5+ yrs, Mumbai / ...   \n",
       "17                              Senior Data Scientist   \n",
       "18                                  Sr Data Scientist   \n",
       "19                                  Sr Data Scientist   \n",
       "\n",
       "                                             company experience_required  \\\n",
       "0                  Flipkart Internet Private Limited            5-10 Yrs   \n",
       "1                                                 bd             2-7 Yrs   \n",
       "2                 Inflexion Analytix Private Limited             0-3 Yrs   \n",
       "3                  Flipkart Internet Private Limited             0-5 Yrs   \n",
       "4                             Oracle India Pvt. Ltd.             5-9 Yrs   \n",
       "5                             IBM India Pvt. Limited            5-10 Yrs   \n",
       "6   inVentiv International Pharma Services Pvt. Ltd.             3-6 Yrs   \n",
       "7                                  Applied Materials            5-10 Yrs   \n",
       "8                                         Gojek Tech             4-8 Yrs   \n",
       "9                                       GO-JEK India            6-11 Yrs   \n",
       "10                               IHX private limited             4-6 Yrs   \n",
       "11                            IBM India Pvt. Limited             3-6 Yrs   \n",
       "12                            IBM India Pvt. Limited            6-10 Yrs   \n",
       "13                                 Exploro Solutions            5-10 Yrs   \n",
       "14                                 iMindYourBusiness             4-8 Yrs   \n",
       "15                                     24/7 Customer            5-10 Yrs   \n",
       "16                                       EXL Service            5-10 Yrs   \n",
       "17                                    Superior Group             4-9 Yrs   \n",
       "18                       FabHotel Aay Kay Model Town             2-5 Yrs   \n",
       "19                         Baker Hughes Incorporated             3-7 Yrs   \n",
       "\n",
       "                                             location  \n",
       "0                                 Bangalore/Bengaluru  \n",
       "1                                 Bangalore/Bengaluru  \n",
       "2   Hyderabad/Secunderabad, Chennai, Bangalore/Ben...  \n",
       "3                                 Bangalore/Bengaluru  \n",
       "4                          Noida, Bangalore/Bengaluru  \n",
       "5                                 Bangalore/Bengaluru  \n",
       "6   Hyderabad/Secunderabad, Gurgaon/Gurugram, Bang...  \n",
       "7                                 Bangalore/Bengaluru  \n",
       "8                                 Bangalore/Bengaluru  \n",
       "9                                 Bangalore/Bengaluru  \n",
       "10         Bangalore/Bengaluru(5th block Koramangala)  \n",
       "11                                Bangalore/Bengaluru  \n",
       "12                                Bangalore/Bengaluru  \n",
       "13                                Bangalore/Bengaluru  \n",
       "14                                Bangalore/Bengaluru  \n",
       "15                                Bangalore/Bengaluru  \n",
       "16    Pune, Chennai, Bangalore/Bengaluru, Delhi / NCR  \n",
       "17                                Bangalore/Bengaluru  \n",
       "18                                Bangalore/Bengaluru  \n",
       "19                                Bangalore/Bengaluru  "
      ]
     },
     "execution_count": 38,
     "metadata": {},
     "output_type": "execute_result"
    }
   ],
   "source": [
    "jobs"
   ]
  },
  {
   "cell_type": "code",
   "execution_count": null,
   "metadata": {},
   "outputs": [],
   "source": []
  },
  {
   "cell_type": "code",
   "execution_count": null,
   "metadata": {},
   "outputs": [],
   "source": []
  },
  {
   "cell_type": "code",
   "execution_count": null,
   "metadata": {},
   "outputs": [],
   "source": [
    "3."
   ]
  },
  {
   "cell_type": "code",
   "execution_count": 39,
   "metadata": {},
   "outputs": [
    {
     "name": "stdout",
     "output_type": "stream",
     "text": [
      "Requirement already satisfied: selenium in c:\\users\\sagnik das\\anaconda3\\lib\\site-packages (3.141.0)\n",
      "Requirement already satisfied: urllib3 in c:\\users\\sagnik das\\anaconda3\\lib\\site-packages (from selenium) (1.25.11)\n"
     ]
    }
   ],
   "source": [
    "# lets first install the selinium library\n",
    "! pip install selenium"
   ]
  },
  {
   "cell_type": "code",
   "execution_count": 40,
   "metadata": {},
   "outputs": [],
   "source": [
    "# lets now import all the required libraries\n",
    "import selenium\n",
    "import pandas as pd\n",
    "from selenium import webdriver"
   ]
  },
  {
   "cell_type": "code",
   "execution_count": 41,
   "metadata": {},
   "outputs": [],
   "source": [
    "# Lets first connect to the web driver\n",
    "driver = webdriver.Chrome(\"chromedriver.exe\") "
   ]
  },
  {
   "cell_type": "code",
   "execution_count": 42,
   "metadata": {},
   "outputs": [],
   "source": [
    "url = 'https://www.naukri.com'\n",
    "driver.get(url)"
   ]
  },
  {
   "cell_type": "code",
   "execution_count": 43,
   "metadata": {},
   "outputs": [
    {
     "data": {
      "text/plain": [
       "<selenium.webdriver.remote.webelement.WebElement (session=\"c8046cdf443460ed6913d388708a5b0c\", element=\"09e084f0-b742-4086-a57a-f39d2c36a6cf\")>"
      ]
     },
     "execution_count": 43,
     "metadata": {},
     "output_type": "execute_result"
    }
   ],
   "source": [
    "search_job = driver.find_element_by_id('qsb-keyword-sugg')\n",
    "search_job"
   ]
  },
  {
   "cell_type": "code",
   "execution_count": 44,
   "metadata": {},
   "outputs": [],
   "source": [
    "# write on search bar\n",
    "search_job.send_keys(\"Data Scientist\")"
   ]
  },
  {
   "cell_type": "code",
   "execution_count": 45,
   "metadata": {},
   "outputs": [],
   "source": [
    "# finding element for job location bar\n",
    "search_loc = driver.find_element_by_id(\"qsb-location-sugg\")\n",
    "search_loc.send_keys(\"Delhi/NCR\")"
   ]
  },
  {
   "cell_type": "code",
   "execution_count": 46,
   "metadata": {},
   "outputs": [],
   "source": [
    "# do click using class_name function\n",
    "search_btn = driver.find_element_by_class_name('btn')\n",
    "search_btn.click()"
   ]
  },
  {
   "cell_type": "code",
   "execution_count": 47,
   "metadata": {},
   "outputs": [
    {
     "data": {
      "text/plain": [
       "[<selenium.webdriver.remote.webelement.WebElement (session=\"c8046cdf443460ed6913d388708a5b0c\", element=\"b7739c3d-3f4f-451d-88f8-77cd0d6e87ec\")>,\n",
       " <selenium.webdriver.remote.webelement.WebElement (session=\"c8046cdf443460ed6913d388708a5b0c\", element=\"fed1a5c9-44f5-4bcd-be65-b9dbeb573ce8\")>,\n",
       " <selenium.webdriver.remote.webelement.WebElement (session=\"c8046cdf443460ed6913d388708a5b0c\", element=\"ac35df7c-5c02-45ab-964d-45dbf67b6f33\")>,\n",
       " <selenium.webdriver.remote.webelement.WebElement (session=\"c8046cdf443460ed6913d388708a5b0c\", element=\"e6e37004-c396-4105-b8ab-5a0be3e5a645\")>,\n",
       " <selenium.webdriver.remote.webelement.WebElement (session=\"c8046cdf443460ed6913d388708a5b0c\", element=\"6913bca6-ad4d-4834-a490-bd8605709d88\")>,\n",
       " <selenium.webdriver.remote.webelement.WebElement (session=\"c8046cdf443460ed6913d388708a5b0c\", element=\"26fea02d-68db-4af7-bb3b-0edd5c448b39\")>,\n",
       " <selenium.webdriver.remote.webelement.WebElement (session=\"c8046cdf443460ed6913d388708a5b0c\", element=\"b47e90bb-1e24-45b1-96a0-282089c5b738\")>,\n",
       " <selenium.webdriver.remote.webelement.WebElement (session=\"c8046cdf443460ed6913d388708a5b0c\", element=\"6902efbe-3b05-4ccf-9be2-32b6ded36568\")>,\n",
       " <selenium.webdriver.remote.webelement.WebElement (session=\"c8046cdf443460ed6913d388708a5b0c\", element=\"cf6a67a0-3e80-4419-89ce-e164332f84c0\")>,\n",
       " <selenium.webdriver.remote.webelement.WebElement (session=\"c8046cdf443460ed6913d388708a5b0c\", element=\"1e757cc2-e04d-4eca-89fc-9ca49950ec7b\")>,\n",
       " <selenium.webdriver.remote.webelement.WebElement (session=\"c8046cdf443460ed6913d388708a5b0c\", element=\"3fb86db7-2359-4389-994e-40744a1750b0\")>,\n",
       " <selenium.webdriver.remote.webelement.WebElement (session=\"c8046cdf443460ed6913d388708a5b0c\", element=\"cb7dbf78-c58e-43f9-a6f0-2eb247fdbdf6\")>,\n",
       " <selenium.webdriver.remote.webelement.WebElement (session=\"c8046cdf443460ed6913d388708a5b0c\", element=\"2b4f7d92-5c2e-4180-a42d-f92689d54c3a\")>,\n",
       " <selenium.webdriver.remote.webelement.WebElement (session=\"c8046cdf443460ed6913d388708a5b0c\", element=\"e3f4c657-006b-4ed3-b73f-59cda7de29e7\")>,\n",
       " <selenium.webdriver.remote.webelement.WebElement (session=\"c8046cdf443460ed6913d388708a5b0c\", element=\"d5a30f43-c8a8-4c51-b024-ff22b666f3df\")>,\n",
       " <selenium.webdriver.remote.webelement.WebElement (session=\"c8046cdf443460ed6913d388708a5b0c\", element=\"2a2e34fa-1c70-4003-bcde-f19f51f91482\")>,\n",
       " <selenium.webdriver.remote.webelement.WebElement (session=\"c8046cdf443460ed6913d388708a5b0c\", element=\"9e72edce-4a5f-4f48-b4cb-0f2a16956b96\")>,\n",
       " <selenium.webdriver.remote.webelement.WebElement (session=\"c8046cdf443460ed6913d388708a5b0c\", element=\"d2d81641-80df-48f0-8e6e-a735c4842848\")>,\n",
       " <selenium.webdriver.remote.webelement.WebElement (session=\"c8046cdf443460ed6913d388708a5b0c\", element=\"56369aa2-d3ff-4af4-b2b5-cccd9ccfcd5f\")>,\n",
       " <selenium.webdriver.remote.webelement.WebElement (session=\"c8046cdf443460ed6913d388708a5b0c\", element=\"519be9f5-40c9-4b3c-9c76-3087235ae11b\")>,\n",
       " <selenium.webdriver.remote.webelement.WebElement (session=\"c8046cdf443460ed6913d388708a5b0c\", element=\"37ce0bac-bd8e-46e2-83a7-35eab2e8478c\")>,\n",
       " <selenium.webdriver.remote.webelement.WebElement (session=\"c8046cdf443460ed6913d388708a5b0c\", element=\"cb7b5955-5e98-48ef-a911-79bc3ae7762f\")>,\n",
       " <selenium.webdriver.remote.webelement.WebElement (session=\"c8046cdf443460ed6913d388708a5b0c\", element=\"86830bcd-b46e-472a-b3d2-b59a29104634\")>,\n",
       " <selenium.webdriver.remote.webelement.WebElement (session=\"c8046cdf443460ed6913d388708a5b0c\", element=\"1426ecd2-a407-4136-8e0c-74e661a3e346\")>,\n",
       " <selenium.webdriver.remote.webelement.WebElement (session=\"c8046cdf443460ed6913d388708a5b0c\", element=\"23ded66a-a442-4094-ba38-a0fdf1ab8bbc\")>,\n",
       " <selenium.webdriver.remote.webelement.WebElement (session=\"c8046cdf443460ed6913d388708a5b0c\", element=\"18de7f14-d986-4d7d-a245-c2f91a5810cb\")>,\n",
       " <selenium.webdriver.remote.webelement.WebElement (session=\"c8046cdf443460ed6913d388708a5b0c\", element=\"6ea22ca4-891d-4a97-aaef-282263c1f2ae\")>,\n",
       " <selenium.webdriver.remote.webelement.WebElement (session=\"c8046cdf443460ed6913d388708a5b0c\", element=\"60ce1aa7-ec3e-4f50-8376-18fc6e807866\")>,\n",
       " <selenium.webdriver.remote.webelement.WebElement (session=\"c8046cdf443460ed6913d388708a5b0c\", element=\"79b9c133-23a7-42fa-a144-165b811531ab\")>,\n",
       " <selenium.webdriver.remote.webelement.WebElement (session=\"c8046cdf443460ed6913d388708a5b0c\", element=\"0f928a64-a7c5-4080-9367-6b2a1e951033\")>,\n",
       " <selenium.webdriver.remote.webelement.WebElement (session=\"c8046cdf443460ed6913d388708a5b0c\", element=\"9ad628ce-f7c3-49bc-90e5-aea43d95e978\")>,\n",
       " <selenium.webdriver.remote.webelement.WebElement (session=\"c8046cdf443460ed6913d388708a5b0c\", element=\"30e7a7a2-ea32-45f6-8370-ccd2015cd98c\")>,\n",
       " <selenium.webdriver.remote.webelement.WebElement (session=\"c8046cdf443460ed6913d388708a5b0c\", element=\"d2ba2669-4b3f-4f49-b1ee-5a723b4970e6\")>,\n",
       " <selenium.webdriver.remote.webelement.WebElement (session=\"c8046cdf443460ed6913d388708a5b0c\", element=\"bb41648a-afc2-4ad8-b89c-bad526c59bf1\")>,\n",
       " <selenium.webdriver.remote.webelement.WebElement (session=\"c8046cdf443460ed6913d388708a5b0c\", element=\"18f5fd4f-546c-47ad-a5d3-25fcf59b1d7e\")>,\n",
       " <selenium.webdriver.remote.webelement.WebElement (session=\"c8046cdf443460ed6913d388708a5b0c\", element=\"bf525340-32b2-4733-ae52-cb55b16ff0dc\")>,\n",
       " <selenium.webdriver.remote.webelement.WebElement (session=\"c8046cdf443460ed6913d388708a5b0c\", element=\"ea722930-6724-4e2c-8af0-bf67e36caf7e\")>,\n",
       " <selenium.webdriver.remote.webelement.WebElement (session=\"c8046cdf443460ed6913d388708a5b0c\", element=\"d8e26625-2682-4dff-813a-5c0d121c81dc\")>,\n",
       " <selenium.webdriver.remote.webelement.WebElement (session=\"c8046cdf443460ed6913d388708a5b0c\", element=\"e59d1b94-6d3a-45d4-bf33-18f21b18569a\")>,\n",
       " <selenium.webdriver.remote.webelement.WebElement (session=\"c8046cdf443460ed6913d388708a5b0c\", element=\"a6ecde10-3a5c-4af2-b278-cd210cdc7fd3\")>,\n",
       " <selenium.webdriver.remote.webelement.WebElement (session=\"c8046cdf443460ed6913d388708a5b0c\", element=\"42d4c749-c526-4f14-997a-0d7b35cef499\")>,\n",
       " <selenium.webdriver.remote.webelement.WebElement (session=\"c8046cdf443460ed6913d388708a5b0c\", element=\"4fe14deb-711d-43c5-bb70-242b6399da0b\")>,\n",
       " <selenium.webdriver.remote.webelement.WebElement (session=\"c8046cdf443460ed6913d388708a5b0c\", element=\"2013d086-824b-4579-9d65-dfbafae290a1\")>,\n",
       " <selenium.webdriver.remote.webelement.WebElement (session=\"c8046cdf443460ed6913d388708a5b0c\", element=\"d585bf13-cb9e-48e1-bbb4-66fcccec68b4\")>,\n",
       " <selenium.webdriver.remote.webelement.WebElement (session=\"c8046cdf443460ed6913d388708a5b0c\", element=\"10e90664-b296-4872-92eb-843a55a8823a\")>,\n",
       " <selenium.webdriver.remote.webelement.WebElement (session=\"c8046cdf443460ed6913d388708a5b0c\", element=\"822c3d1b-eb6c-428a-819a-9dd003674691\")>,\n",
       " <selenium.webdriver.remote.webelement.WebElement (session=\"c8046cdf443460ed6913d388708a5b0c\", element=\"b25b8e31-9d30-4fc3-9342-0cb4ae2bc091\")>,\n",
       " <selenium.webdriver.remote.webelement.WebElement (session=\"c8046cdf443460ed6913d388708a5b0c\", element=\"5fdb0c5d-4857-482e-b5cb-2821f6de231a\")>,\n",
       " <selenium.webdriver.remote.webelement.WebElement (session=\"c8046cdf443460ed6913d388708a5b0c\", element=\"03921cc1-11a0-4b0d-afb5-b6b74368fed1\")>,\n",
       " <selenium.webdriver.remote.webelement.WebElement (session=\"c8046cdf443460ed6913d388708a5b0c\", element=\"100b78b3-357a-47fa-9da8-17f11c7af1fe\")>,\n",
       " <selenium.webdriver.remote.webelement.WebElement (session=\"c8046cdf443460ed6913d388708a5b0c\", element=\"0fa6a683-02b0-4e65-bad8-74d9ed2b45bd\")>,\n",
       " <selenium.webdriver.remote.webelement.WebElement (session=\"c8046cdf443460ed6913d388708a5b0c\", element=\"59e51f9a-fe17-4bac-85fb-291e999d12f1\")>,\n",
       " <selenium.webdriver.remote.webelement.WebElement (session=\"c8046cdf443460ed6913d388708a5b0c\", element=\"6865dfa4-a166-4bc9-ba67-990dc582c96f\")>]"
      ]
     },
     "execution_count": 47,
     "metadata": {},
     "output_type": "execute_result"
    }
   ],
   "source": [
    "# so lets extract all the tags having the salary-titles\n",
    "titles_tags=driver.find_elements_by_xpath(\"//p[@class='grey-text lH20 fleft ml-8 txtLbl']//span\")\n",
    "titles_tags"
   ]
  },
  {
   "cell_type": "code",
   "execution_count": 48,
   "metadata": {},
   "outputs": [
    {
     "data": {
      "text/plain": [
       "['0-3 Lakhs',\n",
       " '(162)',\n",
       " '3-6 Lakhs',\n",
       " '(545)',\n",
       " '6-10 Lakhs',\n",
       " '(975)',\n",
       " '10-15 Lakhs',\n",
       " '(809)',\n",
       " 'WFH during Covid',\n",
       " '(10)',\n",
       " 'Delhi / NCR',\n",
       " '(1738)',\n",
       " 'Gurgaon/Gurugram',\n",
       " '(958)',\n",
       " 'Noida',\n",
       " '(401)',\n",
       " 'Bangalore/Bengaluru',\n",
       " '(353)',\n",
       " 'Premium Engg',\n",
       " '(584)',\n",
       " 'Premium MBA',\n",
       " '(60)',\n",
       " 'International',\n",
       " '(3)',\n",
       " 'All Jobs',\n",
       " 'Company Jobs',\n",
       " '(1195)',\n",
       " 'Consultant Jobs',\n",
       " '(555)',\n",
       " 'Accenture',\n",
       " '(61)',\n",
       " 'Collabera Technologies',\n",
       " '(11)',\n",
       " 'UnitedHealth Group',\n",
       " '(10)',\n",
       " 'Genpact',\n",
       " '(8)',\n",
       " 'Post Graduation Not Required',\n",
       " '(564)',\n",
       " 'Any Postgraduate',\n",
       " '(425)',\n",
       " 'Any Graduate',\n",
       " '(1025)',\n",
       " 'B.Tech/B.E.',\n",
       " '(650)',\n",
       " 'IT Services & Consulting',\n",
       " '(854)',\n",
       " 'Recruitment / Staffing',\n",
       " '(121)',\n",
       " 'Analytics / KPO / Research',\n",
       " '(117)',\n",
       " 'Internet',\n",
       " '(88)']"
      ]
     },
     "execution_count": 48,
     "metadata": {},
     "output_type": "execute_result"
    }
   ],
   "source": [
    "# Now the text of the salary title is inside the tags extracted above\n",
    "\n",
    "# so we will run a loop to iterate over the tags extracted above and extract the text inside them.\n",
    "salary_titles=[]\n",
    "for i in titles_tags:\n",
    "    salary_titles.append(i.text)\n",
    "salary_titles   "
   ]
  },
  {
   "cell_type": "code",
   "execution_count": 49,
   "metadata": {},
   "outputs": [
    {
     "data": {
      "text/plain": [
       "[<selenium.webdriver.remote.webelement.WebElement (session=\"c8046cdf443460ed6913d388708a5b0c\", element=\"87cae1ed-9e6a-486f-ab04-0efd1b2ef03e\")>,\n",
       " <selenium.webdriver.remote.webelement.WebElement (session=\"c8046cdf443460ed6913d388708a5b0c\", element=\"eef6c3e3-eb2a-4a9a-8727-93e14fe06896\")>,\n",
       " <selenium.webdriver.remote.webelement.WebElement (session=\"c8046cdf443460ed6913d388708a5b0c\", element=\"fa5a5d85-aedc-437f-bb2b-0986aa9f16a1\")>,\n",
       " <selenium.webdriver.remote.webelement.WebElement (session=\"c8046cdf443460ed6913d388708a5b0c\", element=\"f5e125f7-030d-47b8-ab85-7c347567bec1\")>,\n",
       " <selenium.webdriver.remote.webelement.WebElement (session=\"c8046cdf443460ed6913d388708a5b0c\", element=\"98311b95-c96e-4ec3-8dfa-96abd143f171\")>,\n",
       " <selenium.webdriver.remote.webelement.WebElement (session=\"c8046cdf443460ed6913d388708a5b0c\", element=\"94cf1727-ba46-4220-b34a-aad9b709a8c4\")>,\n",
       " <selenium.webdriver.remote.webelement.WebElement (session=\"c8046cdf443460ed6913d388708a5b0c\", element=\"3d0a3454-8051-4717-95e7-647188a51803\")>,\n",
       " <selenium.webdriver.remote.webelement.WebElement (session=\"c8046cdf443460ed6913d388708a5b0c\", element=\"15a97b89-fbe0-4843-916c-f01a456bf912\")>,\n",
       " <selenium.webdriver.remote.webelement.WebElement (session=\"c8046cdf443460ed6913d388708a5b0c\", element=\"1340869c-777b-4b3d-9af6-79f8583fa580\")>,\n",
       " <selenium.webdriver.remote.webelement.WebElement (session=\"c8046cdf443460ed6913d388708a5b0c\", element=\"b96056ce-2d7c-4e76-a09a-d7ce9eb004c3\")>,\n",
       " <selenium.webdriver.remote.webelement.WebElement (session=\"c8046cdf443460ed6913d388708a5b0c\", element=\"ae326df3-e2f7-421e-bdb4-dd5db3ddd539\")>,\n",
       " <selenium.webdriver.remote.webelement.WebElement (session=\"c8046cdf443460ed6913d388708a5b0c\", element=\"4120739a-33e9-4f3c-a06b-ff843d2d9ce5\")>,\n",
       " <selenium.webdriver.remote.webelement.WebElement (session=\"c8046cdf443460ed6913d388708a5b0c\", element=\"0c2cae94-677e-4c83-ab01-e629c6890fe1\")>,\n",
       " <selenium.webdriver.remote.webelement.WebElement (session=\"c8046cdf443460ed6913d388708a5b0c\", element=\"1d4d9849-24ee-4ef5-9bec-93b6f866c237\")>,\n",
       " <selenium.webdriver.remote.webelement.WebElement (session=\"c8046cdf443460ed6913d388708a5b0c\", element=\"6c23ba19-dff9-454f-abd4-106228f22dbb\")>,\n",
       " <selenium.webdriver.remote.webelement.WebElement (session=\"c8046cdf443460ed6913d388708a5b0c\", element=\"cda55618-b894-40c8-9ae5-c1cb71feabaa\")>,\n",
       " <selenium.webdriver.remote.webelement.WebElement (session=\"c8046cdf443460ed6913d388708a5b0c\", element=\"2d7698b2-4c53-4439-9fad-d74e82b9aa9d\")>,\n",
       " <selenium.webdriver.remote.webelement.WebElement (session=\"c8046cdf443460ed6913d388708a5b0c\", element=\"ee249f34-79d5-4d87-b6f0-47f657cdac2d\")>,\n",
       " <selenium.webdriver.remote.webelement.WebElement (session=\"c8046cdf443460ed6913d388708a5b0c\", element=\"560eb377-d8a3-42dd-a147-cf37c871a2c3\")>,\n",
       " <selenium.webdriver.remote.webelement.WebElement (session=\"c8046cdf443460ed6913d388708a5b0c\", element=\"085044a4-e7f6-4ab2-b34b-e15641bd8f65\")>]"
      ]
     },
     "execution_count": 49,
     "metadata": {},
     "output_type": "execute_result"
    }
   ],
   "source": [
    "# so lets extract all the tags having the job-titles\n",
    "titles_tags=driver.find_elements_by_xpath(\"//a[@class='title fw500 ellipsis']\")\n",
    "titles_tags"
   ]
  },
  {
   "cell_type": "code",
   "execution_count": 50,
   "metadata": {},
   "outputs": [
    {
     "data": {
      "text/plain": [
       "['Data Scientist/Data Analyst /Business Analyst',\n",
       " 'Senior Data Scientist',\n",
       " 'Team Leader Operations/Data Scientist',\n",
       " 'Data Scientist - Machine Learning/Deep Learning',\n",
       " 'Only Fresher / Data Scientist / Data Analyst / Analytics - MNC Jobs',\n",
       " 'Data Scientist - Machine Learning/ NLP',\n",
       " 'Data Scientist',\n",
       " 'Data Scientist (Early Joiner)',\n",
       " 'Data Scientist || Python || C2H',\n",
       " 'Data Scientist || Python || C2H',\n",
       " 'Advanced Analytics -Data Scientist',\n",
       " 'Data Scientist',\n",
       " 'Data Scientist -Delhi',\n",
       " 'Senior Data Scientist',\n",
       " 'Data Scientist',\n",
       " 'Data Scientist',\n",
       " 'Data Scientist',\n",
       " 'Data Scientist',\n",
       " 'Associate Data Scientist',\n",
       " 'DATA SCIENTIST']"
      ]
     },
     "execution_count": 50,
     "metadata": {},
     "output_type": "execute_result"
    }
   ],
   "source": [
    "# Now the text of the job title is inside the tags extracted above\n",
    "\n",
    "# so we will run a loop to iterate over the tags extracted above and extract the text inside them.\n",
    "job_titles=[]\n",
    "for i in titles_tags:\n",
    "    job_titles.append(i.text)\n",
    "job_titles "
   ]
  },
  {
   "cell_type": "code",
   "execution_count": null,
   "metadata": {},
   "outputs": [],
   "source": []
  },
  {
   "cell_type": "code",
   "execution_count": null,
   "metadata": {},
   "outputs": [],
   "source": []
  },
  {
   "cell_type": "code",
   "execution_count": null,
   "metadata": {},
   "outputs": [],
   "source": []
  },
  {
   "cell_type": "code",
   "execution_count": null,
   "metadata": {},
   "outputs": [],
   "source": [
    "4."
   ]
  },
  {
   "cell_type": "code",
   "execution_count": 51,
   "metadata": {},
   "outputs": [
    {
     "name": "stdout",
     "output_type": "stream",
     "text": [
      "Requirement already satisfied: selenium in c:\\users\\sagnik das\\anaconda3\\lib\\site-packages (3.141.0)\n",
      "Requirement already satisfied: urllib3 in c:\\users\\sagnik das\\anaconda3\\lib\\site-packages (from selenium) (1.25.11)\n"
     ]
    }
   ],
   "source": [
    "# lets first install the selinium library\n",
    "! pip install selenium"
   ]
  },
  {
   "cell_type": "code",
   "execution_count": 52,
   "metadata": {},
   "outputs": [],
   "source": [
    "# lets now import all the required libraries\n",
    "import selenium\n",
    "import pandas as pd\n",
    "from selenium import webdriver\n",
    "import time\n",
    "from selenium.common.exceptions import NoSuchElementException           # Importing Exceptions"
   ]
  },
  {
   "cell_type": "code",
   "execution_count": 53,
   "metadata": {},
   "outputs": [],
   "source": [
    "# Lets first connect to the web driver\n",
    "driver = webdriver.Chrome(\"chromedriver.exe\") "
   ]
  },
  {
   "cell_type": "code",
   "execution_count": 54,
   "metadata": {},
   "outputs": [],
   "source": [
    "url = 'https://www.glassdoor.co.in/index.htm'\n",
    "driver.get(url)"
   ]
  },
  {
   "cell_type": "code",
   "execution_count": 55,
   "metadata": {},
   "outputs": [
    {
     "data": {
      "text/plain": [
       "<selenium.webdriver.remote.webelement.WebElement (session=\"e0d9874c40f186083d261f8b8c2642f7\", element=\"d0862983-525e-4e3f-94eb-9f7d5408f6d8\")>"
      ]
     },
     "execution_count": 55,
     "metadata": {},
     "output_type": "execute_result"
    }
   ],
   "source": [
    "search_job = driver.find_element_by_id('sc.keyword')\n",
    "search_job"
   ]
  },
  {
   "cell_type": "code",
   "execution_count": 56,
   "metadata": {},
   "outputs": [],
   "source": [
    "# write on search bar\n",
    "search_job.send_keys(\"Data Scientist\")"
   ]
  },
  {
   "cell_type": "code",
   "execution_count": 57,
   "metadata": {},
   "outputs": [],
   "source": [
    "# finding element for job location bar\n",
    "search_loc = driver.find_element_by_id(\"sc.location\")\n",
    "search_loc.send_keys(\"Noida\")"
   ]
  },
  {
   "cell_type": "code",
   "execution_count": 60,
   "metadata": {},
   "outputs": [
    {
     "data": {
      "text/plain": [
       "[<selenium.webdriver.remote.webelement.WebElement (session=\"e0d9874c40f186083d261f8b8c2642f7\", element=\"7f73c206-cfa0-475e-908c-b037aed704a8\")>]"
      ]
     },
     "execution_count": 60,
     "metadata": {},
     "output_type": "execute_result"
    }
   ],
   "source": [
    "# so lets extract all the tags having the job-titles\n",
    "titles_tags=driver.find_elements_by_xpath(\"//div[@class='css-87uc0g e1tk4kwz1']\")\n",
    "titles_tags"
   ]
  },
  {
   "cell_type": "code",
   "execution_count": 61,
   "metadata": {},
   "outputs": [
    {
     "data": {
      "text/plain": [
       "['Gravity Advisors Pvt Ltd']"
      ]
     },
     "execution_count": 61,
     "metadata": {},
     "output_type": "execute_result"
    }
   ],
   "source": [
    "# Now the text of the job title is inside the tags extracted above\n",
    "\n",
    "# so we will run a loop to iterate over the tags extracted above and extract the text inside them.\n",
    "job_titles=[]\n",
    "for i in titles_tags:\n",
    "    job_titles.append(i.text)\n",
    "job_titles "
   ]
  },
  {
   "cell_type": "code",
   "execution_count": 70,
   "metadata": {},
   "outputs": [
    {
     "data": {
      "text/plain": [
       "[<selenium.webdriver.remote.webelement.WebElement (session=\"e0d9874c40f186083d261f8b8c2642f7\", element=\"09d29694-41d0-40f5-8257-de126e0e96ec\")>]"
      ]
     },
     "execution_count": 70,
     "metadata": {},
     "output_type": "execute_result"
    }
   ],
   "source": [
    "# so lets extract all the tags having the job-titles\n",
    "titles_tags=driver.find_elements_by_xpath(\"//div[@class='css-87uc0g e1tk4kwz1']\")\n",
    "titles_tags"
   ]
  },
  {
   "cell_type": "code",
   "execution_count": 71,
   "metadata": {},
   "outputs": [
    {
     "data": {
      "text/plain": [
       "['Ericsson\\n4.1']"
      ]
     },
     "execution_count": 71,
     "metadata": {},
     "output_type": "execute_result"
    }
   ],
   "source": [
    "# Now the text of the job title is inside the tags extracted above\n",
    "\n",
    "# so we will run a loop to iterate over the tags extracted above and extract the text inside them.\n",
    "job_titles=[]\n",
    "for i in titles_tags:\n",
    "    job_titles.append(i.text)\n",
    "job_titles "
   ]
  },
  {
   "cell_type": "code",
   "execution_count": 72,
   "metadata": {},
   "outputs": [
    {
     "data": {
      "text/plain": [
       "[<selenium.webdriver.remote.webelement.WebElement (session=\"e0d9874c40f186083d261f8b8c2642f7\", element=\"d1a453d0-9039-4de4-a36b-86ebd584eba6\")>]"
      ]
     },
     "execution_count": 72,
     "metadata": {},
     "output_type": "execute_result"
    }
   ],
   "source": [
    "# so lets extract all the tags having the job-titles\n",
    "titles_tags=driver.find_elements_by_xpath(\"//div[@class='css-87uc0g e1tk4kwz1']\")\n",
    "titles_tags"
   ]
  },
  {
   "cell_type": "code",
   "execution_count": 73,
   "metadata": {},
   "outputs": [
    {
     "data": {
      "text/plain": [
       "['Crowe\\n3.8']"
      ]
     },
     "execution_count": 73,
     "metadata": {},
     "output_type": "execute_result"
    }
   ],
   "source": [
    "# Now the text of the job title is inside the tags extracted above\n",
    "\n",
    "# so we will run a loop to iterate over the tags extracted above and extract the text inside them.\n",
    "job_titles=[]\n",
    "for i in titles_tags:\n",
    "    job_titles.append(i.text)\n",
    "job_titles "
   ]
  },
  {
   "cell_type": "code",
   "execution_count": 74,
   "metadata": {},
   "outputs": [
    {
     "data": {
      "text/plain": [
       "[<selenium.webdriver.remote.webelement.WebElement (session=\"e0d9874c40f186083d261f8b8c2642f7\", element=\"f76b8557-7921-4ead-9d2d-690bac03aa6b\")>]"
      ]
     },
     "execution_count": 74,
     "metadata": {},
     "output_type": "execute_result"
    }
   ],
   "source": [
    "# so lets extract all the tags having the job-titles\n",
    "titles_tags=driver.find_elements_by_xpath(\"//div[@class='css-87uc0g e1tk4kwz1']\")\n",
    "titles_tags"
   ]
  },
  {
   "cell_type": "code",
   "execution_count": 75,
   "metadata": {},
   "outputs": [
    {
     "data": {
      "text/plain": [
       "['White Vectors']"
      ]
     },
     "execution_count": 75,
     "metadata": {},
     "output_type": "execute_result"
    }
   ],
   "source": [
    "# Now the text of the job title is inside the tags extracted above\n",
    "\n",
    "# so we will run a loop to iterate over the tags extracted above and extract the text inside them.\n",
    "job_titles=[]\n",
    "for i in titles_tags:\n",
    "    job_titles.append(i.text)\n",
    "job_titles "
   ]
  },
  {
   "cell_type": "code",
   "execution_count": 76,
   "metadata": {},
   "outputs": [
    {
     "data": {
      "text/plain": [
       "[<selenium.webdriver.remote.webelement.WebElement (session=\"e0d9874c40f186083d261f8b8c2642f7\", element=\"f42c957c-5f68-44fb-b3f5-57fe82ac6238\")>]"
      ]
     },
     "execution_count": 76,
     "metadata": {},
     "output_type": "execute_result"
    }
   ],
   "source": [
    "# so lets extract all the tags having the job-titles\n",
    "titles_tags=driver.find_elements_by_xpath(\"//div[@class='css-87uc0g e1tk4kwz1']\")\n",
    "titles_tags"
   ]
  },
  {
   "cell_type": "code",
   "execution_count": 77,
   "metadata": {},
   "outputs": [
    {
     "data": {
      "text/plain": [
       "['Barclays\\n4.0']"
      ]
     },
     "execution_count": 77,
     "metadata": {},
     "output_type": "execute_result"
    }
   ],
   "source": [
    "# Now the text of the job title is inside the tags extracted above\n",
    "\n",
    "# so we will run a loop to iterate over the tags extracted above and extract the text inside them.\n",
    "job_titles=[]\n",
    "for i in titles_tags:\n",
    "    job_titles.append(i.text)\n",
    "job_titles "
   ]
  },
  {
   "cell_type": "code",
   "execution_count": 78,
   "metadata": {},
   "outputs": [
    {
     "data": {
      "text/plain": [
       "[<selenium.webdriver.remote.webelement.WebElement (session=\"e0d9874c40f186083d261f8b8c2642f7\", element=\"1e0c07b3-339e-45c0-ad1c-66c3adc1c1d7\")>]"
      ]
     },
     "execution_count": 78,
     "metadata": {},
     "output_type": "execute_result"
    }
   ],
   "source": [
    "# so lets extract all the tags having the job-titles\n",
    "titles_tags=driver.find_elements_by_xpath(\"//div[@class='css-87uc0g e1tk4kwz1']\")\n",
    "titles_tags"
   ]
  },
  {
   "cell_type": "code",
   "execution_count": 79,
   "metadata": {},
   "outputs": [
    {
     "data": {
      "text/plain": [
       "['Data Patterns\\n3.1']"
      ]
     },
     "execution_count": 79,
     "metadata": {},
     "output_type": "execute_result"
    }
   ],
   "source": [
    "# Now the text of the job title is inside the tags extracted above\n",
    "\n",
    "# so we will run a loop to iterate over the tags extracted above and extract the text inside them.\n",
    "job_titles=[]\n",
    "for i in titles_tags:\n",
    "    job_titles.append(i.text)\n",
    "job_titles "
   ]
  },
  {
   "cell_type": "code",
   "execution_count": 80,
   "metadata": {},
   "outputs": [
    {
     "data": {
      "text/plain": [
       "[<selenium.webdriver.remote.webelement.WebElement (session=\"e0d9874c40f186083d261f8b8c2642f7\", element=\"437dfe59-fa98-495b-a754-4c4f55ad6d8a\")>]"
      ]
     },
     "execution_count": 80,
     "metadata": {},
     "output_type": "execute_result"
    }
   ],
   "source": [
    "# so lets extract all the tags having the job-titles\n",
    "titles_tags=driver.find_elements_by_xpath(\"//div[@class='css-87uc0g e1tk4kwz1']\")\n",
    "titles_tags"
   ]
  },
  {
   "cell_type": "code",
   "execution_count": 82,
   "metadata": {},
   "outputs": [
    {
     "data": {
      "text/plain": [
       "['Biz2Credit Inc\\n3.9']"
      ]
     },
     "execution_count": 82,
     "metadata": {},
     "output_type": "execute_result"
    }
   ],
   "source": [
    "# Now the text of the job title is inside the tags extracted above\n",
    "\n",
    "# so we will run a loop to iterate over the tags extracted above and extract the text inside them.\n",
    "job_titles=[]\n",
    "for i in titles_tags:\n",
    "    job_titles.append(i.text)\n",
    "job_titles "
   ]
  },
  {
   "cell_type": "code",
   "execution_count": 83,
   "metadata": {},
   "outputs": [
    {
     "data": {
      "text/plain": [
       "[<selenium.webdriver.remote.webelement.WebElement (session=\"e0d9874c40f186083d261f8b8c2642f7\", element=\"426bc387-79aa-4db3-82f6-f6ffe4274a55\")>]"
      ]
     },
     "execution_count": 83,
     "metadata": {},
     "output_type": "execute_result"
    }
   ],
   "source": [
    "# so lets extract all the tags having the job-titles\n",
    "titles_tags=driver.find_elements_by_xpath(\"//div[@class='css-87uc0g e1tk4kwz1']\")\n",
    "titles_tags"
   ]
  },
  {
   "cell_type": "code",
   "execution_count": 84,
   "metadata": {},
   "outputs": [
    {
     "data": {
      "text/plain": [
       "['Ginger Webs Pvt. Ltd.']"
      ]
     },
     "execution_count": 84,
     "metadata": {},
     "output_type": "execute_result"
    }
   ],
   "source": [
    "# Now the text of the job title is inside the tags extracted above\n",
    "\n",
    "# so we will run a loop to iterate over the tags extracted above and extract the text inside them.\n",
    "job_titles=[]\n",
    "for i in titles_tags:\n",
    "    job_titles.append(i.text)\n",
    "job_titles "
   ]
  },
  {
   "cell_type": "code",
   "execution_count": 85,
   "metadata": {},
   "outputs": [
    {
     "data": {
      "text/plain": [
       "[<selenium.webdriver.remote.webelement.WebElement (session=\"e0d9874c40f186083d261f8b8c2642f7\", element=\"36a31038-6dfd-4c1c-ba9c-dd1b0fb4b2ad\")>]"
      ]
     },
     "execution_count": 85,
     "metadata": {},
     "output_type": "execute_result"
    }
   ],
   "source": [
    "# so lets extract all the tags having the job-titles\n",
    "titles_tags=driver.find_elements_by_xpath(\"//div[@class='css-87uc0g e1tk4kwz1']\")\n",
    "titles_tags"
   ]
  },
  {
   "cell_type": "code",
   "execution_count": 86,
   "metadata": {},
   "outputs": [
    {
     "data": {
      "text/plain": [
       "['WinZO\\n4.7']"
      ]
     },
     "execution_count": 86,
     "metadata": {},
     "output_type": "execute_result"
    }
   ],
   "source": [
    "# Now the text of the job title is inside the tags extracted above\n",
    "\n",
    "# so we will run a loop to iterate over the tags extracted above and extract the text inside them.\n",
    "job_titles=[]\n",
    "for i in titles_tags:\n",
    "    job_titles.append(i.text)\n",
    "job_titles "
   ]
  },
  {
   "cell_type": "code",
   "execution_count": 87,
   "metadata": {},
   "outputs": [
    {
     "data": {
      "text/plain": [
       "[<selenium.webdriver.remote.webelement.WebElement (session=\"e0d9874c40f186083d261f8b8c2642f7\", element=\"8318fd16-8fd3-40bb-b99e-6b37747cc112\")>]"
      ]
     },
     "execution_count": 87,
     "metadata": {},
     "output_type": "execute_result"
    }
   ],
   "source": [
    "# so lets extract all the tags having the job-titles\n",
    "titles_tags=driver.find_elements_by_xpath(\"//div[@class='css-87uc0g e1tk4kwz1']\")\n",
    "titles_tags"
   ]
  },
  {
   "cell_type": "code",
   "execution_count": 88,
   "metadata": {},
   "outputs": [
    {
     "data": {
      "text/plain": [
       "['Urban Company']"
      ]
     },
     "execution_count": 88,
     "metadata": {},
     "output_type": "execute_result"
    }
   ],
   "source": [
    "# Now the text of the job title is inside the tags extracted above\n",
    "\n",
    "# so we will run a loop to iterate over the tags extracted above and extract the text inside them.\n",
    "job_titles=[]\n",
    "for i in titles_tags:\n",
    "    job_titles.append(i.text)\n",
    "job_titles "
   ]
  },
  {
   "cell_type": "code",
   "execution_count": null,
   "metadata": {},
   "outputs": [],
   "source": []
  },
  {
   "cell_type": "code",
   "execution_count": null,
   "metadata": {},
   "outputs": [],
   "source": []
  },
  {
   "cell_type": "code",
   "execution_count": null,
   "metadata": {},
   "outputs": [],
   "source": []
  },
  {
   "cell_type": "code",
   "execution_count": null,
   "metadata": {},
   "outputs": [],
   "source": [
    "5."
   ]
  },
  {
   "cell_type": "code",
   "execution_count": 89,
   "metadata": {},
   "outputs": [
    {
     "name": "stdout",
     "output_type": "stream",
     "text": [
      "Requirement already satisfied: selenium in c:\\users\\sagnik das\\anaconda3\\lib\\site-packages (3.141.0)\n",
      "Requirement already satisfied: urllib3 in c:\\users\\sagnik das\\anaconda3\\lib\\site-packages (from selenium) (1.25.11)\n"
     ]
    }
   ],
   "source": [
    "# lets first install the selinium library\n",
    "! pip install selenium"
   ]
  },
  {
   "cell_type": "code",
   "execution_count": 90,
   "metadata": {},
   "outputs": [],
   "source": [
    "# lets now import all the required libraries\n",
    "import selenium\n",
    "import pandas as pd\n",
    "from selenium import webdriver\n",
    "import time\n",
    "from selenium.common.exceptions import NoSuchElementException           # Importing Exceptions"
   ]
  },
  {
   "cell_type": "code",
   "execution_count": 91,
   "metadata": {},
   "outputs": [],
   "source": [
    "# Lets first connect to the web driver\n",
    "driver = webdriver.Chrome(\"chromedriver.exe\") "
   ]
  },
  {
   "cell_type": "code",
   "execution_count": 92,
   "metadata": {},
   "outputs": [],
   "source": [
    "url = 'https://www.glassdoor.co.in/Salaries/index.htm'\n",
    "driver.get(url)"
   ]
  },
  {
   "cell_type": "code",
   "execution_count": 98,
   "metadata": {},
   "outputs": [
    {
     "data": {
      "text/plain": [
       "<selenium.webdriver.remote.webelement.WebElement (session=\"680bcf712691e7e4937ed9a32f158c15\", element=\"ce8d1de7-1dfe-43d1-bee0-f07fed47ebc0\")>"
      ]
     },
     "execution_count": 98,
     "metadata": {},
     "output_type": "execute_result"
    }
   ],
   "source": [
    "search_job = driver.find_element_by_id('KeywordSearch')\n",
    "search_job"
   ]
  },
  {
   "cell_type": "code",
   "execution_count": 99,
   "metadata": {},
   "outputs": [],
   "source": [
    "# write on search bar\n",
    "search_job.send_keys(\"Data Scientist\")"
   ]
  },
  {
   "cell_type": "code",
   "execution_count": 101,
   "metadata": {},
   "outputs": [],
   "source": [
    "# finding element for job location bar\n",
    "search_loc = driver.find_element_by_id(\"LocationSearch\")\n",
    "search_loc.send_keys(\"Noida\")"
   ]
  },
  {
   "cell_type": "code",
   "execution_count": 102,
   "metadata": {},
   "outputs": [
    {
     "data": {
      "text/plain": [
       "[]"
      ]
     },
     "execution_count": 102,
     "metadata": {},
     "output_type": "execute_result"
    }
   ],
   "source": [
    "# so lets extract all the tags having the job-titles\n",
    "titles_tags=driver.find_elements_by_xpath(\"//div[@class='col px-xsm']//h3\")\n",
    "titles_tags"
   ]
  },
  {
   "cell_type": "code",
   "execution_count": 103,
   "metadata": {},
   "outputs": [
    {
     "ename": "InvalidSelectorException",
     "evalue": "Message: invalid selector: Unable to locate an element with the xpath expression //[@class=\"m-0 css-g261rn\"] because of the following error:\nSyntaxError: Failed to execute 'evaluate' on 'Document': The string '//[@class=\"m-0 css-g261rn\"]' is not a valid XPath expression.\n  (Session info: chrome=91.0.4472.124)\n",
     "output_type": "error",
     "traceback": [
      "\u001b[1;31m---------------------------------------------------------------------------\u001b[0m",
      "\u001b[1;31mInvalidSelectorException\u001b[0m                  Traceback (most recent call last)",
      "\u001b[1;32m<ipython-input-103-7de947284f9f>\u001b[0m in \u001b[0;36m<module>\u001b[1;34m\u001b[0m\n\u001b[0;32m      1\u001b[0m \u001b[0mJob_opening_urls\u001b[0m  \u001b[1;33m=\u001b[0m \u001b[1;33m[\u001b[0m\u001b[1;33m]\u001b[0m\u001b[1;33m\u001b[0m\u001b[1;33m\u001b[0m\u001b[0m\n\u001b[0;32m      2\u001b[0m \u001b[1;33m\u001b[0m\u001b[0m\n\u001b[1;32m----> 3\u001b[1;33m \u001b[0murl\u001b[0m \u001b[1;33m=\u001b[0m \u001b[0mdriver\u001b[0m\u001b[1;33m.\u001b[0m\u001b[0mfind_elements_by_xpath\u001b[0m\u001b[1;33m(\u001b[0m\u001b[1;34m'//[@class=\"m-0 css-g261rn\"]'\u001b[0m\u001b[1;33m)\u001b[0m\u001b[1;33m\u001b[0m\u001b[1;33m\u001b[0m\u001b[0m\n\u001b[0m\u001b[0;32m      4\u001b[0m \u001b[1;32mfor\u001b[0m \u001b[0mi\u001b[0m \u001b[1;32min\u001b[0m \u001b[0murl\u001b[0m\u001b[1;33m:\u001b[0m\u001b[1;33m\u001b[0m\u001b[1;33m\u001b[0m\u001b[0m\n\u001b[0;32m      5\u001b[0m          \u001b[0mjob_opening_urls\u001b[0m\u001b[1;33m.\u001b[0m\u001b[0mappend\u001b[0m\u001b[1;33m(\u001b[0m\u001b[0mi\u001b[0m\u001b[1;33m.\u001b[0m\u001b[0mget_attribute\u001b[0m\u001b[1;33m(\u001b[0m\u001b[1;34m'href'\u001b[0m\u001b[1;33m)\u001b[0m\u001b[1;33m)\u001b[0m\u001b[1;33m\u001b[0m\u001b[1;33m\u001b[0m\u001b[0m\n",
      "\u001b[1;32m~\\anaconda3\\lib\\site-packages\\selenium\\webdriver\\remote\\webdriver.py\u001b[0m in \u001b[0;36mfind_elements_by_xpath\u001b[1;34m(self, xpath)\u001b[0m\n\u001b[0;32m    408\u001b[0m             \u001b[0melements\u001b[0m \u001b[1;33m=\u001b[0m \u001b[0mdriver\u001b[0m\u001b[1;33m.\u001b[0m\u001b[0mfind_elements_by_xpath\u001b[0m\u001b[1;33m(\u001b[0m\u001b[1;34m\"//div[contains(@class, 'foo')]\"\u001b[0m\u001b[1;33m)\u001b[0m\u001b[1;33m\u001b[0m\u001b[1;33m\u001b[0m\u001b[0m\n\u001b[0;32m    409\u001b[0m         \"\"\"\n\u001b[1;32m--> 410\u001b[1;33m         \u001b[1;32mreturn\u001b[0m \u001b[0mself\u001b[0m\u001b[1;33m.\u001b[0m\u001b[0mfind_elements\u001b[0m\u001b[1;33m(\u001b[0m\u001b[0mby\u001b[0m\u001b[1;33m=\u001b[0m\u001b[0mBy\u001b[0m\u001b[1;33m.\u001b[0m\u001b[0mXPATH\u001b[0m\u001b[1;33m,\u001b[0m \u001b[0mvalue\u001b[0m\u001b[1;33m=\u001b[0m\u001b[0mxpath\u001b[0m\u001b[1;33m)\u001b[0m\u001b[1;33m\u001b[0m\u001b[1;33m\u001b[0m\u001b[0m\n\u001b[0m\u001b[0;32m    411\u001b[0m \u001b[1;33m\u001b[0m\u001b[0m\n\u001b[0;32m    412\u001b[0m     \u001b[1;32mdef\u001b[0m \u001b[0mfind_element_by_link_text\u001b[0m\u001b[1;33m(\u001b[0m\u001b[0mself\u001b[0m\u001b[1;33m,\u001b[0m \u001b[0mlink_text\u001b[0m\u001b[1;33m)\u001b[0m\u001b[1;33m:\u001b[0m\u001b[1;33m\u001b[0m\u001b[1;33m\u001b[0m\u001b[0m\n",
      "\u001b[1;32m~\\anaconda3\\lib\\site-packages\\selenium\\webdriver\\remote\\webdriver.py\u001b[0m in \u001b[0;36mfind_elements\u001b[1;34m(self, by, value)\u001b[0m\n\u001b[0;32m   1003\u001b[0m         \u001b[1;31m# Return empty list if driver returns null\u001b[0m\u001b[1;33m\u001b[0m\u001b[1;33m\u001b[0m\u001b[1;33m\u001b[0m\u001b[0m\n\u001b[0;32m   1004\u001b[0m         \u001b[1;31m# See https://github.com/SeleniumHQ/selenium/issues/4555\u001b[0m\u001b[1;33m\u001b[0m\u001b[1;33m\u001b[0m\u001b[1;33m\u001b[0m\u001b[0m\n\u001b[1;32m-> 1005\u001b[1;33m         return self.execute(Command.FIND_ELEMENTS, {\n\u001b[0m\u001b[0;32m   1006\u001b[0m             \u001b[1;34m'using'\u001b[0m\u001b[1;33m:\u001b[0m \u001b[0mby\u001b[0m\u001b[1;33m,\u001b[0m\u001b[1;33m\u001b[0m\u001b[1;33m\u001b[0m\u001b[0m\n\u001b[0;32m   1007\u001b[0m             'value': value})['value'] or []\n",
      "\u001b[1;32m~\\anaconda3\\lib\\site-packages\\selenium\\webdriver\\remote\\webdriver.py\u001b[0m in \u001b[0;36mexecute\u001b[1;34m(self, driver_command, params)\u001b[0m\n\u001b[0;32m    319\u001b[0m         \u001b[0mresponse\u001b[0m \u001b[1;33m=\u001b[0m \u001b[0mself\u001b[0m\u001b[1;33m.\u001b[0m\u001b[0mcommand_executor\u001b[0m\u001b[1;33m.\u001b[0m\u001b[0mexecute\u001b[0m\u001b[1;33m(\u001b[0m\u001b[0mdriver_command\u001b[0m\u001b[1;33m,\u001b[0m \u001b[0mparams\u001b[0m\u001b[1;33m)\u001b[0m\u001b[1;33m\u001b[0m\u001b[1;33m\u001b[0m\u001b[0m\n\u001b[0;32m    320\u001b[0m         \u001b[1;32mif\u001b[0m \u001b[0mresponse\u001b[0m\u001b[1;33m:\u001b[0m\u001b[1;33m\u001b[0m\u001b[1;33m\u001b[0m\u001b[0m\n\u001b[1;32m--> 321\u001b[1;33m             \u001b[0mself\u001b[0m\u001b[1;33m.\u001b[0m\u001b[0merror_handler\u001b[0m\u001b[1;33m.\u001b[0m\u001b[0mcheck_response\u001b[0m\u001b[1;33m(\u001b[0m\u001b[0mresponse\u001b[0m\u001b[1;33m)\u001b[0m\u001b[1;33m\u001b[0m\u001b[1;33m\u001b[0m\u001b[0m\n\u001b[0m\u001b[0;32m    322\u001b[0m             response['value'] = self._unwrap_value(\n\u001b[0;32m    323\u001b[0m                 response.get('value', None))\n",
      "\u001b[1;32m~\\anaconda3\\lib\\site-packages\\selenium\\webdriver\\remote\\errorhandler.py\u001b[0m in \u001b[0;36mcheck_response\u001b[1;34m(self, response)\u001b[0m\n\u001b[0;32m    240\u001b[0m                 \u001b[0malert_text\u001b[0m \u001b[1;33m=\u001b[0m \u001b[0mvalue\u001b[0m\u001b[1;33m[\u001b[0m\u001b[1;34m'alert'\u001b[0m\u001b[1;33m]\u001b[0m\u001b[1;33m.\u001b[0m\u001b[0mget\u001b[0m\u001b[1;33m(\u001b[0m\u001b[1;34m'text'\u001b[0m\u001b[1;33m)\u001b[0m\u001b[1;33m\u001b[0m\u001b[1;33m\u001b[0m\u001b[0m\n\u001b[0;32m    241\u001b[0m             \u001b[1;32mraise\u001b[0m \u001b[0mexception_class\u001b[0m\u001b[1;33m(\u001b[0m\u001b[0mmessage\u001b[0m\u001b[1;33m,\u001b[0m \u001b[0mscreen\u001b[0m\u001b[1;33m,\u001b[0m \u001b[0mstacktrace\u001b[0m\u001b[1;33m,\u001b[0m \u001b[0malert_text\u001b[0m\u001b[1;33m)\u001b[0m\u001b[1;33m\u001b[0m\u001b[1;33m\u001b[0m\u001b[0m\n\u001b[1;32m--> 242\u001b[1;33m         \u001b[1;32mraise\u001b[0m \u001b[0mexception_class\u001b[0m\u001b[1;33m(\u001b[0m\u001b[0mmessage\u001b[0m\u001b[1;33m,\u001b[0m \u001b[0mscreen\u001b[0m\u001b[1;33m,\u001b[0m \u001b[0mstacktrace\u001b[0m\u001b[1;33m)\u001b[0m\u001b[1;33m\u001b[0m\u001b[1;33m\u001b[0m\u001b[0m\n\u001b[0m\u001b[0;32m    243\u001b[0m \u001b[1;33m\u001b[0m\u001b[0m\n\u001b[0;32m    244\u001b[0m     \u001b[1;32mdef\u001b[0m \u001b[0m_value_or_default\u001b[0m\u001b[1;33m(\u001b[0m\u001b[0mself\u001b[0m\u001b[1;33m,\u001b[0m \u001b[0mobj\u001b[0m\u001b[1;33m,\u001b[0m \u001b[0mkey\u001b[0m\u001b[1;33m,\u001b[0m \u001b[0mdefault\u001b[0m\u001b[1;33m)\u001b[0m\u001b[1;33m:\u001b[0m\u001b[1;33m\u001b[0m\u001b[1;33m\u001b[0m\u001b[0m\n",
      "\u001b[1;31mInvalidSelectorException\u001b[0m: Message: invalid selector: Unable to locate an element with the xpath expression //[@class=\"m-0 css-g261rn\"] because of the following error:\nSyntaxError: Failed to execute 'evaluate' on 'Document': The string '//[@class=\"m-0 css-g261rn\"]' is not a valid XPath expression.\n  (Session info: chrome=91.0.4472.124)\n"
     ]
    }
   ],
   "source": [
    "Job_opening_urls  = []\n",
    "\n",
    "url = driver.find_elements_by_xpath('//[@class=\"m-0 css-g261rn\"]')\n",
    "for i in url:\n",
    "         job_opening_urls.append(i.get_attribute('href'))\n",
    "job_opening_urls\n"
   ]
  },
  {
   "cell_type": "code",
   "execution_count": null,
   "metadata": {},
   "outputs": [],
   "source": []
  },
  {
   "cell_type": "code",
   "execution_count": null,
   "metadata": {},
   "outputs": [],
   "source": []
  },
  {
   "cell_type": "code",
   "execution_count": null,
   "metadata": {},
   "outputs": [],
   "source": [
    "6."
   ]
  },
  {
   "cell_type": "code",
   "execution_count": 104,
   "metadata": {},
   "outputs": [
    {
     "name": "stdout",
     "output_type": "stream",
     "text": [
      "Requirement already satisfied: selenium in c:\\users\\sagnik das\\anaconda3\\lib\\site-packages (3.141.0)\n",
      "Requirement already satisfied: urllib3 in c:\\users\\sagnik das\\anaconda3\\lib\\site-packages (from selenium) (1.25.11)\n"
     ]
    }
   ],
   "source": [
    "# lets first install the selinium library\n",
    "! pip install selenium"
   ]
  },
  {
   "cell_type": "code",
   "execution_count": 105,
   "metadata": {},
   "outputs": [],
   "source": [
    "# lets now import all the required libraries\n",
    "import selenium\n",
    "import pandas as pd\n",
    "from selenium import webdriver\n",
    "import time\n",
    "from selenium.common.exceptions import NoSuchElementException           # Importing Exceptions"
   ]
  },
  {
   "cell_type": "code",
   "execution_count": 106,
   "metadata": {},
   "outputs": [],
   "source": [
    "# Lets first connect to the web driver\n",
    "driver = webdriver.Chrome(\"chromedriver.exe\") "
   ]
  },
  {
   "cell_type": "code",
   "execution_count": 107,
   "metadata": {},
   "outputs": [],
   "source": [
    "url = 'https://www.flipkart.com/search?q=sunglasses&sid=26x&as=on&as-show=on&otracker=AS_QueryStore_OrganicAutoSuggest_1_2_na_na_na&otracker1=AS_QueryStore_OrganicAutoSuggest_1_2_na_na_na&as-pos=1&as-type=RECENT&suggestionId=sunglasses%7CSunglasses&requestId=b49a207f-b244-4110-9c58-15e7ae455d58&as-searchtext=su'\n",
    "driver.get(url)"
   ]
  },
  {
   "cell_type": "code",
   "execution_count": 108,
   "metadata": {},
   "outputs": [
    {
     "data": {
      "text/plain": [
       "[<selenium.webdriver.remote.webelement.WebElement (session=\"c6688e1e89fa4f1ae6cbc21fd4a6e0fd\", element=\"ca126837-9080-4408-9741-2dfb7f5a7bdf\")>,\n",
       " <selenium.webdriver.remote.webelement.WebElement (session=\"c6688e1e89fa4f1ae6cbc21fd4a6e0fd\", element=\"e70d14f3-bcc8-408d-b199-2d07f2a1d599\")>,\n",
       " <selenium.webdriver.remote.webelement.WebElement (session=\"c6688e1e89fa4f1ae6cbc21fd4a6e0fd\", element=\"de1eac18-5402-4346-b616-f18bb976d257\")>,\n",
       " <selenium.webdriver.remote.webelement.WebElement (session=\"c6688e1e89fa4f1ae6cbc21fd4a6e0fd\", element=\"64014f85-85c9-4341-a0d1-90ed8af1e68b\")>,\n",
       " <selenium.webdriver.remote.webelement.WebElement (session=\"c6688e1e89fa4f1ae6cbc21fd4a6e0fd\", element=\"2ecdf21a-19a4-45fc-b9ff-1a107a79f6dc\")>,\n",
       " <selenium.webdriver.remote.webelement.WebElement (session=\"c6688e1e89fa4f1ae6cbc21fd4a6e0fd\", element=\"ac3fda5d-e312-46cc-927f-a8af62782ec6\")>,\n",
       " <selenium.webdriver.remote.webelement.WebElement (session=\"c6688e1e89fa4f1ae6cbc21fd4a6e0fd\", element=\"aadd4d50-6e78-4ddb-b172-52f4d3520f2c\")>,\n",
       " <selenium.webdriver.remote.webelement.WebElement (session=\"c6688e1e89fa4f1ae6cbc21fd4a6e0fd\", element=\"844f63f9-44c9-4ebb-9d3e-31873d6413bb\")>,\n",
       " <selenium.webdriver.remote.webelement.WebElement (session=\"c6688e1e89fa4f1ae6cbc21fd4a6e0fd\", element=\"2cfb2d7b-f719-4d14-8a01-44cb78d9fedb\")>,\n",
       " <selenium.webdriver.remote.webelement.WebElement (session=\"c6688e1e89fa4f1ae6cbc21fd4a6e0fd\", element=\"69405c65-6507-428a-bc00-1e2691e93f34\")>,\n",
       " <selenium.webdriver.remote.webelement.WebElement (session=\"c6688e1e89fa4f1ae6cbc21fd4a6e0fd\", element=\"c16a2420-46a6-44c5-8d84-079208b17688\")>,\n",
       " <selenium.webdriver.remote.webelement.WebElement (session=\"c6688e1e89fa4f1ae6cbc21fd4a6e0fd\", element=\"44352be0-b719-4ed1-b893-24ea12cb2a1e\")>,\n",
       " <selenium.webdriver.remote.webelement.WebElement (session=\"c6688e1e89fa4f1ae6cbc21fd4a6e0fd\", element=\"06e7ef41-4fa8-4b68-a2e9-33942a86163c\")>,\n",
       " <selenium.webdriver.remote.webelement.WebElement (session=\"c6688e1e89fa4f1ae6cbc21fd4a6e0fd\", element=\"399de2d9-4994-4c35-a799-0dfe09f2b1a2\")>,\n",
       " <selenium.webdriver.remote.webelement.WebElement (session=\"c6688e1e89fa4f1ae6cbc21fd4a6e0fd\", element=\"d0bc7bc5-6d0b-4c01-8b00-50ea1233bb8b\")>,\n",
       " <selenium.webdriver.remote.webelement.WebElement (session=\"c6688e1e89fa4f1ae6cbc21fd4a6e0fd\", element=\"494f2119-f080-40da-b53d-2e697a09999f\")>,\n",
       " <selenium.webdriver.remote.webelement.WebElement (session=\"c6688e1e89fa4f1ae6cbc21fd4a6e0fd\", element=\"553c2842-2033-4fdf-a763-1ad5e9a7f0be\")>,\n",
       " <selenium.webdriver.remote.webelement.WebElement (session=\"c6688e1e89fa4f1ae6cbc21fd4a6e0fd\", element=\"f01308dc-2e77-4fd5-a489-3f81fdbe2042\")>,\n",
       " <selenium.webdriver.remote.webelement.WebElement (session=\"c6688e1e89fa4f1ae6cbc21fd4a6e0fd\", element=\"31a3cbcd-f461-4c04-9491-df6e3c977faa\")>,\n",
       " <selenium.webdriver.remote.webelement.WebElement (session=\"c6688e1e89fa4f1ae6cbc21fd4a6e0fd\", element=\"b04faffe-a026-4d49-9c5b-a76ed982a091\")>,\n",
       " <selenium.webdriver.remote.webelement.WebElement (session=\"c6688e1e89fa4f1ae6cbc21fd4a6e0fd\", element=\"ef36e15b-d198-4a34-98c1-a64d327b4390\")>,\n",
       " <selenium.webdriver.remote.webelement.WebElement (session=\"c6688e1e89fa4f1ae6cbc21fd4a6e0fd\", element=\"d915f309-64ea-410c-af5d-fd24d8ebe46f\")>,\n",
       " <selenium.webdriver.remote.webelement.WebElement (session=\"c6688e1e89fa4f1ae6cbc21fd4a6e0fd\", element=\"c3862951-bd68-4012-9e64-61d91d2fb2c2\")>,\n",
       " <selenium.webdriver.remote.webelement.WebElement (session=\"c6688e1e89fa4f1ae6cbc21fd4a6e0fd\", element=\"cb705e64-7d9e-45d3-beb8-4cc19c4a7c61\")>,\n",
       " <selenium.webdriver.remote.webelement.WebElement (session=\"c6688e1e89fa4f1ae6cbc21fd4a6e0fd\", element=\"9e7c6740-1d10-4a76-9f49-16ccd7f849c2\")>,\n",
       " <selenium.webdriver.remote.webelement.WebElement (session=\"c6688e1e89fa4f1ae6cbc21fd4a6e0fd\", element=\"0059bd68-1fa6-4c95-bd36-6fd0601b8ec0\")>,\n",
       " <selenium.webdriver.remote.webelement.WebElement (session=\"c6688e1e89fa4f1ae6cbc21fd4a6e0fd\", element=\"cabb9e4a-481e-477b-8b1f-15db37c1d82b\")>,\n",
       " <selenium.webdriver.remote.webelement.WebElement (session=\"c6688e1e89fa4f1ae6cbc21fd4a6e0fd\", element=\"d6707799-7ad9-4bfe-a344-b1caaa48c2e5\")>,\n",
       " <selenium.webdriver.remote.webelement.WebElement (session=\"c6688e1e89fa4f1ae6cbc21fd4a6e0fd\", element=\"4052a6bd-a8dc-4a5a-91e9-7037f6f5ece9\")>,\n",
       " <selenium.webdriver.remote.webelement.WebElement (session=\"c6688e1e89fa4f1ae6cbc21fd4a6e0fd\", element=\"5c6f3ac8-11e4-408a-822d-8b0e68abb954\")>,\n",
       " <selenium.webdriver.remote.webelement.WebElement (session=\"c6688e1e89fa4f1ae6cbc21fd4a6e0fd\", element=\"0f24b6d9-8097-453f-8520-1bfe7d866de0\")>,\n",
       " <selenium.webdriver.remote.webelement.WebElement (session=\"c6688e1e89fa4f1ae6cbc21fd4a6e0fd\", element=\"6fbd886c-e44d-403f-8255-711ae1889892\")>,\n",
       " <selenium.webdriver.remote.webelement.WebElement (session=\"c6688e1e89fa4f1ae6cbc21fd4a6e0fd\", element=\"20d0251c-3b06-4afc-b848-0ee424279687\")>,\n",
       " <selenium.webdriver.remote.webelement.WebElement (session=\"c6688e1e89fa4f1ae6cbc21fd4a6e0fd\", element=\"8f3cfa5a-980c-4798-a15e-c39943d21f66\")>,\n",
       " <selenium.webdriver.remote.webelement.WebElement (session=\"c6688e1e89fa4f1ae6cbc21fd4a6e0fd\", element=\"c0c82f1e-cf43-4638-a010-49c377e50140\")>,\n",
       " <selenium.webdriver.remote.webelement.WebElement (session=\"c6688e1e89fa4f1ae6cbc21fd4a6e0fd\", element=\"e6085625-7f6e-49a0-97e0-8dadefcc1a8a\")>,\n",
       " <selenium.webdriver.remote.webelement.WebElement (session=\"c6688e1e89fa4f1ae6cbc21fd4a6e0fd\", element=\"b6238c66-0bd3-4e16-979e-4c10e117ce58\")>,\n",
       " <selenium.webdriver.remote.webelement.WebElement (session=\"c6688e1e89fa4f1ae6cbc21fd4a6e0fd\", element=\"8fb01eb0-73d8-4446-83c8-7264c10c7864\")>,\n",
       " <selenium.webdriver.remote.webelement.WebElement (session=\"c6688e1e89fa4f1ae6cbc21fd4a6e0fd\", element=\"b10e94c3-ebfb-428f-8e77-ebe66f563c34\")>,\n",
       " <selenium.webdriver.remote.webelement.WebElement (session=\"c6688e1e89fa4f1ae6cbc21fd4a6e0fd\", element=\"d0c90f82-71ef-47c4-9e11-0c1987832a35\")>]"
      ]
     },
     "execution_count": 108,
     "metadata": {},
     "output_type": "execute_result"
    }
   ],
   "source": [
    "# so lets extract all the tags having the brand-titles\n",
    "titles_tags=driver.find_elements_by_xpath(\"//div[@class='_2WkVRV']\")\n",
    "titles_tags"
   ]
  },
  {
   "cell_type": "code",
   "execution_count": 109,
   "metadata": {},
   "outputs": [
    {
     "data": {
      "text/plain": [
       "['Wrogn',\n",
       " 'LIZA ANGEL',\n",
       " 'kingsunglasses',\n",
       " 'Fastrack',\n",
       " 'Fastrack',\n",
       " 'PIRASO',\n",
       " 'Fastrack',\n",
       " 'ROYAL SON',\n",
       " 'kingsunglasses',\n",
       " 'PHENOMENAL',\n",
       " 'Fastrack',\n",
       " 'ROYAL SON',\n",
       " 'Fastrack',\n",
       " 'kingsunglasses',\n",
       " 'Fastrack',\n",
       " 'ROYAL SON',\n",
       " 'kingsunglasses',\n",
       " 'PHENOMENAL',\n",
       " 'Silver Kartz',\n",
       " 'Elligator',\n",
       " 'Fastrack',\n",
       " 'kingsunglasses',\n",
       " 'ROZZETTA CRAFT',\n",
       " 'ROYAL SON',\n",
       " 'PIRASO',\n",
       " 'PIRASO',\n",
       " 'HIPPON',\n",
       " 'Wrogn',\n",
       " 'PHENOMENAL',\n",
       " 'DEIXELS',\n",
       " 'Flizz',\n",
       " 'ROYAL SON',\n",
       " 'ROZZETTA CRAFT',\n",
       " 'Fastrack',\n",
       " 'ROZZETTA CRAFT',\n",
       " 'AISLIN',\n",
       " 'Fastrack',\n",
       " 'kingsunglasses',\n",
       " 'GANSTA',\n",
       " 'Wrogn']"
      ]
     },
     "execution_count": 109,
     "metadata": {},
     "output_type": "execute_result"
    }
   ],
   "source": [
    "# Now the text of the brand title is inside the tags extracted above\n",
    "\n",
    "# so we will run a loop to iterate over the tags extracted above and extract the text inside them.\n",
    "brand_titles=[]\n",
    "for i in titles_tags:\n",
    "    brand_titles.append(i.text)\n",
    "brand_titles  "
   ]
  },
  {
   "cell_type": "code",
   "execution_count": 110,
   "metadata": {},
   "outputs": [
    {
     "data": {
      "text/plain": [
       "[<selenium.webdriver.remote.webelement.WebElement (session=\"c6688e1e89fa4f1ae6cbc21fd4a6e0fd\", element=\"5bd1e3de-8bef-4340-a443-faa27840d353\")>,\n",
       " <selenium.webdriver.remote.webelement.WebElement (session=\"c6688e1e89fa4f1ae6cbc21fd4a6e0fd\", element=\"86f0a81f-2099-42d7-8160-372ca858fb93\")>,\n",
       " <selenium.webdriver.remote.webelement.WebElement (session=\"c6688e1e89fa4f1ae6cbc21fd4a6e0fd\", element=\"fa943f79-0cd1-41e7-b86c-6e52d23b298b\")>,\n",
       " <selenium.webdriver.remote.webelement.WebElement (session=\"c6688e1e89fa4f1ae6cbc21fd4a6e0fd\", element=\"cb2aeb30-d5f5-4b21-b685-c2a97abfd0cc\")>,\n",
       " <selenium.webdriver.remote.webelement.WebElement (session=\"c6688e1e89fa4f1ae6cbc21fd4a6e0fd\", element=\"e909fafb-cbeb-42aa-a19c-42199edf84b8\")>,\n",
       " <selenium.webdriver.remote.webelement.WebElement (session=\"c6688e1e89fa4f1ae6cbc21fd4a6e0fd\", element=\"d4d705db-ac4e-4aa3-9223-5d879e4e6fd6\")>,\n",
       " <selenium.webdriver.remote.webelement.WebElement (session=\"c6688e1e89fa4f1ae6cbc21fd4a6e0fd\", element=\"0162da18-2486-4f27-9913-ce165413ba7a\")>,\n",
       " <selenium.webdriver.remote.webelement.WebElement (session=\"c6688e1e89fa4f1ae6cbc21fd4a6e0fd\", element=\"89a21018-de6b-4c49-993c-816dbb92d791\")>,\n",
       " <selenium.webdriver.remote.webelement.WebElement (session=\"c6688e1e89fa4f1ae6cbc21fd4a6e0fd\", element=\"de0f40cb-0be2-4e24-b9b8-6daffc268574\")>,\n",
       " <selenium.webdriver.remote.webelement.WebElement (session=\"c6688e1e89fa4f1ae6cbc21fd4a6e0fd\", element=\"0051297a-bed1-49cb-b0ea-18941aff0c67\")>,\n",
       " <selenium.webdriver.remote.webelement.WebElement (session=\"c6688e1e89fa4f1ae6cbc21fd4a6e0fd\", element=\"4da1bd18-19f2-4184-b0ca-488dde04c3bc\")>,\n",
       " <selenium.webdriver.remote.webelement.WebElement (session=\"c6688e1e89fa4f1ae6cbc21fd4a6e0fd\", element=\"768cd6e0-8bcb-42cb-8b43-87d29aaa1cd3\")>,\n",
       " <selenium.webdriver.remote.webelement.WebElement (session=\"c6688e1e89fa4f1ae6cbc21fd4a6e0fd\", element=\"f3329bc4-315e-4211-bee6-b092a835b501\")>,\n",
       " <selenium.webdriver.remote.webelement.WebElement (session=\"c6688e1e89fa4f1ae6cbc21fd4a6e0fd\", element=\"55697db0-9fa6-4d2f-867e-e567a0a5d5e2\")>,\n",
       " <selenium.webdriver.remote.webelement.WebElement (session=\"c6688e1e89fa4f1ae6cbc21fd4a6e0fd\", element=\"e9ca9437-b007-4281-aa56-341655c6ef39\")>,\n",
       " <selenium.webdriver.remote.webelement.WebElement (session=\"c6688e1e89fa4f1ae6cbc21fd4a6e0fd\", element=\"752ada0f-5d93-40b2-9820-aa751d686a1c\")>,\n",
       " <selenium.webdriver.remote.webelement.WebElement (session=\"c6688e1e89fa4f1ae6cbc21fd4a6e0fd\", element=\"1ba90022-891f-47d9-8a8c-0255003a709b\")>,\n",
       " <selenium.webdriver.remote.webelement.WebElement (session=\"c6688e1e89fa4f1ae6cbc21fd4a6e0fd\", element=\"87e70b37-a50b-4814-bfb6-22f8cd82ef4f\")>,\n",
       " <selenium.webdriver.remote.webelement.WebElement (session=\"c6688e1e89fa4f1ae6cbc21fd4a6e0fd\", element=\"ee58833c-fd5e-4792-8f80-95fd027f5626\")>,\n",
       " <selenium.webdriver.remote.webelement.WebElement (session=\"c6688e1e89fa4f1ae6cbc21fd4a6e0fd\", element=\"1d33681f-5164-41d8-b6a9-4acb04972f8b\")>,\n",
       " <selenium.webdriver.remote.webelement.WebElement (session=\"c6688e1e89fa4f1ae6cbc21fd4a6e0fd\", element=\"507e50da-a2d0-4999-8ceb-4a8fbdae7886\")>,\n",
       " <selenium.webdriver.remote.webelement.WebElement (session=\"c6688e1e89fa4f1ae6cbc21fd4a6e0fd\", element=\"7c965b6b-c112-41ad-893c-ed7dfb4fc465\")>,\n",
       " <selenium.webdriver.remote.webelement.WebElement (session=\"c6688e1e89fa4f1ae6cbc21fd4a6e0fd\", element=\"4d4d532b-9b0c-4708-aa5c-a0844675ccd6\")>,\n",
       " <selenium.webdriver.remote.webelement.WebElement (session=\"c6688e1e89fa4f1ae6cbc21fd4a6e0fd\", element=\"5dc8592a-becf-4319-8b38-0db75d3d2acf\")>,\n",
       " <selenium.webdriver.remote.webelement.WebElement (session=\"c6688e1e89fa4f1ae6cbc21fd4a6e0fd\", element=\"9d9ef42c-4557-407a-a0ac-5b4cb102cdac\")>,\n",
       " <selenium.webdriver.remote.webelement.WebElement (session=\"c6688e1e89fa4f1ae6cbc21fd4a6e0fd\", element=\"701a5645-3a66-4d4e-93cf-b2634af3d96f\")>,\n",
       " <selenium.webdriver.remote.webelement.WebElement (session=\"c6688e1e89fa4f1ae6cbc21fd4a6e0fd\", element=\"b40d51a4-8833-4c3f-992c-e9d4325f8ad0\")>,\n",
       " <selenium.webdriver.remote.webelement.WebElement (session=\"c6688e1e89fa4f1ae6cbc21fd4a6e0fd\", element=\"54e42d94-5823-4342-aaae-e6d8b81c6d2f\")>,\n",
       " <selenium.webdriver.remote.webelement.WebElement (session=\"c6688e1e89fa4f1ae6cbc21fd4a6e0fd\", element=\"2b22372c-f8dd-4738-9fa2-322cd2ddcc96\")>,\n",
       " <selenium.webdriver.remote.webelement.WebElement (session=\"c6688e1e89fa4f1ae6cbc21fd4a6e0fd\", element=\"97cabb91-c8bd-4f65-b28b-e93734111b75\")>,\n",
       " <selenium.webdriver.remote.webelement.WebElement (session=\"c6688e1e89fa4f1ae6cbc21fd4a6e0fd\", element=\"8bff16cc-6b95-4bf4-b9e1-3fc568e15c32\")>,\n",
       " <selenium.webdriver.remote.webelement.WebElement (session=\"c6688e1e89fa4f1ae6cbc21fd4a6e0fd\", element=\"bd273bae-2909-40b2-a5ae-a2cc92083caf\")>,\n",
       " <selenium.webdriver.remote.webelement.WebElement (session=\"c6688e1e89fa4f1ae6cbc21fd4a6e0fd\", element=\"f6f49070-319f-45af-9dea-5de70d7216e5\")>,\n",
       " <selenium.webdriver.remote.webelement.WebElement (session=\"c6688e1e89fa4f1ae6cbc21fd4a6e0fd\", element=\"e5c7f35a-b95a-4c66-98d5-f5f8fe268836\")>,\n",
       " <selenium.webdriver.remote.webelement.WebElement (session=\"c6688e1e89fa4f1ae6cbc21fd4a6e0fd\", element=\"d7997789-c020-4999-ac97-035e02200b2b\")>,\n",
       " <selenium.webdriver.remote.webelement.WebElement (session=\"c6688e1e89fa4f1ae6cbc21fd4a6e0fd\", element=\"4bffe33f-6725-48ad-86ea-3de45c369144\")>,\n",
       " <selenium.webdriver.remote.webelement.WebElement (session=\"c6688e1e89fa4f1ae6cbc21fd4a6e0fd\", element=\"9794f113-cd0a-442b-b07d-597b3e33a065\")>,\n",
       " <selenium.webdriver.remote.webelement.WebElement (session=\"c6688e1e89fa4f1ae6cbc21fd4a6e0fd\", element=\"5f444e01-f73f-40f7-8bb2-0894d0b9f543\")>,\n",
       " <selenium.webdriver.remote.webelement.WebElement (session=\"c6688e1e89fa4f1ae6cbc21fd4a6e0fd\", element=\"bdad6495-9dac-4caf-9313-74e23cab5474\")>,\n",
       " <selenium.webdriver.remote.webelement.WebElement (session=\"c6688e1e89fa4f1ae6cbc21fd4a6e0fd\", element=\"f27576ee-ed0a-464b-bc52-e294e6e07c16\")>]"
      ]
     },
     "execution_count": 110,
     "metadata": {},
     "output_type": "execute_result"
    }
   ],
   "source": [
    "# so lets extract all the tags having the experience required data\n",
    "price_tags=driver.find_elements_by_xpath(\"//div[@class='_30jeq3']\")\n",
    "price_tags"
   ]
  },
  {
   "cell_type": "code",
   "execution_count": 111,
   "metadata": {},
   "outputs": [
    {
     "data": {
      "text/plain": [
       "['₹663',\n",
       " '₹279',\n",
       " '₹299',\n",
       " '₹513',\n",
       " '₹758',\n",
       " '₹237',\n",
       " '₹509',\n",
       " '₹657',\n",
       " '₹349',\n",
       " '₹297',\n",
       " '₹771',\n",
       " '₹699',\n",
       " '₹655',\n",
       " '₹299',\n",
       " '₹1,010',\n",
       " '₹845',\n",
       " '₹225',\n",
       " '₹399',\n",
       " '₹259',\n",
       " '₹331',\n",
       " '₹612',\n",
       " '₹210',\n",
       " '₹499',\n",
       " '₹657',\n",
       " '₹331',\n",
       " '₹331',\n",
       " '₹251',\n",
       " '₹826',\n",
       " '₹399',\n",
       " '₹213',\n",
       " '₹399',\n",
       " '₹657',\n",
       " '₹499',\n",
       " '₹592',\n",
       " '₹404',\n",
       " '₹498',\n",
       " '₹522',\n",
       " '₹349',\n",
       " '₹281',\n",
       " '₹1,175']"
      ]
     },
     "execution_count": 111,
     "metadata": {},
     "output_type": "execute_result"
    }
   ],
   "source": [
    "price_list=[]\n",
    "for i in price_tags:\n",
    "    price_list.append(i.text)\n",
    "price_list"
   ]
  },
  {
   "cell_type": "code",
   "execution_count": 112,
   "metadata": {},
   "outputs": [
    {
     "data": {
      "text/plain": [
       "[<selenium.webdriver.remote.webelement.WebElement (session=\"c6688e1e89fa4f1ae6cbc21fd4a6e0fd\", element=\"7b61de1a-811f-41c6-b02a-737fa07b1b9a\")>,\n",
       " <selenium.webdriver.remote.webelement.WebElement (session=\"c6688e1e89fa4f1ae6cbc21fd4a6e0fd\", element=\"0ff42e93-3e8a-49b7-ac0b-67633032c12c\")>,\n",
       " <selenium.webdriver.remote.webelement.WebElement (session=\"c6688e1e89fa4f1ae6cbc21fd4a6e0fd\", element=\"c09be256-41c9-4031-8b56-240b46dca879\")>,\n",
       " <selenium.webdriver.remote.webelement.WebElement (session=\"c6688e1e89fa4f1ae6cbc21fd4a6e0fd\", element=\"6afa8d07-3b9f-47ac-beb6-4e08788cc44a\")>,\n",
       " <selenium.webdriver.remote.webelement.WebElement (session=\"c6688e1e89fa4f1ae6cbc21fd4a6e0fd\", element=\"b2755155-44fc-4e49-8754-01445b5d88e4\")>,\n",
       " <selenium.webdriver.remote.webelement.WebElement (session=\"c6688e1e89fa4f1ae6cbc21fd4a6e0fd\", element=\"6016e2d2-492f-4e16-93a0-de6a93c308ed\")>,\n",
       " <selenium.webdriver.remote.webelement.WebElement (session=\"c6688e1e89fa4f1ae6cbc21fd4a6e0fd\", element=\"5c779b17-bc46-4d72-abfd-b85cc4984dfe\")>,\n",
       " <selenium.webdriver.remote.webelement.WebElement (session=\"c6688e1e89fa4f1ae6cbc21fd4a6e0fd\", element=\"5aaefc95-9295-429d-9bec-2cf11388b62e\")>,\n",
       " <selenium.webdriver.remote.webelement.WebElement (session=\"c6688e1e89fa4f1ae6cbc21fd4a6e0fd\", element=\"56cd4781-feda-48e6-b93d-cc9f1860f7c8\")>,\n",
       " <selenium.webdriver.remote.webelement.WebElement (session=\"c6688e1e89fa4f1ae6cbc21fd4a6e0fd\", element=\"50f79d67-b905-4678-b804-e24963658fd4\")>,\n",
       " <selenium.webdriver.remote.webelement.WebElement (session=\"c6688e1e89fa4f1ae6cbc21fd4a6e0fd\", element=\"d0fc969c-8836-476f-b868-b5cd14e4b667\")>,\n",
       " <selenium.webdriver.remote.webelement.WebElement (session=\"c6688e1e89fa4f1ae6cbc21fd4a6e0fd\", element=\"e16511d1-b9af-415a-8fd4-00aa3c6c0d80\")>,\n",
       " <selenium.webdriver.remote.webelement.WebElement (session=\"c6688e1e89fa4f1ae6cbc21fd4a6e0fd\", element=\"3a669d09-a812-496b-8d1e-de28e2a6c62d\")>,\n",
       " <selenium.webdriver.remote.webelement.WebElement (session=\"c6688e1e89fa4f1ae6cbc21fd4a6e0fd\", element=\"b8e3389b-fe31-4787-8b8a-b64277920d38\")>,\n",
       " <selenium.webdriver.remote.webelement.WebElement (session=\"c6688e1e89fa4f1ae6cbc21fd4a6e0fd\", element=\"3ab4e4b9-256d-4b41-8a79-7cdb439332a3\")>,\n",
       " <selenium.webdriver.remote.webelement.WebElement (session=\"c6688e1e89fa4f1ae6cbc21fd4a6e0fd\", element=\"670d9e47-b0ba-48de-bb19-622ce3548611\")>,\n",
       " <selenium.webdriver.remote.webelement.WebElement (session=\"c6688e1e89fa4f1ae6cbc21fd4a6e0fd\", element=\"aa0adcef-f5c9-4f4b-9f2d-91dc922d96c4\")>,\n",
       " <selenium.webdriver.remote.webelement.WebElement (session=\"c6688e1e89fa4f1ae6cbc21fd4a6e0fd\", element=\"a00aea67-d98d-428f-8523-2804b8be4061\")>,\n",
       " <selenium.webdriver.remote.webelement.WebElement (session=\"c6688e1e89fa4f1ae6cbc21fd4a6e0fd\", element=\"fa71627d-6989-4e7c-bae4-88ddf2ec6575\")>,\n",
       " <selenium.webdriver.remote.webelement.WebElement (session=\"c6688e1e89fa4f1ae6cbc21fd4a6e0fd\", element=\"dad31077-60d8-4622-8d0e-93698c8c4a6a\")>,\n",
       " <selenium.webdriver.remote.webelement.WebElement (session=\"c6688e1e89fa4f1ae6cbc21fd4a6e0fd\", element=\"10d1a718-f1b4-4b30-9cd8-030bcabd0c03\")>,\n",
       " <selenium.webdriver.remote.webelement.WebElement (session=\"c6688e1e89fa4f1ae6cbc21fd4a6e0fd\", element=\"9c9a9e7b-6f15-4ddd-ab51-2553cfbe3026\")>,\n",
       " <selenium.webdriver.remote.webelement.WebElement (session=\"c6688e1e89fa4f1ae6cbc21fd4a6e0fd\", element=\"41cee436-4f16-44a9-8b14-82ddda21f40c\")>,\n",
       " <selenium.webdriver.remote.webelement.WebElement (session=\"c6688e1e89fa4f1ae6cbc21fd4a6e0fd\", element=\"a2de7a0b-ea28-4715-b021-8c04c34bba3f\")>,\n",
       " <selenium.webdriver.remote.webelement.WebElement (session=\"c6688e1e89fa4f1ae6cbc21fd4a6e0fd\", element=\"42dc875e-8694-4c55-9e43-da35d189a60c\")>,\n",
       " <selenium.webdriver.remote.webelement.WebElement (session=\"c6688e1e89fa4f1ae6cbc21fd4a6e0fd\", element=\"5b8358eb-6a95-4d85-abd1-015206dd0584\")>,\n",
       " <selenium.webdriver.remote.webelement.WebElement (session=\"c6688e1e89fa4f1ae6cbc21fd4a6e0fd\", element=\"0664c705-4864-4b58-bc59-1bc2b62853d6\")>,\n",
       " <selenium.webdriver.remote.webelement.WebElement (session=\"c6688e1e89fa4f1ae6cbc21fd4a6e0fd\", element=\"5e416465-d220-4e60-a501-ed85d254b1e1\")>,\n",
       " <selenium.webdriver.remote.webelement.WebElement (session=\"c6688e1e89fa4f1ae6cbc21fd4a6e0fd\", element=\"708d220f-b02a-43d8-bbca-4f4eb98992b7\")>,\n",
       " <selenium.webdriver.remote.webelement.WebElement (session=\"c6688e1e89fa4f1ae6cbc21fd4a6e0fd\", element=\"5045e002-e92b-4844-acbb-58f87a7cc3f1\")>,\n",
       " <selenium.webdriver.remote.webelement.WebElement (session=\"c6688e1e89fa4f1ae6cbc21fd4a6e0fd\", element=\"68bc1e02-e4a4-4b8a-a6dd-5bc48dd5c968\")>,\n",
       " <selenium.webdriver.remote.webelement.WebElement (session=\"c6688e1e89fa4f1ae6cbc21fd4a6e0fd\", element=\"e3f7ccbe-cc7c-4ed9-8151-e46fa1296b18\")>,\n",
       " <selenium.webdriver.remote.webelement.WebElement (session=\"c6688e1e89fa4f1ae6cbc21fd4a6e0fd\", element=\"f1aa3f3e-43e7-4fea-a673-e1e623b3cfbb\")>,\n",
       " <selenium.webdriver.remote.webelement.WebElement (session=\"c6688e1e89fa4f1ae6cbc21fd4a6e0fd\", element=\"fbf42252-1025-4eeb-9b0b-27ac0f3f8cc6\")>,\n",
       " <selenium.webdriver.remote.webelement.WebElement (session=\"c6688e1e89fa4f1ae6cbc21fd4a6e0fd\", element=\"f56ce0ed-dce6-41c6-883c-241ec8c7fad0\")>,\n",
       " <selenium.webdriver.remote.webelement.WebElement (session=\"c6688e1e89fa4f1ae6cbc21fd4a6e0fd\", element=\"935e0c59-ac0c-47e3-9273-ee0124f07e68\")>,\n",
       " <selenium.webdriver.remote.webelement.WebElement (session=\"c6688e1e89fa4f1ae6cbc21fd4a6e0fd\", element=\"0cd55cc2-a61b-4be1-8795-aac36739420c\")>,\n",
       " <selenium.webdriver.remote.webelement.WebElement (session=\"c6688e1e89fa4f1ae6cbc21fd4a6e0fd\", element=\"9f8d3b49-e357-458f-a390-1d4bd1291bb7\")>,\n",
       " <selenium.webdriver.remote.webelement.WebElement (session=\"c6688e1e89fa4f1ae6cbc21fd4a6e0fd\", element=\"0247e26e-1632-43a4-980f-d2518bbad40d\")>,\n",
       " <selenium.webdriver.remote.webelement.WebElement (session=\"c6688e1e89fa4f1ae6cbc21fd4a6e0fd\", element=\"728dcd71-8e25-4e28-bc81-ff17ec07c010\")>]"
      ]
     },
     "execution_count": 112,
     "metadata": {},
     "output_type": "execute_result"
    }
   ],
   "source": [
    "# so lets extract all the tags having the discount required data\n",
    "discount_tags=driver.find_elements_by_xpath(\"//div[@class='_3Ay6Sb']//span\")\n",
    "discount_tags"
   ]
  },
  {
   "cell_type": "code",
   "execution_count": 113,
   "metadata": {},
   "outputs": [
    {
     "data": {
      "text/plain": [
       "['73% off',\n",
       " '65% off',\n",
       " '88% off',\n",
       " '35% off',\n",
       " '15% off',\n",
       " '85% off',\n",
       " '36% off',\n",
       " '67% off',\n",
       " '78% off',\n",
       " '87% off',\n",
       " '14% off',\n",
       " '65% off',\n",
       " '27% off',\n",
       " '88% off',\n",
       " '22% off',\n",
       " '57% off',\n",
       " '79% off',\n",
       " '80% off',\n",
       " '82% off',\n",
       " '74% off',\n",
       " '31% off',\n",
       " '83% off',\n",
       " '77% off',\n",
       " '67% off',\n",
       " '87% off',\n",
       " '79% off',\n",
       " '79% off',\n",
       " '72% off',\n",
       " '80% off',\n",
       " '82% off',\n",
       " '81% off',\n",
       " '67% off',\n",
       " '77% off',\n",
       " '34% off',\n",
       " '79% off',\n",
       " '67% off',\n",
       " '41% off',\n",
       " '76% off',\n",
       " '85% off',\n",
       " '63% off']"
      ]
     },
     "execution_count": 113,
     "metadata": {},
     "output_type": "execute_result"
    }
   ],
   "source": [
    "discount_list=[]\n",
    "for i in discount_tags:\n",
    "    discount_list.append(i.text)\n",
    "discount_list"
   ]
  },
  {
   "cell_type": "code",
   "execution_count": 114,
   "metadata": {},
   "outputs": [
    {
     "ename": "NameError",
     "evalue": "name 'brand_tags' is not defined",
     "output_type": "error",
     "traceback": [
      "\u001b[1;31m---------------------------------------------------------------------------\u001b[0m",
      "\u001b[1;31mNameError\u001b[0m                                 Traceback (most recent call last)",
      "\u001b[1;32m<ipython-input-114-e5bd66b5557a>\u001b[0m in \u001b[0;36m<module>\u001b[1;34m\u001b[0m\n\u001b[1;32m----> 1\u001b[1;33m \u001b[0mprint\u001b[0m\u001b[1;33m(\u001b[0m\u001b[0mlen\u001b[0m\u001b[1;33m(\u001b[0m\u001b[0mbrand_tags\u001b[0m\u001b[1;33m)\u001b[0m\u001b[1;33m,\u001b[0m\u001b[0mlen\u001b[0m\u001b[1;33m(\u001b[0m\u001b[0mprice_tags\u001b[0m\u001b[1;33m)\u001b[0m\u001b[1;33m,\u001b[0m\u001b[0mlen\u001b[0m\u001b[1;33m(\u001b[0m\u001b[0mdiscount_tags\u001b[0m\u001b[1;33m)\u001b[0m\u001b[1;33m)\u001b[0m\u001b[1;33m\u001b[0m\u001b[1;33m\u001b[0m\u001b[0m\n\u001b[0m",
      "\u001b[1;31mNameError\u001b[0m: name 'brand_tags' is not defined"
     ]
    }
   ],
   "source": [
    "print(len(brand_tags),len(price_tags),len(discount_tags))"
   ]
  },
  {
   "cell_type": "code",
   "execution_count": null,
   "metadata": {},
   "outputs": [],
   "source": []
  },
  {
   "cell_type": "code",
   "execution_count": null,
   "metadata": {},
   "outputs": [],
   "source": []
  },
  {
   "cell_type": "code",
   "execution_count": null,
   "metadata": {},
   "outputs": [],
   "source": [
    "7."
   ]
  },
  {
   "cell_type": "code",
   "execution_count": 115,
   "metadata": {},
   "outputs": [
    {
     "name": "stdout",
     "output_type": "stream",
     "text": [
      "Requirement already satisfied: selenium in c:\\users\\sagnik das\\anaconda3\\lib\\site-packages (3.141.0)\n",
      "Requirement already satisfied: urllib3 in c:\\users\\sagnik das\\anaconda3\\lib\\site-packages (from selenium) (1.25.11)\n"
     ]
    }
   ],
   "source": [
    "# lets first install the selinium library\n",
    "! pip install selenium"
   ]
  },
  {
   "cell_type": "code",
   "execution_count": 116,
   "metadata": {},
   "outputs": [],
   "source": [
    "# lets now import all the required libraries\n",
    "import selenium\n",
    "import pandas as pd\n",
    "from selenium import webdriver\n",
    "import time\n",
    "from selenium.common.exceptions import NoSuchElementException           # Importing Exceptions"
   ]
  },
  {
   "cell_type": "code",
   "execution_count": 117,
   "metadata": {},
   "outputs": [],
   "source": [
    "# Lets first connect to the web driver\n",
    "driver = webdriver.Chrome(\"chromedriver.exe\") "
   ]
  },
  {
   "cell_type": "code",
   "execution_count": 118,
   "metadata": {},
   "outputs": [],
   "source": [
    "url = 'https://www.flipkart.com/apple-iphone-11-black-64-gb-includes-earpods-power-adapter/p/itm0f37c2240b217?pid=MOBFKCTSVZAXUHGR&lid=LSTMOBFKCTSVZAXUHGREPBFGI&marketplace'\n",
    "driver.get(url)"
   ]
  },
  {
   "cell_type": "code",
   "execution_count": 119,
   "metadata": {},
   "outputs": [
    {
     "data": {
      "text/plain": [
       "[<selenium.webdriver.remote.webelement.WebElement (session=\"36c57f2f7bf7d923baaa79df6c52c4cc\", element=\"af3fe458-cd04-468e-99ac-ab202ec65e4c\")>,\n",
       " <selenium.webdriver.remote.webelement.WebElement (session=\"36c57f2f7bf7d923baaa79df6c52c4cc\", element=\"160c6773-5113-470c-bbd1-bfd07a2a8683\")>,\n",
       " <selenium.webdriver.remote.webelement.WebElement (session=\"36c57f2f7bf7d923baaa79df6c52c4cc\", element=\"b8157276-3397-42d9-ae2d-d39e838fd333\")>,\n",
       " <selenium.webdriver.remote.webelement.WebElement (session=\"36c57f2f7bf7d923baaa79df6c52c4cc\", element=\"c652dd11-8b58-40e9-a52b-ddc54de61dd3\")>,\n",
       " <selenium.webdriver.remote.webelement.WebElement (session=\"36c57f2f7bf7d923baaa79df6c52c4cc\", element=\"fdb585d8-99f3-42ea-a246-f73e8917f6a2\")>,\n",
       " <selenium.webdriver.remote.webelement.WebElement (session=\"36c57f2f7bf7d923baaa79df6c52c4cc\", element=\"02b41750-1921-4d2f-bf20-56f4c8ae7bd1\")>,\n",
       " <selenium.webdriver.remote.webelement.WebElement (session=\"36c57f2f7bf7d923baaa79df6c52c4cc\", element=\"e4568646-8bc0-4dbf-b632-d2bf498f3975\")>,\n",
       " <selenium.webdriver.remote.webelement.WebElement (session=\"36c57f2f7bf7d923baaa79df6c52c4cc\", element=\"5849aa27-5f44-4649-a548-c475f7bebafd\")>,\n",
       " <selenium.webdriver.remote.webelement.WebElement (session=\"36c57f2f7bf7d923baaa79df6c52c4cc\", element=\"0c1e25d3-e426-45db-9812-46dd7061f775\")>,\n",
       " <selenium.webdriver.remote.webelement.WebElement (session=\"36c57f2f7bf7d923baaa79df6c52c4cc\", element=\"34c0bf74-c00e-4323-a431-9750b4f83f15\")>]"
      ]
     },
     "execution_count": 119,
     "metadata": {},
     "output_type": "execute_result"
    }
   ],
   "source": [
    "# so lets extract all the tags having the rating-titles\n",
    "titles_tags=driver.find_elements_by_xpath(\"//div[@class='_3LWZlK _1BLPMq']\")\n",
    "titles_tags"
   ]
  },
  {
   "cell_type": "code",
   "execution_count": 120,
   "metadata": {},
   "outputs": [
    {
     "data": {
      "text/plain": [
       "['5', '5', '5', '', '', '', '', '', '', '']"
      ]
     },
     "execution_count": 120,
     "metadata": {},
     "output_type": "execute_result"
    }
   ],
   "source": [
    "# Now the text of the rating title is inside the tags extracted above\n",
    "\n",
    "# so we will run a loop to iterate over the tags extracted above and extract the text inside them.\n",
    "ratings_titles=[]\n",
    "for i in titles_tags:\n",
    "    ratings_titles.append(i.text)\n",
    "ratings_titles "
   ]
  },
  {
   "cell_type": "code",
   "execution_count": 121,
   "metadata": {},
   "outputs": [
    {
     "data": {
      "text/plain": [
       "[<selenium.webdriver.remote.webelement.WebElement (session=\"36c57f2f7bf7d923baaa79df6c52c4cc\", element=\"a475756b-9f84-4845-8882-d82bf43d14a4\")>,\n",
       " <selenium.webdriver.remote.webelement.WebElement (session=\"36c57f2f7bf7d923baaa79df6c52c4cc\", element=\"8d0198a6-7aca-44b2-9533-cda4ac3a38aa\")>,\n",
       " <selenium.webdriver.remote.webelement.WebElement (session=\"36c57f2f7bf7d923baaa79df6c52c4cc\", element=\"3d1ad15b-8a4b-4fc5-a7fb-a8899994a1c6\")>,\n",
       " <selenium.webdriver.remote.webelement.WebElement (session=\"36c57f2f7bf7d923baaa79df6c52c4cc\", element=\"871c45b1-e71d-4c6b-837d-2159e0e66e30\")>,\n",
       " <selenium.webdriver.remote.webelement.WebElement (session=\"36c57f2f7bf7d923baaa79df6c52c4cc\", element=\"52014874-145d-44dd-bae9-6f4c3ca4b4f7\")>,\n",
       " <selenium.webdriver.remote.webelement.WebElement (session=\"36c57f2f7bf7d923baaa79df6c52c4cc\", element=\"a24101c1-2379-4945-8421-e16906cb83ac\")>,\n",
       " <selenium.webdriver.remote.webelement.WebElement (session=\"36c57f2f7bf7d923baaa79df6c52c4cc\", element=\"087ae165-9ab9-4f40-ad2b-62489ec8589c\")>]"
      ]
     },
     "execution_count": 121,
     "metadata": {},
     "output_type": "execute_result"
    }
   ],
   "source": [
    "# so lets extract all the tags having the rating-titles\n",
    "review_tags=driver.find_elements_by_xpath(\"//span[@class='_1H-bmy']\")\n",
    "review_tags"
   ]
  },
  {
   "cell_type": "code",
   "execution_count": null,
   "metadata": {},
   "outputs": [],
   "source": []
  },
  {
   "cell_type": "code",
   "execution_count": null,
   "metadata": {},
   "outputs": [],
   "source": []
  },
  {
   "cell_type": "code",
   "execution_count": null,
   "metadata": {},
   "outputs": [],
   "source": [
    "8."
   ]
  },
  {
   "cell_type": "code",
   "execution_count": 123,
   "metadata": {},
   "outputs": [
    {
     "name": "stdout",
     "output_type": "stream",
     "text": [
      "Requirement already satisfied: selenium in c:\\users\\sagnik das\\anaconda3\\lib\\site-packages (3.141.0)\n",
      "Requirement already satisfied: urllib3 in c:\\users\\sagnik das\\anaconda3\\lib\\site-packages (from selenium) (1.25.11)\n"
     ]
    }
   ],
   "source": [
    "# lets first install the selinium library\n",
    "! pip install selenium"
   ]
  },
  {
   "cell_type": "code",
   "execution_count": 124,
   "metadata": {},
   "outputs": [],
   "source": [
    "# lets now import all the required libraries\n",
    "import selenium\n",
    "import pandas as pd\n",
    "from selenium import webdriver\n",
    "import time\n",
    "from selenium.common.exceptions import NoSuchElementException           # Importing Exceptions"
   ]
  },
  {
   "cell_type": "code",
   "execution_count": 125,
   "metadata": {},
   "outputs": [],
   "source": [
    "# Lets first connect to the web driver\n",
    "driver = webdriver.Chrome(\"chromedriver.exe\") "
   ]
  },
  {
   "cell_type": "code",
   "execution_count": 126,
   "metadata": {},
   "outputs": [],
   "source": [
    "url = 'https://www.flipkart.com/search?q=sneakers&sid=osp%2Ccil%2Ce1f&as=on&as-show=on&otracker=AS_QueryStore_OrganicAutoSuggest_1_2_na_na_na&otracker1=AS_QueryStore_OrganicAutoSuggest_1_2_na_na_na&as-pos=1&as-type=RECENT&suggestionId=sneakers%7CMen%27s+Casual+Shoes&requestId=bfa5c5b1-2c08-4f9d-9b21-bca275e59ed3&as-searchtext=sn'\n",
    "driver.get(url)"
   ]
  },
  {
   "cell_type": "code",
   "execution_count": 127,
   "metadata": {},
   "outputs": [
    {
     "data": {
      "text/plain": [
       "[<selenium.webdriver.remote.webelement.WebElement (session=\"5243be12ff646cecbf74529112fbc816\", element=\"12b48afb-aeb4-43bf-be09-98674b2d1e60\")>,\n",
       " <selenium.webdriver.remote.webelement.WebElement (session=\"5243be12ff646cecbf74529112fbc816\", element=\"40cf2857-4624-4959-b2a8-447d46dcff3b\")>,\n",
       " <selenium.webdriver.remote.webelement.WebElement (session=\"5243be12ff646cecbf74529112fbc816\", element=\"caf98947-dd61-4906-a8f9-5bb7a56a5050\")>,\n",
       " <selenium.webdriver.remote.webelement.WebElement (session=\"5243be12ff646cecbf74529112fbc816\", element=\"71224d7c-452f-40bd-983f-9b03ac08d13c\")>,\n",
       " <selenium.webdriver.remote.webelement.WebElement (session=\"5243be12ff646cecbf74529112fbc816\", element=\"499751dd-ebf3-498c-9e6f-ca1f91df5397\")>,\n",
       " <selenium.webdriver.remote.webelement.WebElement (session=\"5243be12ff646cecbf74529112fbc816\", element=\"5368eea3-733f-4daf-ae5b-fb2088472cda\")>,\n",
       " <selenium.webdriver.remote.webelement.WebElement (session=\"5243be12ff646cecbf74529112fbc816\", element=\"a4593ca5-852e-4c2f-84af-dce1ccdce79f\")>,\n",
       " <selenium.webdriver.remote.webelement.WebElement (session=\"5243be12ff646cecbf74529112fbc816\", element=\"cdc686aa-1f79-4e7b-b18a-6a64c2c285e5\")>,\n",
       " <selenium.webdriver.remote.webelement.WebElement (session=\"5243be12ff646cecbf74529112fbc816\", element=\"81d1b9f9-5946-4401-bed5-78f539967de9\")>,\n",
       " <selenium.webdriver.remote.webelement.WebElement (session=\"5243be12ff646cecbf74529112fbc816\", element=\"a62564dc-9845-4669-af76-8bb02ec9135b\")>,\n",
       " <selenium.webdriver.remote.webelement.WebElement (session=\"5243be12ff646cecbf74529112fbc816\", element=\"c946e859-4eb0-4f4a-bb3a-72662c3cbeb2\")>,\n",
       " <selenium.webdriver.remote.webelement.WebElement (session=\"5243be12ff646cecbf74529112fbc816\", element=\"932f2bb8-f97c-4afe-9862-e7a99e585167\")>,\n",
       " <selenium.webdriver.remote.webelement.WebElement (session=\"5243be12ff646cecbf74529112fbc816\", element=\"2e2c296a-ba85-449d-9a76-199c49631e52\")>,\n",
       " <selenium.webdriver.remote.webelement.WebElement (session=\"5243be12ff646cecbf74529112fbc816\", element=\"8d02a9e9-fb0a-43c2-8450-5fa858b10a5a\")>,\n",
       " <selenium.webdriver.remote.webelement.WebElement (session=\"5243be12ff646cecbf74529112fbc816\", element=\"65c54c45-e1ca-4c51-b174-8cb4b843a1e6\")>,\n",
       " <selenium.webdriver.remote.webelement.WebElement (session=\"5243be12ff646cecbf74529112fbc816\", element=\"b1b42e47-4ee6-4604-a102-4a922ab65bca\")>,\n",
       " <selenium.webdriver.remote.webelement.WebElement (session=\"5243be12ff646cecbf74529112fbc816\", element=\"9cd45d36-2247-41c9-a78f-bd1a8e8f58d4\")>,\n",
       " <selenium.webdriver.remote.webelement.WebElement (session=\"5243be12ff646cecbf74529112fbc816\", element=\"946c9a37-9511-410f-bf6e-16b3e7c0e11c\")>,\n",
       " <selenium.webdriver.remote.webelement.WebElement (session=\"5243be12ff646cecbf74529112fbc816\", element=\"bc05dfb2-64b7-4b53-bbf4-4e6596eb411f\")>,\n",
       " <selenium.webdriver.remote.webelement.WebElement (session=\"5243be12ff646cecbf74529112fbc816\", element=\"55af934c-3896-4c5b-99f8-ea501327553c\")>,\n",
       " <selenium.webdriver.remote.webelement.WebElement (session=\"5243be12ff646cecbf74529112fbc816\", element=\"e8513e4a-6f36-47eb-ab90-98a9b09c5213\")>,\n",
       " <selenium.webdriver.remote.webelement.WebElement (session=\"5243be12ff646cecbf74529112fbc816\", element=\"79cdaf5c-c024-483a-b3e5-f128f1475d80\")>,\n",
       " <selenium.webdriver.remote.webelement.WebElement (session=\"5243be12ff646cecbf74529112fbc816\", element=\"1448fbd7-329e-4ed1-9923-263bb5b91074\")>,\n",
       " <selenium.webdriver.remote.webelement.WebElement (session=\"5243be12ff646cecbf74529112fbc816\", element=\"2669c23c-bd33-4ad8-a5f7-365546ca212e\")>,\n",
       " <selenium.webdriver.remote.webelement.WebElement (session=\"5243be12ff646cecbf74529112fbc816\", element=\"a748e507-db11-426f-a0cd-effa1b493fcf\")>,\n",
       " <selenium.webdriver.remote.webelement.WebElement (session=\"5243be12ff646cecbf74529112fbc816\", element=\"5c67c95c-d427-4497-9d38-b97a67c8b5f7\")>,\n",
       " <selenium.webdriver.remote.webelement.WebElement (session=\"5243be12ff646cecbf74529112fbc816\", element=\"a4675230-3c14-42bc-89b8-638d7677561f\")>,\n",
       " <selenium.webdriver.remote.webelement.WebElement (session=\"5243be12ff646cecbf74529112fbc816\", element=\"82ee3939-2a61-461c-809f-83dd37ca084e\")>,\n",
       " <selenium.webdriver.remote.webelement.WebElement (session=\"5243be12ff646cecbf74529112fbc816\", element=\"4294baa7-1e7d-45c8-b3e7-c2fb7592834f\")>,\n",
       " <selenium.webdriver.remote.webelement.WebElement (session=\"5243be12ff646cecbf74529112fbc816\", element=\"f76c8f76-11f7-40fc-bb1e-a7e923dfffa9\")>,\n",
       " <selenium.webdriver.remote.webelement.WebElement (session=\"5243be12ff646cecbf74529112fbc816\", element=\"dfa32bee-4150-4678-8e3c-22a35ad15539\")>,\n",
       " <selenium.webdriver.remote.webelement.WebElement (session=\"5243be12ff646cecbf74529112fbc816\", element=\"866104d6-9922-40db-9967-b498e951a73f\")>,\n",
       " <selenium.webdriver.remote.webelement.WebElement (session=\"5243be12ff646cecbf74529112fbc816\", element=\"21d10b24-308a-409d-b48a-17a709868667\")>,\n",
       " <selenium.webdriver.remote.webelement.WebElement (session=\"5243be12ff646cecbf74529112fbc816\", element=\"0f6c3be1-fd1d-4d0f-986f-75c883287339\")>,\n",
       " <selenium.webdriver.remote.webelement.WebElement (session=\"5243be12ff646cecbf74529112fbc816\", element=\"85a28b44-6315-40cd-abdc-02fc147e11d6\")>,\n",
       " <selenium.webdriver.remote.webelement.WebElement (session=\"5243be12ff646cecbf74529112fbc816\", element=\"eb08cc17-f317-4553-93f1-d343eac86989\")>,\n",
       " <selenium.webdriver.remote.webelement.WebElement (session=\"5243be12ff646cecbf74529112fbc816\", element=\"8158fd1e-1efe-448c-8b93-505db9762c5d\")>,\n",
       " <selenium.webdriver.remote.webelement.WebElement (session=\"5243be12ff646cecbf74529112fbc816\", element=\"d128bdcd-c525-4697-a515-d5d2187182be\")>,\n",
       " <selenium.webdriver.remote.webelement.WebElement (session=\"5243be12ff646cecbf74529112fbc816\", element=\"e448ed70-4045-4331-b852-8e92c819248f\")>,\n",
       " <selenium.webdriver.remote.webelement.WebElement (session=\"5243be12ff646cecbf74529112fbc816\", element=\"6c9056fa-45f7-47ce-9651-1f5e6dd9dac0\")>]"
      ]
     },
     "execution_count": 127,
     "metadata": {},
     "output_type": "execute_result"
    }
   ],
   "source": [
    "# so lets extract all the tags having the brand-titles\n",
    "titles_tags=driver.find_elements_by_xpath(\"//div[@class='_2B099V']\")\n",
    "titles_tags"
   ]
  },
  {
   "cell_type": "code",
   "execution_count": 128,
   "metadata": {},
   "outputs": [
    {
     "data": {
      "text/plain": [
       "['Robbie jones\\nCasual Sneakers Green Shoes For Men And Boys Sneakers F...\\n₹499₹99950% off',\n",
       " 'Zixer\\nShoes For Boys Dance shoes Sneakers For Men\\n₹555₹99944% off',\n",
       " 'Robbie jones\\nCasual Sneakers Shoes For Men Sneakers For Men\\n₹399₹99960% off',\n",
       " 'CALCADOS\\nModern Trendy Shoes Combo pack of 4 Sneakers For Men\\n₹748₹1,99662% off',\n",
       " 'Chevit\\nSuper Stylish & Trendy Combo Pack of 02 Pairs Sneakers ...\\n₹599₹1,59862% off',\n",
       " 'Nilatin\\nBlack Sneaker For Men Sneakers For Men\\n₹449₹1,29965% off',\n",
       " 'PEHANOSA\\nSneakers For Men\\n₹495₹99950% off',\n",
       " 'Echor\\nTrend Sneakers For Men\\n₹499₹99950% off',\n",
       " \"Shoes Bank\\nWhite Sneaker For Men's/Boy's Sneakers For Men\\n₹349₹99965% off\",\n",
       " 'World Wear Footwear\\n5011-Latest Collection Stylish Casual Loafer Sneakers S...\\n₹240₹49951% off',\n",
       " 'Labbin\\nSneakers For Men\\n₹499₹99950% off',\n",
       " 'kardam&sons\\nFashinable casual sneaker shoes Sneakers For Men\\n₹410₹1,99979% off\\nBuy 2 items, save extra 5%',\n",
       " 'Numenzo\\nSneakers For Men\\n₹378₹99962% off',\n",
       " \"ASTEROID\\nOriginal Luxury Branded Fashionable Men's Casual Walkin...\\n₹499₹1,99975% off\",\n",
       " 'Birde\\nCombo Pack of 4 Casual Shoes Sneakers For Men\\n₹698₹1,99965% off',\n",
       " 'DUCATI\\nSneakers For Men\\n₹1,445₹3,69960% off',\n",
       " 'believe\\nSneakers for men(black_6) Sneakers For Men\\n₹499₹99950% off',\n",
       " 'ESSENCE\\nCasuals Sneakers For Men\\n₹399₹99960% off',\n",
       " 'Numenzo\\nSneakers For Men\\n₹449₹1,99977% off',\n",
       " 'French Connection\\nSneakers For Men\\n₹1,374₹3,69962% off',\n",
       " 'Robbie jones\\nSneakers For Men\\n₹499₹99950% off',\n",
       " 'Chevit\\nUnique & Perfect Collection Combo Pack of 02 Shoes for ...\\n₹425₹1,49871% off',\n",
       " 'bluemaker\\ncasual for men (blue 06) Sneakers For Men\\n₹449₹99955% off',\n",
       " 'Numenzo\\nWhite Sneaker For Men Sneakers For Men\\n₹429₹1,29966% off',\n",
       " 'Chevit\\nSpeed Set of 5 Pairs Sneakers Outdoors Casuals for Men ...\\n₹683₹2,49572% off',\n",
       " 'Chevit\\nSuper 445 Fashion Sneakers For Men\\n₹350₹49929% off',\n",
       " 'Stefano Rads\\nClassy Sneakers For Men\\n₹242₹69965% off',\n",
       " 'Chevit\\nCombo Pack of 4 Casual Sneakers With Sneakers For Men\\n₹474₹1,99676% off\\nBuy ₹10 more, save extra 10%',\n",
       " 'HOTSTYLE\\nSneakers For Men\\n₹199₹49960% off',\n",
       " 'SCATCHITE\\nSneakers Sneakers For Men\\n₹419₹99958% off',\n",
       " 'World Wear Footwear\\nSneakers For Men\\n₹240₹49951% off',\n",
       " 'Clymb\\nComfort Air Net Super Quality Shoes Sneakers For Men\\n₹654₹1,29949% off',\n",
       " 'T-ROCK\\nSynthetic Leather Casual Partywear Wedding Sneakers Sho...\\n₹378₹99962% off',\n",
       " 'Absolute comfort\\nSOFT Sneakers For Men\\n₹199₹49960% off',\n",
       " 'Jokatoo\\ncasual sneaker shoes and partywear shoes Casuals For Me...\\n₹418₹1,48071% off',\n",
       " \"Chevit\\nSuper & Trendy Men's Pack of 02 Pair Shoes for Boys Cas...\\n₹470₹1,99876% off\\nBuy ₹10 more, save extra 10%\",\n",
       " \"D-SNEAKERZ\\nCasual , Partywear Sneakers Shoes For Men's And Boys Wh...\\n₹349₹65947% off\",\n",
       " 'STRANGER BROTHERS\\nSneakers For Men\\n₹475₹99952% off',\n",
       " 'Birde\\nCombo Pack of 5 Casual Shoes Loafers Sneakers For Men\\n₹698₹2,49972% off',\n",
       " 'Chevit\\n494 Perfect Sports Shoes for Running Training Hikking &...\\n₹284₹99971% off\\nBuy ₹10 more, save extra 10%']"
      ]
     },
     "execution_count": 128,
     "metadata": {},
     "output_type": "execute_result"
    }
   ],
   "source": [
    "# Now the text of the brand title, product description, price, discount%bb is inside the tags extracted above\n",
    "\n",
    "# so we will run a loop to iterate over the tags extracted above and extract the text inside them.\n",
    "brand_titles=[]\n",
    "for i in titles_tags:\n",
    "    brand_titles.append(i.text)\n",
    "brand_titles  "
   ]
  },
  {
   "cell_type": "code",
   "execution_count": null,
   "metadata": {},
   "outputs": [],
   "source": []
  },
  {
   "cell_type": "code",
   "execution_count": null,
   "metadata": {},
   "outputs": [],
   "source": []
  },
  {
   "cell_type": "code",
   "execution_count": null,
   "metadata": {},
   "outputs": [],
   "source": [
    "9."
   ]
  },
  {
   "cell_type": "code",
   "execution_count": 129,
   "metadata": {},
   "outputs": [
    {
     "name": "stdout",
     "output_type": "stream",
     "text": [
      "Requirement already satisfied: selenium in c:\\users\\sagnik das\\anaconda3\\lib\\site-packages (3.141.0)\n",
      "Requirement already satisfied: urllib3 in c:\\users\\sagnik das\\anaconda3\\lib\\site-packages (from selenium) (1.25.11)\n"
     ]
    }
   ],
   "source": [
    "# lets first install the selinium library\n",
    "! pip install selenium"
   ]
  },
  {
   "cell_type": "code",
   "execution_count": 130,
   "metadata": {},
   "outputs": [],
   "source": [
    "# lets now import all the required libraries\n",
    "import selenium\n",
    "import pandas as pd\n",
    "from selenium import webdriver"
   ]
  },
  {
   "cell_type": "code",
   "execution_count": 131,
   "metadata": {},
   "outputs": [],
   "source": [
    "# Lets first connect to the web driver\n",
    "driver = webdriver.Chrome(\"chromedriver.exe\")   "
   ]
  },
  {
   "cell_type": "code",
   "execution_count": 132,
   "metadata": {},
   "outputs": [],
   "source": [
    "url = 'https://www.myntra.com/shoes'\n",
    "driver.get(url)"
   ]
  },
  {
   "cell_type": "code",
   "execution_count": 133,
   "metadata": {},
   "outputs": [
    {
     "data": {
      "text/plain": [
       "[<selenium.webdriver.remote.webelement.WebElement (session=\"6f83604ab32378a1b44370a0cc8a3ca4\", element=\"11763afe-748b-491b-8c9c-13c554b00a70\")>,\n",
       " <selenium.webdriver.remote.webelement.WebElement (session=\"6f83604ab32378a1b44370a0cc8a3ca4\", element=\"c4221102-3575-472d-90f6-910761c414e8\")>,\n",
       " <selenium.webdriver.remote.webelement.WebElement (session=\"6f83604ab32378a1b44370a0cc8a3ca4\", element=\"92c06fcc-421a-4b75-8f7f-4fb969a5828b\")>,\n",
       " <selenium.webdriver.remote.webelement.WebElement (session=\"6f83604ab32378a1b44370a0cc8a3ca4\", element=\"a478acb5-69b5-45f6-9acc-33dc69f0ee48\")>,\n",
       " <selenium.webdriver.remote.webelement.WebElement (session=\"6f83604ab32378a1b44370a0cc8a3ca4\", element=\"eab2bb0e-f41a-4cca-878f-5bc1c85543c1\")>,\n",
       " <selenium.webdriver.remote.webelement.WebElement (session=\"6f83604ab32378a1b44370a0cc8a3ca4\", element=\"248f1034-03ad-41ad-aac7-bf2e6b7e1e8f\")>,\n",
       " <selenium.webdriver.remote.webelement.WebElement (session=\"6f83604ab32378a1b44370a0cc8a3ca4\", element=\"f5bd9d18-c0d8-4609-9c21-2939a73b976d\")>,\n",
       " <selenium.webdriver.remote.webelement.WebElement (session=\"6f83604ab32378a1b44370a0cc8a3ca4\", element=\"04ef0c94-b8b5-4744-9fee-dd9f0a26f86c\")>,\n",
       " <selenium.webdriver.remote.webelement.WebElement (session=\"6f83604ab32378a1b44370a0cc8a3ca4\", element=\"d7e4360d-55a4-432d-a0a7-6e51ed741bd8\")>,\n",
       " <selenium.webdriver.remote.webelement.WebElement (session=\"6f83604ab32378a1b44370a0cc8a3ca4\", element=\"0c8f7486-55c6-479f-8a59-4a24f9d47aa1\")>]"
      ]
     },
     "execution_count": 133,
     "metadata": {},
     "output_type": "execute_result"
    }
   ],
   "source": [
    "# so lets extract all the shoe tags having the price-titles\n",
    "price_tags=driver.find_elements_by_xpath(\"//label[@class='common-customCheckbox vertical-filters-label']\")\n",
    "price_tags"
   ]
  },
  {
   "cell_type": "code",
   "execution_count": 134,
   "metadata": {},
   "outputs": [
    {
     "data": {
      "text/plain": [
       "['Casual Shoes(20435)',\n",
       " 'Flats(14613)',\n",
       " 'Heels(14518)',\n",
       " 'Sports Shoes(8743)',\n",
       " 'Formal Shoes(6997)',\n",
       " 'Booties(123)',\n",
       " 'Rs. 199 to Rs. 6649(63415)',\n",
       " 'Rs. 6649 to Rs. 13099(1777)',\n",
       " 'Rs. 13099 to Rs. 19549(207)',\n",
       " 'Rs. 19549 to Rs. 25999(28)']"
      ]
     },
     "execution_count": 134,
     "metadata": {},
     "output_type": "execute_result"
    }
   ],
   "source": [
    "# Now the text of the price title is inside the tags extracted above\n",
    "\n",
    "# so we will run a loop to iterate over the tags extracted above and extract the text inside them.\n",
    "price_titles=[]\n",
    "for i in price_tags:\n",
    "    price_titles.append(i.text)\n",
    "price_titles   "
   ]
  },
  {
   "cell_type": "code",
   "execution_count": 135,
   "metadata": {},
   "outputs": [
    {
     "data": {
      "text/plain": [
       "[<selenium.webdriver.remote.webelement.WebElement (session=\"6f83604ab32378a1b44370a0cc8a3ca4\", element=\"7e74e1e9-0beb-486c-9d18-f7b8f140db3e\")>,\n",
       " <selenium.webdriver.remote.webelement.WebElement (session=\"6f83604ab32378a1b44370a0cc8a3ca4\", element=\"f42a9389-fdbe-4575-8b7a-179afe80f3aa\")>,\n",
       " <selenium.webdriver.remote.webelement.WebElement (session=\"6f83604ab32378a1b44370a0cc8a3ca4\", element=\"cbd878b6-49ba-4b11-be87-0b834685c1a1\")>,\n",
       " <selenium.webdriver.remote.webelement.WebElement (session=\"6f83604ab32378a1b44370a0cc8a3ca4\", element=\"597c95f4-2acb-4ec6-9da0-b409ef7fee52\")>,\n",
       " <selenium.webdriver.remote.webelement.WebElement (session=\"6f83604ab32378a1b44370a0cc8a3ca4\", element=\"a31c4dbf-3e9b-41e4-9fbf-7388a2cffce4\")>,\n",
       " <selenium.webdriver.remote.webelement.WebElement (session=\"6f83604ab32378a1b44370a0cc8a3ca4\", element=\"b87a324a-98fd-4cc9-a8d6-a93cb18e161b\")>,\n",
       " <selenium.webdriver.remote.webelement.WebElement (session=\"6f83604ab32378a1b44370a0cc8a3ca4\", element=\"b3d4e413-e4bf-4fc2-9b46-292a3b1dc402\")>]"
      ]
     },
     "execution_count": 135,
     "metadata": {},
     "output_type": "execute_result"
    }
   ],
   "source": [
    "# so lets extract all the shoe tags having the color black\n",
    "color_tags=driver.find_elements_by_xpath(\"//label[@class='common-customCheckbox']\")\n",
    "color_tags"
   ]
  },
  {
   "cell_type": "code",
   "execution_count": 136,
   "metadata": {},
   "outputs": [
    {
     "data": {
      "text/plain": [
       "['Black (17088)',\n",
       " 'Brown (5636)',\n",
       " 'Navy Blue (4552)',\n",
       " 'Grey (4506)',\n",
       " 'White (4419)',\n",
       " 'Tan (3939)',\n",
       " 'Blue (3618)']"
      ]
     },
     "execution_count": 136,
     "metadata": {},
     "output_type": "execute_result"
    }
   ],
   "source": [
    "color_list=[]\n",
    "for i in color_tags:\n",
    "    color_list.append(i.text)\n",
    "color_list"
   ]
  },
  {
   "cell_type": "code",
   "execution_count": 137,
   "metadata": {},
   "outputs": [
    {
     "data": {
      "text/plain": [
       "[]"
      ]
     },
     "execution_count": 137,
     "metadata": {},
     "output_type": "execute_result"
    }
   ],
   "source": [
    "# so lets extract all the shoe brand tags \n",
    "brand_tags=driver.find_elements_by_xpath(\"//h1[@class='pdp-title']\")\n",
    "brand_tags"
   ]
  },
  {
   "cell_type": "code",
   "execution_count": 138,
   "metadata": {},
   "outputs": [
    {
     "name": "stdout",
     "output_type": "stream",
     "text": [
      "Requirement already satisfied: selenium in c:\\users\\sagnik das\\anaconda3\\lib\\site-packages (3.141.0)\n",
      "Requirement already satisfied: urllib3 in c:\\users\\sagnik das\\anaconda3\\lib\\site-packages (from selenium) (1.25.11)\n"
     ]
    }
   ],
   "source": [
    "# lets first install the selinium library\n",
    "! pip install selenium"
   ]
  },
  {
   "cell_type": "code",
   "execution_count": 139,
   "metadata": {},
   "outputs": [],
   "source": [
    "# lets now import all the required libraries\n",
    "import selenium\n",
    "import pandas as pd\n",
    "from selenium import webdriver"
   ]
  },
  {
   "cell_type": "code",
   "execution_count": 140,
   "metadata": {},
   "outputs": [],
   "source": [
    "# Lets first connect to the web driver\n",
    "driver = webdriver.Chrome(\"chromedriver.exe\") "
   ]
  },
  {
   "cell_type": "code",
   "execution_count": 141,
   "metadata": {},
   "outputs": [],
   "source": [
    "url = 'https://www.amazon.in/'\n",
    "driver.get(url)"
   ]
  },
  {
   "cell_type": "code",
   "execution_count": 142,
   "metadata": {},
   "outputs": [
    {
     "data": {
      "text/plain": [
       "<selenium.webdriver.remote.webelement.WebElement (session=\"48cbc75d27f03caa79cf460b5b6656d5\", element=\"b228c827-5c65-4ab1-84a0-6e416b5154d8\")>"
      ]
     },
     "execution_count": 142,
     "metadata": {},
     "output_type": "execute_result"
    }
   ],
   "source": [
    "search_laptops = driver.find_element_by_id('twotabsearchtextbox')\n",
    "search_laptops"
   ]
  },
  {
   "cell_type": "code",
   "execution_count": 143,
   "metadata": {},
   "outputs": [],
   "source": [
    "# write on search bar\n",
    "search_laptops.send_keys(\"Laptops\")"
   ]
  },
  {
   "cell_type": "code",
   "execution_count": 144,
   "metadata": {},
   "outputs": [],
   "source": [
    "# do click using class_name function\n",
    "search_btn = driver.find_element_by_class_name('nav-search-submit-text')\n",
    "search_btn.click()"
   ]
  },
  {
   "cell_type": "code",
   "execution_count": 145,
   "metadata": {},
   "outputs": [
    {
     "data": {
      "text/plain": [
       "[<selenium.webdriver.remote.webelement.WebElement (session=\"48cbc75d27f03caa79cf460b5b6656d5\", element=\"d43d70d7-ef09-46ca-9ecb-a3e540727fac\")>,\n",
       " <selenium.webdriver.remote.webelement.WebElement (session=\"48cbc75d27f03caa79cf460b5b6656d5\", element=\"c849251d-1cd4-4c5e-ab36-7cf964e153da\")>,\n",
       " <selenium.webdriver.remote.webelement.WebElement (session=\"48cbc75d27f03caa79cf460b5b6656d5\", element=\"b62f4f42-6e32-4429-9678-1391f31c461a\")>,\n",
       " <selenium.webdriver.remote.webelement.WebElement (session=\"48cbc75d27f03caa79cf460b5b6656d5\", element=\"fce08604-004a-4e66-a20b-b48001e76ffa\")>,\n",
       " <selenium.webdriver.remote.webelement.WebElement (session=\"48cbc75d27f03caa79cf460b5b6656d5\", element=\"30c243cb-ac60-4e6b-a87d-98142bb8ba89\")>,\n",
       " <selenium.webdriver.remote.webelement.WebElement (session=\"48cbc75d27f03caa79cf460b5b6656d5\", element=\"1a14fcc2-ca3c-4275-9924-88f861c7b315\")>,\n",
       " <selenium.webdriver.remote.webelement.WebElement (session=\"48cbc75d27f03caa79cf460b5b6656d5\", element=\"ff2c1e00-269f-44f2-af15-a6aebbbd2b37\")>,\n",
       " <selenium.webdriver.remote.webelement.WebElement (session=\"48cbc75d27f03caa79cf460b5b6656d5\", element=\"9e974e77-c3ee-4c00-bcc8-c02872bc12ca\")>,\n",
       " <selenium.webdriver.remote.webelement.WebElement (session=\"48cbc75d27f03caa79cf460b5b6656d5\", element=\"ef422f87-d6d0-48f0-aebd-e107f1517e76\")>,\n",
       " <selenium.webdriver.remote.webelement.WebElement (session=\"48cbc75d27f03caa79cf460b5b6656d5\", element=\"0e6423f5-9c23-4c0f-871c-fa512ed0d700\")>,\n",
       " <selenium.webdriver.remote.webelement.WebElement (session=\"48cbc75d27f03caa79cf460b5b6656d5\", element=\"568b46ce-ca33-4afd-bcc8-9f714be32934\")>,\n",
       " <selenium.webdriver.remote.webelement.WebElement (session=\"48cbc75d27f03caa79cf460b5b6656d5\", element=\"448da9a3-0c1e-4bfb-bdd5-cc516f7939fe\")>,\n",
       " <selenium.webdriver.remote.webelement.WebElement (session=\"48cbc75d27f03caa79cf460b5b6656d5\", element=\"981373fb-1284-4d07-b2c5-fc836b430b52\")>,\n",
       " <selenium.webdriver.remote.webelement.WebElement (session=\"48cbc75d27f03caa79cf460b5b6656d5\", element=\"41638f5f-41cb-4fdc-b4b8-42a4d95df482\")>,\n",
       " <selenium.webdriver.remote.webelement.WebElement (session=\"48cbc75d27f03caa79cf460b5b6656d5\", element=\"f5eb2b97-0cba-4452-9acd-d6ab69907155\")>,\n",
       " <selenium.webdriver.remote.webelement.WebElement (session=\"48cbc75d27f03caa79cf460b5b6656d5\", element=\"25d5be02-3beb-4cd1-9b85-6ea5c5ce519f\")>,\n",
       " <selenium.webdriver.remote.webelement.WebElement (session=\"48cbc75d27f03caa79cf460b5b6656d5\", element=\"5c31ebb4-6e1c-4ba2-a6e3-f192ce1bc87a\")>,\n",
       " <selenium.webdriver.remote.webelement.WebElement (session=\"48cbc75d27f03caa79cf460b5b6656d5\", element=\"844725dc-cafb-4123-bb80-e95069115c5b\")>,\n",
       " <selenium.webdriver.remote.webelement.WebElement (session=\"48cbc75d27f03caa79cf460b5b6656d5\", element=\"b97701e2-ed89-48c9-894e-82f437e3bb3a\")>,\n",
       " <selenium.webdriver.remote.webelement.WebElement (session=\"48cbc75d27f03caa79cf460b5b6656d5\", element=\"38c99be8-9630-4059-ab11-00827a6c7619\")>,\n",
       " <selenium.webdriver.remote.webelement.WebElement (session=\"48cbc75d27f03caa79cf460b5b6656d5\", element=\"b9d0fb0d-3aec-4f85-96da-d882d9d96590\")>,\n",
       " <selenium.webdriver.remote.webelement.WebElement (session=\"48cbc75d27f03caa79cf460b5b6656d5\", element=\"e53c2252-219c-4172-9b83-069316eb0342\")>,\n",
       " <selenium.webdriver.remote.webelement.WebElement (session=\"48cbc75d27f03caa79cf460b5b6656d5\", element=\"1c0fe0dc-395b-4664-bd62-634b24e05506\")>]"
      ]
     },
     "execution_count": 145,
     "metadata": {},
     "output_type": "execute_result"
    }
   ],
   "source": [
    "# so lets extract all the tags having the laptop-titles\n",
    "titles_tags=driver.find_elements_by_xpath(\"//span[@class='a-size-medium a-color-base a-text-normal']\")\n",
    "titles_tags"
   ]
  },
  {
   "cell_type": "code",
   "execution_count": 146,
   "metadata": {},
   "outputs": [
    {
     "data": {
      "text/plain": [
       "['Lenovo IdeaPad Slim 3 (2021) | Intel Core i3 11th Gen |14\" FHD IPS |Thin & Light Laptop | 4-Side Narrow Bezel (8GB/256GB SSD/Win10/Office/Backlit KB/Fingerprint Reader/Arctic Grey/1.41kg), 82H700J8IN',\n",
       " 'Lenovo IdeaPad Slim 3 (2021) | 11th Gen Intel Core i5 |15.6\" Full HD Thin and Light Laptop | 4-Side Narrow Bezel (8GB/512GB SSD/Windows 10/Office/Backlit Keyboard/Arctic Grey/1.65Kg), 82H8014BIN',\n",
       " 'HP 15 Intel Pentium Gold 6405U Processor Entry Level 15.6-inch (39.62 cms) FHD Laptop (4GB/1TB/Win 10/Jet Black/1.74kg), 15s-du1052tu',\n",
       " 'Dell Inspiron 3502 15.6\" (39.62 cms) HD Display Laptop (Pentium Silver N5030 / 4GB / 256GB SSD / Integrated Graphics / Win 10 + MSO / Accent Black) D560427WIN9BE',\n",
       " 'HP 15 (2021) Thin & Light Ryzen 3-3250 Laptop, 8 GB RAM, 1TB HDD + 256GB SSD, 15.6\" (39.2 cms) FHD Screen, Windows 10, MS Office (15s-gr0012AU)',\n",
       " 'Hammonds Flycatcher Genuine Leather Black 15.6 inch Premium Laptop Messenger Bag',\n",
       " 'AVITA Essential Refresh NE14A2INC43A-CR 14-inch/35.56 cm(Intel Celeron-N4020/4GB/128GB SSD/Windows 10 Home/FHD/Integrated Graphics), Concrete Grey',\n",
       " 'HP 15 AMD Athlon 15.6\" (39.62cms) HD Laptop (Silver-3050U/4GB/1TB/Win 10/MS Office/Jet Black/1.85kg), 15s-gy0001au',\n",
       " 'Lenovo Ideapad Slim 3 15.6\" HD Thin and Light Laptop (AMD 3020e/4GB/1TB HDD/Windows 10/Grey/1.85Kg), 81W100HHIN',\n",
       " '(Renewed) Fujitsu Intel Core i5 3340M 15.6-Inch (39.62 cms) 1366 X 768 Laptop (4 GB/320 GB HDD/Windows/Intel HD Graphics/Black/2.40 Kg), A573',\n",
       " 'Dell Inspiron 3505 15.6\" HD Display Laptop (Athlon Silver 3050U / 4GB / 256GB SSD / Integrated Graphics / Win10 + MSO) D560483WIN9BE',\n",
       " 'Lenovo IdeaPad Slim 5 AMD Ryzen 7 5700U 14\" FHD IPS Thin & Light Laptop (8GB/512GB SSD/Win 10/Office/AMD Radeon Graphics/Fingerprint Reader/Graphite Grey/Aluminium SurfaceTop/1.39Kg), 82LM009AIN',\n",
       " 'HP 15 11th Gen Intel Core i3 Processor 15.6\" (39.62cms) FHD Laptop (8GB/256GB SSD/Win 10/MS Office/Integrated Graphics/Jet Black/1.69 Kg), 15s-fq2075TU',\n",
       " 'ASUS Celeron Dual Core - (4 GB/1 TB HDD/Windows 10 Home) X515MA-BR004T Thin and Light Laptop (15.6 inch, Transparent Silver, 1.80 Kg',\n",
       " 'Lenovo V15 AMD 15.6-inch FHD Thin and Light Laptop (AMD Athlon Gold 3150U/ 4GB RAM/ 1TB HDD/ Windows 10 Home/Integrated AMD Radeon Graphics/ Iron Grey), 82C700JEIH',\n",
       " 'HP Chromebook x360 Intel Celeron N4020 Processor 12-inch (30.48 cms) Touchscreen Laptop (4GB/64GB eMMC Storage/Chrome OS/Natural Silver), 12b-ca0010TU',\n",
       " 'Dell Inspiron 3501 15.6\" FHD Anti Glare Display Laptop ( i3-1005G1 / 4GB / 256 SSD / Integrated Graphics / 1 Yr NBD / Win 10 + MSO / Accent Black) D560397WIN9BE',\n",
       " 'Lenovo V15 AMD 15.6-inch FHD Thin and Light Laptop (AMD Athlon Silver 3050 U/ 4GB RAM/ 1TB HDD/ DOS /Integrated AMD Radeon Graphics/ Iron Grey/ 1.85 kg), 82C700HXIH',\n",
       " 'Lenovo IdeaPad Slim 3 Intel Celeron N4020 15.6\" (39.62cms) HD Thin and Light Laptop (4GB/256GB SSD/Windows 10/Platinum Grey/1.7Kg), 81WQ003LIN',\n",
       " 'HP 15 (2021) Thin & Light 11th Gen Core i5 Laptop, 8 GB RAM, 512GB SSD, 15.6-inch (39.62 cms) FHD Screen, Windows 10, MS Office, Built-in Alexa (15s-fq2535TU)',\n",
       " 'Lenovo IdeaPad Slim 5 11th Gen Intel Core i5 15.6\" FHD IPS Thin & Light Laptop (8GB/256GB SSD + 1TB HDD/Win 10/Office/Nvidia GeForce MX450 Graphics/Fingerprint Reader/Graphite Grey/1.66Kg), 82FG010AIN',\n",
       " 'Lenovo IdeaPad Slim 5 11th Gen Intel Core i5 14\" FHD IPS Thin & Light Laptop (8GB/512GB SSD/Win 10/Office/Intel Iris Xe Graphics/Fingerprint Reader/Graphite Grey/Aluminium Surface/1.39Kg), 82FE00QLIN',\n",
       " 'Lenovo Yoga Slim 7 Carbon 11th Gen Intel Core i7 13.3\" QHD IPS Ultra-Light & Thin Laptop (16GB/1TB SSD/Win 10/Office/Intel Iris Xe GFX/HD IR Camera/Moon White/Carbon Fiber Material/0.96 Kg)82EV003WIN']"
      ]
     },
     "execution_count": 146,
     "metadata": {},
     "output_type": "execute_result"
    }
   ],
   "source": [
    "# Now the text of the laptop title is inside the tags extracted above\n",
    "\n",
    "# so we will run a loop to iterate over the tags extracted above and extract the text inside them.\n",
    "laptop_titles=[]\n",
    "for i in titles_tags:\n",
    "    laptop_titles.append(i.text)\n",
    "laptop_titles"
   ]
  },
  {
   "cell_type": "code",
   "execution_count": 147,
   "metadata": {},
   "outputs": [
    {
     "data": {
      "text/plain": [
       "[<selenium.webdriver.remote.webelement.WebElement (session=\"48cbc75d27f03caa79cf460b5b6656d5\", element=\"41eff58e-f1ca-4c63-b3ac-a299e3b66954\")>,\n",
       " <selenium.webdriver.remote.webelement.WebElement (session=\"48cbc75d27f03caa79cf460b5b6656d5\", element=\"cdb5a2b4-c57d-4643-b73f-0367bd8a2661\")>,\n",
       " <selenium.webdriver.remote.webelement.WebElement (session=\"48cbc75d27f03caa79cf460b5b6656d5\", element=\"577a9d97-abec-4fb3-a85c-81a21ccdd0e3\")>,\n",
       " <selenium.webdriver.remote.webelement.WebElement (session=\"48cbc75d27f03caa79cf460b5b6656d5\", element=\"4e5de59d-901f-4a19-88bc-24fc5b0804f6\")>,\n",
       " <selenium.webdriver.remote.webelement.WebElement (session=\"48cbc75d27f03caa79cf460b5b6656d5\", element=\"3fa63a4b-7682-41e3-aa51-0136675cd25a\")>,\n",
       " <selenium.webdriver.remote.webelement.WebElement (session=\"48cbc75d27f03caa79cf460b5b6656d5\", element=\"1aea4ed4-8507-4caa-af15-5c591b42e246\")>,\n",
       " <selenium.webdriver.remote.webelement.WebElement (session=\"48cbc75d27f03caa79cf460b5b6656d5\", element=\"eeb9cb4b-3e63-494c-854d-b13713e45004\")>,\n",
       " <selenium.webdriver.remote.webelement.WebElement (session=\"48cbc75d27f03caa79cf460b5b6656d5\", element=\"bd7e6716-74c4-41ea-a4d7-0b0699dde3d5\")>,\n",
       " <selenium.webdriver.remote.webelement.WebElement (session=\"48cbc75d27f03caa79cf460b5b6656d5\", element=\"db261129-dc0c-49e4-9081-c6deefb50299\")>,\n",
       " <selenium.webdriver.remote.webelement.WebElement (session=\"48cbc75d27f03caa79cf460b5b6656d5\", element=\"ab30f75c-28a3-49ce-bd69-497a274ec1df\")>,\n",
       " <selenium.webdriver.remote.webelement.WebElement (session=\"48cbc75d27f03caa79cf460b5b6656d5\", element=\"d3d94608-b8b8-4550-927f-7450fbc3db2e\")>]"
      ]
     },
     "execution_count": 147,
     "metadata": {},
     "output_type": "execute_result"
    }
   ],
   "source": [
    "# so lets extract all the tags having the laptop ratings\n",
    "laptop_ratings=driver.find_elements_by_xpath(\"//i[@class='a-icon a-icon-star-small a-star-small-4 aok-align-bottom']\")\n",
    "laptop_ratings"
   ]
  },
  {
   "cell_type": "code",
   "execution_count": 148,
   "metadata": {},
   "outputs": [
    {
     "data": {
      "text/plain": [
       "[]"
      ]
     },
     "execution_count": 148,
     "metadata": {},
     "output_type": "execute_result"
    }
   ],
   "source": [
    "laptop_ratings=[]\n",
    "\n",
    "for i in laptop_ratings:\n",
    "    laptop_ratings_stars.append(i.icon-star)\n",
    "laptop_ratings "
   ]
  },
  {
   "cell_type": "code",
   "execution_count": 149,
   "metadata": {},
   "outputs": [
    {
     "data": {
      "text/plain": [
       "[<selenium.webdriver.remote.webelement.WebElement (session=\"48cbc75d27f03caa79cf460b5b6656d5\", element=\"3c409952-3275-42b3-a9c6-0a642a47deb7\")>,\n",
       " <selenium.webdriver.remote.webelement.WebElement (session=\"48cbc75d27f03caa79cf460b5b6656d5\", element=\"f2906768-5832-47c5-be57-6e235fc40f77\")>,\n",
       " <selenium.webdriver.remote.webelement.WebElement (session=\"48cbc75d27f03caa79cf460b5b6656d5\", element=\"e55c13b3-1d88-44aa-9617-93d2cdda3af0\")>,\n",
       " <selenium.webdriver.remote.webelement.WebElement (session=\"48cbc75d27f03caa79cf460b5b6656d5\", element=\"87575173-c952-4046-be22-3dfbb1b97c43\")>,\n",
       " <selenium.webdriver.remote.webelement.WebElement (session=\"48cbc75d27f03caa79cf460b5b6656d5\", element=\"b6d7d210-65ba-4c2d-ac99-0e059e272aeb\")>,\n",
       " <selenium.webdriver.remote.webelement.WebElement (session=\"48cbc75d27f03caa79cf460b5b6656d5\", element=\"a570043f-dc0f-41c9-81e7-e4c4618601fc\")>,\n",
       " <selenium.webdriver.remote.webelement.WebElement (session=\"48cbc75d27f03caa79cf460b5b6656d5\", element=\"88abfe87-f479-4c4d-ad93-b608b5e482a2\")>,\n",
       " <selenium.webdriver.remote.webelement.WebElement (session=\"48cbc75d27f03caa79cf460b5b6656d5\", element=\"da7fe103-7d4a-4d11-bcc3-20100c0558a5\")>,\n",
       " <selenium.webdriver.remote.webelement.WebElement (session=\"48cbc75d27f03caa79cf460b5b6656d5\", element=\"203c4e57-4907-45b6-b2f3-02451203cbdf\")>,\n",
       " <selenium.webdriver.remote.webelement.WebElement (session=\"48cbc75d27f03caa79cf460b5b6656d5\", element=\"3fd43396-e31c-4062-9fdb-86e534684a67\")>,\n",
       " <selenium.webdriver.remote.webelement.WebElement (session=\"48cbc75d27f03caa79cf460b5b6656d5\", element=\"2e148165-8f2a-4818-b83b-c5140f1dc146\")>,\n",
       " <selenium.webdriver.remote.webelement.WebElement (session=\"48cbc75d27f03caa79cf460b5b6656d5\", element=\"e9d15fc3-1b4f-4739-8e17-9efa7ca0f75f\")>,\n",
       " <selenium.webdriver.remote.webelement.WebElement (session=\"48cbc75d27f03caa79cf460b5b6656d5\", element=\"888c6b43-36be-47e8-91f4-c55a46e1f422\")>,\n",
       " <selenium.webdriver.remote.webelement.WebElement (session=\"48cbc75d27f03caa79cf460b5b6656d5\", element=\"ff632370-ecf8-43f8-aa4d-8830fe83badd\")>,\n",
       " <selenium.webdriver.remote.webelement.WebElement (session=\"48cbc75d27f03caa79cf460b5b6656d5\", element=\"2c795ddb-5186-4a5f-b19c-0da3e3b2f383\")>,\n",
       " <selenium.webdriver.remote.webelement.WebElement (session=\"48cbc75d27f03caa79cf460b5b6656d5\", element=\"a2a071c2-fa3e-48f0-904f-954318a29245\")>,\n",
       " <selenium.webdriver.remote.webelement.WebElement (session=\"48cbc75d27f03caa79cf460b5b6656d5\", element=\"467f8d1c-b9ee-4775-ab57-0314beeb2d5e\")>,\n",
       " <selenium.webdriver.remote.webelement.WebElement (session=\"48cbc75d27f03caa79cf460b5b6656d5\", element=\"97c85582-151f-420d-8e0c-d6b2698b80a0\")>,\n",
       " <selenium.webdriver.remote.webelement.WebElement (session=\"48cbc75d27f03caa79cf460b5b6656d5\", element=\"a7f60ba0-3c53-44f3-8ca3-a4f141a88004\")>,\n",
       " <selenium.webdriver.remote.webelement.WebElement (session=\"48cbc75d27f03caa79cf460b5b6656d5\", element=\"494438d8-5f19-4f22-9a3b-68efb1c30960\")>,\n",
       " <selenium.webdriver.remote.webelement.WebElement (session=\"48cbc75d27f03caa79cf460b5b6656d5\", element=\"3a12e2db-2f1b-4faf-b160-74bf95d231be\")>]"
      ]
     },
     "execution_count": 149,
     "metadata": {},
     "output_type": "execute_result"
    }
   ],
   "source": [
    "# so lets extract all the tags having the price required data\n",
    "price_tags=driver.find_elements_by_xpath(\"//span[@class='a-price-whole']\")\n",
    "price_tags"
   ]
  },
  {
   "cell_type": "code",
   "execution_count": 150,
   "metadata": {},
   "outputs": [
    {
     "data": {
      "text/plain": [
       "['43,902',\n",
       " '56,990',\n",
       " '27,999',\n",
       " '28,990',\n",
       " '41,990',\n",
       " '3,755',\n",
       " '18,990',\n",
       " '29,291',\n",
       " '19,790',\n",
       " '29,990',\n",
       " '63,556',\n",
       " '41,490',\n",
       " '27,000',\n",
       " '27,700',\n",
       " '29,999',\n",
       " '35,790',\n",
       " '26,200',\n",
       " '58,490',\n",
       " '71,056',\n",
       " '62,990',\n",
       " '1,17,903']"
      ]
     },
     "execution_count": 150,
     "metadata": {},
     "output_type": "execute_result"
    }
   ],
   "source": [
    "price_list=[]\n",
    "for i in price_tags:\n",
    "    price_list.append(i.text)\n",
    "price_list"
   ]
  },
  {
   "cell_type": "code",
   "execution_count": null,
   "metadata": {},
   "outputs": [],
   "source": []
  }
 ],
 "metadata": {
  "kernelspec": {
   "display_name": "Python 3",
   "language": "python",
   "name": "python3"
  },
  "language_info": {
   "codemirror_mode": {
    "name": "ipython",
    "version": 3
   },
   "file_extension": ".py",
   "mimetype": "text/x-python",
   "name": "python",
   "nbconvert_exporter": "python",
   "pygments_lexer": "ipython3",
   "version": "3.8.5"
  }
 },
 "nbformat": 4,
 "nbformat_minor": 4
}
